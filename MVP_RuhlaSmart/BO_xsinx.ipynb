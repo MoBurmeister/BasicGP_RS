{
 "cells": [
  {
   "cell_type": "code",
   "execution_count": 1,
   "metadata": {},
   "outputs": [],
   "source": [
    "#necessary imports\n",
    "import torch\n",
    "from botorch.models import SingleTaskGP\n",
    "from botorch.fit import fit_gpytorch_model\n",
    "from botorch.optim import optimize_acqf\n",
    "from botorch.acquisition import ExpectedImprovement, UpperConfidenceBound\n",
    "from botorch.utils import standardize\n",
    "from gpytorch.mlls import ExactMarginalLogLikelihood\n",
    "from gpytorch.constraints import GreaterThan\n",
    "from torch.optim import Adam\n",
    "import math\n",
    "import numpy as np\n",
    "import matplotlib.pyplot as plt"
   ]
  },
  {
   "cell_type": "code",
   "execution_count": 2,
   "metadata": {},
   "outputs": [],
   "source": [
    "#model definition and overall setup\n",
    "\n",
    "def setup_model(train_X, train_Y):\n",
    "    #setup the GP model\n",
    "    model = SingleTaskGP(train_X=train_X, train_Y=train_Y)\n",
    "    #setup the noise constraints\n",
    "    model.likelihood.noise_covar.register_constraint(\"raw_noise\", GreaterThan(1e-5))\n",
    "    #setup the marginal log likelihood\n",
    "    mll = ExactMarginalLogLikelihood(likelihood=model.likelihood, model=model)\n",
    "    #setup to specific dtype\n",
    "    mll = mll.to(train_X)\n",
    "    #define optimizer\n",
    "    optimizer = Adam([{\"params\": model.parameters()}], lr=0.1)\n",
    "\n",
    "    return model, mll, optimizer"
   ]
  },
  {
   "cell_type": "code",
   "execution_count": null,
   "metadata": {},
   "outputs": [],
   "source": []
  },
  {
   "cell_type": "code",
   "execution_count": 3,
   "metadata": {},
   "outputs": [
    {
     "name": "stdout",
     "output_type": "stream",
     "text": [
      "cpu\n"
     ]
    }
   ],
   "source": [
    "#General setup:\n",
    "#use a GPU if available\n",
    "device = torch.device(\"cuda\" if torch.cuda.is_available() else \"cpu\")\n",
    "dtype = torch.float64\n",
    "print(device)"
   ]
  },
  {
   "cell_type": "code",
   "execution_count": 4,
   "metadata": {},
   "outputs": [],
   "source": [
    "#training loop: trains the model on the current available data\n",
    "def train_loop(gp_model: SingleTaskGP, mll: ExactMarginalLogLikelihood, optimizer: Adam, train_X: torch.Tensor, train_Y: torch.Tensor, num_epochs: int):\n",
    "    gp_model.train()\n",
    "\n",
    "    for epoch in range(num_epochs):\n",
    "        #clear gradients\n",
    "        optimizer.zero_grad()\n",
    "        #forward pass through the model to obtain the output MultivariateNormal\n",
    "        output = gp_model(train_X)\n",
    "        #Compute negative marginal log likelihood\n",
    "        loss = -mll(output, gp_model.train_targets) #ANNOTATION: this was changed here from gp_model.train_targets to train_Y - what difference does it make?\n",
    "        #back prop gradients\n",
    "        loss.backward()\n",
    "        #print every 10 iterations\n",
    "        if (epoch + 1) % 10 == 0:\n",
    "            print(\n",
    "                f\"Epoch {epoch+1:>3}/{num_epochs} - Loss: {loss.item():>4.3f} \"\n",
    "                f\"lengthscale: {gp_model.covar_module.base_kernel.lengthscale.item():>4.3f} \"\n",
    "                f\"noise: {gp_model.likelihood.noise.item():>4.3f}\"\n",
    "            )\n",
    "        optimizer.step()\n"
   ]
  },
  {
   "cell_type": "code",
   "execution_count": 5,
   "metadata": {},
   "outputs": [],
   "source": [
    "#define acquisition function and optimize it based on the currently trained model: returns next parameter setting to observe in real world\n",
    "\n",
    "#add bounds as input?\n",
    "\n",
    "def return_next_parameter_setting(gp_model: SingleTaskGP, train_X: torch.Tensor, train_Y: torch.Tensor, bounds: torch.tensor):\n",
    "    #acquisition function set here to maximization!\n",
    "    EI = ExpectedImprovement(model=gp_model, best_f=train_Y.max(), maximize=True)\n",
    "    candidate, acq_value = optimize_acqf(\n",
    "        acq_function=EI,\n",
    "        bounds=bounds,\n",
    "        #looking for the next single best point:\n",
    "        q=1,\n",
    "        #number of times the optimization restarts to avoid local maxima:\n",
    "        num_restarts=80,\n",
    "        #number of randomly sampled points used to initilize the optimization of the acquisition function\n",
    "        raw_samples=400,  # Vary depending on the problem\n",
    "    )\n",
    "\n",
    "    # UCB = UpperConfidenceBound(model=gp_model, beta=3.0)  # Tune beta as needed\n",
    "    # candidate, acq_value = optimize_acqf(\n",
    "    #     acq_function=UCB,\n",
    "    #     bounds=bounds,\n",
    "    #     q=1,\n",
    "    #     num_restarts=20,\n",
    "    #     raw_samples=100,\n",
    "    # )\n",
    "\n",
    "    print(f\"Next suggested x-point: {candidate}\")\n",
    "    return candidate\n"
   ]
  },
  {
   "cell_type": "code",
   "execution_count": 6,
   "metadata": {},
   "outputs": [],
   "source": [
    "#acquire new observation data\n",
    "\n",
    "def acquire_datapoint(candidate: torch.Tensor, function: callable):\n",
    "    #extract scalar value\n",
    "    point_to_evaluate = candidate.squeeze()\n",
    "    #extract point - add dimension to be able to use it in the gt_function later\n",
    "    function_value = function(point_to_evaluate.unsqueeze(-1))\n",
    "    function_value = function_value.unsqueeze(1)\n",
    "    print(f\"Next acquired y-point: {function_value}\")\n",
    "    return function_value\n"
   ]
  },
  {
   "cell_type": "code",
   "execution_count": 7,
   "metadata": {},
   "outputs": [],
   "source": [
    "#function to show the currently trained model and the acquisition function graph below it in a seperate \n",
    "\n",
    "def plot_gp_and_acquisition(model, train_X, train_Y, bounds, ax=None):\n",
    "    #set model to eval mode\n",
    "    model.eval()\n",
    "\n",
    "    #define points for plotting\n",
    "    with torch.no_grad():\n",
    "        #range of points for plotting\n",
    "        test_x = torch.linspace(bounds[0, 0], bounds[1, 0], 100).unsqueeze(-1)  # Corrected access here\n",
    "        test_x = test_x.to(train_X.device, dtype=train_X.dtype)\n",
    "        test_x = test_x.unsqueeze(-2)  # Add batch dimension for acquisition function\n",
    "        posterior = model.posterior(test_x)\n",
    "        mean = posterior.mean.squeeze(-1)\n",
    "        #get lower and upper confidence bounds (2 standard deviations)\n",
    "        lower, upper = posterior.mvn.confidence_region()\n",
    "\n",
    "    # Plotting the GP mean and confidence interval\n",
    "    if ax is None:\n",
    "        fig, ax = plt.subplots(2, 1, figsize=(10, 8))\n",
    "\n",
    "    # For plotting, remove the batch dimension\n",
    "    test_x_plot = test_x.squeeze(-2).detach()  # Adjust shape for plotting\n",
    "\n",
    "    ax[0].plot(train_X.cpu().numpy(), train_Y.cpu().numpy(), 'ko')\n",
    "    ax[0].plot(test_x_plot.cpu().numpy(), mean.cpu().numpy(), 'b')\n",
    "    ax[0].fill_between(test_x.cpu().numpy().flatten(), lower.cpu().numpy().flatten(), upper.cpu().numpy().flatten(), alpha=0.5)  # Flatten the tensors to make them 1D    ax[0].set_title(\"Gaussian Process and Observed Data\")\n",
    "    ax[0].legend(['Observed Data', 'Mean', 'Confidence'])\n",
    "    \n",
    "    # Acquisition function plot\n",
    "    EI = ExpectedImprovement(model=model, best_f=standardize(train_Y).max(), maximize=True)\n",
    "    acq_values = EI(test_x).detach()\n",
    "\n",
    "    ax[1].plot(test_x_plot.cpu().numpy(), acq_values.cpu().numpy(), 'g-')\n",
    "    ax[1].set_title(\"Acquisition Function\")\n",
    "    ax[1].set_xlabel(\"Input space\")\n",
    "    ax[1].set_ylabel(\"Acquisition Value\")\n",
    "    \n",
    "    plt.tight_layout()\n",
    "    plt.show()"
   ]
  },
  {
   "cell_type": "code",
   "execution_count": 8,
   "metadata": {},
   "outputs": [],
   "source": [
    "#Update old dataset: \n",
    "\n",
    "def update_dataset(old_data_X: torch.tensor, old_data_Y: torch.tensor, new_single_X: torch.tensor, new_single_Y: torch.tensor):\n",
    "    \n",
    "    new_train_X = torch.cat([old_data_X, new_single_X], 0)\n",
    "    new_train_Y = torch.cat([old_data_Y, new_single_Y], 0)\n",
    "\n",
    "    return new_train_X, new_train_Y"
   ]
  },
  {
   "cell_type": "code",
   "execution_count": 9,
   "metadata": {},
   "outputs": [],
   "source": [
    "#function to implement the new point in the training data and refine the model: condition_on_observations\n",
    "\n",
    "def refine_gp_model(gp_model: SingleTaskGP, new_train_X, new_train_Y):\n",
    "    #return the refined model:\n",
    "    # TODO: detaching the data is necessary?\n",
    "    return gp_model.condition_on_observations(new_train_X, new_train_Y)"
   ]
  },
  {
   "cell_type": "code",
   "execution_count": 10,
   "metadata": {},
   "outputs": [],
   "source": [
    "#setup initial dataset\n",
    "#use regular spaced points on the interval [0, 6] -> here 4 equally spaced points between 0 and 6\n",
    "train_X = torch.linspace(0, 6, 2, dtype=dtype, device=device)\n",
    "#training data needs to be explicitly multi-dimensional, here from 1-dimensional to 2-dimensional\n",
    "train_X = train_X.unsqueeze(1)\n",
    "\n",
    "#setup function: \n",
    "\n",
    "def gt_function(x_values: torch.tensor):\n",
    "    #original function: x*sin(x) with added noise\n",
    "    return x_values * torch.sin(x_values) + 0.2 * torch.randn_like(x_values)\n",
    "\n",
    "#sample observed values and add some synthetic noise\n",
    "train_Y = gt_function(train_X)"
   ]
  },
  {
   "cell_type": "code",
   "execution_count": 15,
   "metadata": {},
   "outputs": [
    {
     "data": {
      "text/plain": [
       "torch.Size([2, 1])"
      ]
     },
     "execution_count": 15,
     "metadata": {},
     "output_type": "execute_result"
    }
   ],
   "source": [
    "train_X.shape"
   ]
  },
  {
   "cell_type": "code",
   "execution_count": 11,
   "metadata": {},
   "outputs": [
    {
     "data": {
      "image/png": "[encoded data removed]",
      "text/plain": [
       "<Figure size 1000x500 with 1 Axes>"
      ]
     },
     "metadata": {},
     "output_type": "display_data"
    }
   ],
   "source": [
    "# Define a fine grid over the interval [0, 6] for plotting the true function\n",
    "x_values = torch.linspace(0, 6, 100).unsqueeze(1)\n",
    "y_values = x_values * torch.sin(x_values)\n",
    "\n",
    "#Plotting the noise data points and the original function x*sin(x)\n",
    "plt.figure(figsize=(10, 5))\n",
    "plt.plot(x_values.cpu().numpy(), y_values.cpu().numpy(), label='True Function $x\\sin(x)$')\n",
    "plt.scatter(train_X.cpu().numpy(), train_Y.cpu().numpy(), label='Data Points with noise')\n",
    "plt.title('Training Data with True Function')\n",
    "plt.xlabel('x')\n",
    "plt.ylabel('y')\n",
    "plt.legend()\n",
    "plt.grid(True)\n",
    "plt.show()"
   ]
  },
  {
   "cell_type": "code",
   "execution_count": 450,
   "metadata": {},
   "outputs": [],
   "source": [
    "#iterative loop function: \n",
    "\n",
    "def optimization_loop(model: SingleTaskGP, train_X: torch.tensor, train_Y: torch.tensor, n_iterations: int, bounds: torch.tensor):\n",
    "\n",
    "    for iteration in range(n_iterations):\n",
    "        #plot the graph and acquisition function\n",
    "        plot_gp_and_acquisition(model, train_X, train_Y, bounds) \n",
    "        #determine next parameter setting:\n",
    "        next_x_setting = return_next_parameter_setting(model, train_X, train_Y, bounds)\n",
    "        #acquire next observation value: \n",
    "        next_y_observation = acquire_datapoint(next_x_setting, gt_function)\n",
    "        #update the dataset:\n",
    "        train_X, train_Y = update_dataset(train_X, train_Y, next_x_setting, next_y_observation)\n",
    "        #redefine model:\n",
    "        model = refine_gp_model(model, train_X, train_Y)\n",
    "\n",
    "        "
   ]
  },
  {
   "cell_type": "code",
   "execution_count": 451,
   "metadata": {},
   "outputs": [],
   "source": [
    "#optimization and training in one loop:\n",
    "\n",
    "def training_optimization_loop(model: SingleTaskGP, mll, optimizer: Adam, train_X: torch.tensor, train_Y: torch.tensor, n_iterations: int, bounds: torch.tensor, num_epochs: int):\n",
    "\n",
    "    #initial training of the model: \n",
    "    train_loop(model, mll, optimizer, train_X, train_Y, num_epochs)\n",
    "\n",
    "    #optimization loop: \n",
    "    optimization_loop(model, train_X, train_Y, n_iterations, bounds)"
   ]
  },
  {
   "cell_type": "code",
   "execution_count": 13,
   "metadata": {},
   "outputs": [
    {
     "name": "stderr",
     "output_type": "stream",
     "text": [
      "c:\\Users\\Moritz\\anaconda3\\envs\\TL_GP\\lib\\site-packages\\botorch\\models\\utils\\assorted.py:174: InputDataWarning: Input data is not contained to the unit cube. Please consider min-max scaling the input data.\n",
      "  warnings.warn(msg, InputDataWarning)\n",
      "c:\\Users\\Moritz\\anaconda3\\envs\\TL_GP\\lib\\site-packages\\botorch\\models\\utils\\assorted.py:202: InputDataWarning: Input data is not standardized (mean = tensor([-0.8596], dtype=torch.float64), std = tensor([1.2323], dtype=torch.float64)). Please consider scaling the input to zero mean and unit variance.\n",
      "  warnings.warn(msg, InputDataWarning)\n"
     ]
    }
   ],
   "source": [
    "model, mll, optimizer = setup_model(train_X, train_Y)"
   ]
  },
  {
   "cell_type": "code",
   "execution_count": 14,
   "metadata": {},
   "outputs": [
    {
     "name": "stdout",
     "output_type": "stream",
     "text": [
      "<class 'list'>\n"
     ]
    }
   ],
   "source": [
    "print(type([{\"params\": model.parameters()}]))"
   ]
  },
  {
   "cell_type": "code",
   "execution_count": 12,
   "metadata": {},
   "outputs": [
    {
     "name": "stderr",
     "output_type": "stream",
     "text": [
      "c:\\Users\\Moritz\\anaconda3\\envs\\TL_GP\\lib\\site-packages\\botorch\\models\\utils\\assorted.py:174: InputDataWarning: Input data is not contained to the unit cube. Please consider min-max scaling the input data.\n",
      "  warnings.warn(msg, InputDataWarning)\n",
      "c:\\Users\\Moritz\\anaconda3\\envs\\TL_GP\\lib\\site-packages\\botorch\\models\\utils\\assorted.py:202: InputDataWarning: Input data is not standardized (mean = tensor([-0.8596], dtype=torch.float64), std = tensor([1.2323], dtype=torch.float64)). Please consider scaling the input to zero mean and unit variance.\n",
      "  warnings.warn(msg, InputDataWarning)\n"
     ]
    },
    {
     "name": "stdout",
     "output_type": "stream",
     "text": [
      "initial x-points: tensor([[0.],\n",
      "        [6.]], dtype=torch.float64)\n",
      "initial y-points: tensor([[ 0.0118],\n",
      "        [-1.7310]], dtype=torch.float64)\n"
     ]
    },
    {
     "ename": "NameError",
     "evalue": "name 'training_optimization_loop' is not defined",
     "output_type": "error",
     "traceback": [
      "\u001b[1;31m---------------------------------------------------------------------------\u001b[0m",
      "\u001b[1;31mNameError\u001b[0m                                 Traceback (most recent call last)",
      "Cell \u001b[1;32mIn[12], line 10\u001b[0m\n\u001b[0;32m      7\u001b[0m \u001b[38;5;28mprint\u001b[39m(\u001b[38;5;124mf\u001b[39m\u001b[38;5;124m\"\u001b[39m\u001b[38;5;124minitial x-points: \u001b[39m\u001b[38;5;132;01m{\u001b[39;00mtrain_X\u001b[38;5;132;01m}\u001b[39;00m\u001b[38;5;124m\"\u001b[39m)\n\u001b[0;32m      8\u001b[0m \u001b[38;5;28mprint\u001b[39m(\u001b[38;5;124mf\u001b[39m\u001b[38;5;124m\"\u001b[39m\u001b[38;5;124minitial y-points: \u001b[39m\u001b[38;5;132;01m{\u001b[39;00mtrain_Y\u001b[38;5;132;01m}\u001b[39;00m\u001b[38;5;124m\"\u001b[39m)\n\u001b[1;32m---> 10\u001b[0m \u001b[43mtraining_optimization_loop\u001b[49m(model, mll, optimizer, train_X, train_Y, n_iterations\u001b[38;5;241m=\u001b[39m\u001b[38;5;241m30\u001b[39m, bounds\u001b[38;5;241m=\u001b[39mbounds, num_epochs\u001b[38;5;241m=\u001b[39m\u001b[38;5;241m150\u001b[39m)\n",
      "\u001b[1;31mNameError\u001b[0m: name 'training_optimization_loop' is not defined"
     ]
    }
   ],
   "source": [
    "#run loop:\n",
    "bounds = torch.tensor([[0.0], [6.0]], dtype=torch.float32)\n",
    "n_iterations = 10\n",
    "\n",
    "model, mll, optimizer = setup_model(train_X, train_Y)\n",
    "\n",
    "print(f\"initial x-points: {train_X}\")\n",
    "print(f\"initial y-points: {train_Y}\")\n",
    "\n",
    "training_optimization_loop(model, mll, optimizer, train_X, train_Y, n_iterations=30, bounds=bounds, num_epochs=150)\n",
    "\n"
   ]
  },
  {
   "cell_type": "code",
   "execution_count": null,
   "metadata": {},
   "outputs": [],
   "source": [
    "print(type([{\"params\": model.parameters()}]))"
   ]
  },
  {
   "cell_type": "code",
   "execution_count": null,
   "metadata": {},
   "outputs": [],
   "source": [
    "#Is this important for me? What effect does it have?\n",
    "'''\n",
    "If targets is a batch (e.g. b x m), \n",
    "then the GP returned from this method will be a batch mode GP. \n",
    "If inputs is of the same (or lesser) dimension as targets, \n",
    "then it is assumed that the fantasy points are the same for each target batch.\n",
    "'''"
   ]
  },
  {
   "cell_type": "code",
   "execution_count": null,
   "metadata": {},
   "outputs": [],
   "source": [
    "'''\n",
    "Open questions: \n",
    "-Stopping criteria? When do i stop the observation-optimization-loop? - Probably over the acquisition function\n",
    "-When to retrain the hyperparameter setup?\n",
    "-How do i exactly incorporate the noise or more specific: how do I set the noise level constraints in a correct way? I determine them from the dataset? How is the lower bound set?\n",
    "-Should i package everything into one bigger loop? What is then the stop criteria? - Should be dependent on the acquisition function\n",
    "'''"
   ]
  }
 ],
 "metadata": {
  "kernelspec": {
   "display_name": "TL_GP",
   "language": "python",
   "name": "python3"
  },
  "language_info": {
   "codemirror_mode": {
    "name": "ipython",
    "version": 3
   },
   "file_extension": ".py",
   "mimetype": "text/x-python",
   "name": "python",
   "nbconvert_exporter": "python",
   "pygments_lexer": "ipython3",
   "version": "3.10.14"
  }
 },
 "nbformat": 4,
 "nbformat_minor": 2
}
