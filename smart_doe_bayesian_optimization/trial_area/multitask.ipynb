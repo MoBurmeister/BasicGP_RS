{
 "cells": [
  {
   "cell_type": "code",
   "execution_count": 15,
   "metadata": {},
   "outputs": [],
   "source": [
    "# import torch\n",
    "\n",
    "# def sinusoidal_objectives(X, variation_factor):\n",
    "#     objective1 = torch.sum(torch.sin(X * 2 * torch.pi) + variation_factor * torch.cos(X * 2 * torch.pi), dim=1)\n",
    "#     objective2 = torch.sum(torch.sin(X * 4 * torch.pi + variation_factor) - variation_factor * torch.cos(X * 4 * torch.pi), dim=1)\n",
    "#     return objective1, objective2\n"
   ]
  },
  {
   "cell_type": "code",
   "execution_count": 16,
   "metadata": {},
   "outputs": [],
   "source": [
    "# import torch\n",
    "\n",
    "# # Define the bounds tensor (2 x d) for d=3 input dimensions\n",
    "# bounds = torch.tensor([[0.0, 0.0, 0.0],  # Lower bounds for each dimension\n",
    "#                        [1.0, 1.0, 1.0]]) # Upper bounds for each dimension\n",
    "\n",
    "# def generate_single_dataset(bounds, num_samples, variation_factor):\n",
    "#     # Generate random input data within the specified bounds\n",
    "#     X = bounds[0] + (bounds[1] - bounds[0]) * torch.rand(num_samples, bounds.shape[1])\n",
    "    \n",
    "#     # Calculate the objective values using the sinusoidal_objectives function\n",
    "#     objective1, objective2 = sinusoidal_objectives(X, variation_factor)\n",
    "    \n",
    "#     # Combine the objectives to form the output dataset (train_Y)\n",
    "#     Y = torch.stack([objective1, objective2], dim=1)\n",
    "    \n",
    "#     return X, Y\n",
    "\n",
    "# # Number of samples for each dataset\n",
    "# num_samples_1 = 50\n",
    "# num_samples_2 = 100\n",
    "# num_samples_3 = 5\n",
    "\n",
    "# # Different variation factors for each dataset\n",
    "# variation_factor_1 = 0.5\n",
    "# variation_factor_2 = 1.0\n",
    "# variation_factor_3 = 1.5\n",
    "\n",
    "# # Generate the three datasets\n",
    "# train_X1, train_Y1 = generate_single_dataset(bounds, num_samples_1, variation_factor_1)\n",
    "# train_X2, train_Y2 = generate_single_dataset(bounds, num_samples_2, variation_factor_2)\n",
    "# train_X3, train_Y3 = generate_single_dataset(bounds, num_samples_3, variation_factor_3)\n",
    "\n",
    "# # Now you have three separate datasets:\n",
    "# # - train_X1, train_Y1: First dataset with `num_samples_1` points\n",
    "# # - train_X2, train_Y2: Second dataset with `num_samples_2` points\n",
    "# # - train_X3, train_Y3: Third dataset with `num_samples_3` points\n",
    "\n",
    "# print(\"First dataset:\")\n",
    "# print(train_X1.shape, train_Y1.shape)\n",
    "\n",
    "# print(\"Second dataset:\")\n",
    "# print(train_X2.shape, train_Y2.shape)\n",
    "\n",
    "# print(\"Third dataset:\")\n",
    "# print(train_X3.shape, train_Y3.shape)\n"
   ]
  },
  {
   "cell_type": "code",
   "execution_count": 17,
   "metadata": {},
   "outputs": [],
   "source": [
    "# import torch\n",
    "\n",
    "# # Assume train_X1, train_X2, train_X3, train_Y1, train_Y2, train_Y3 are already defined\n",
    "\n",
    "# def prepare_multitask_data(train_X_list, train_Y_list):\n",
    "#     all_X = []\n",
    "#     all_Y1 = []\n",
    "#     all_Y2 = []\n",
    "    \n",
    "#     for i, (X, Y) in enumerate(zip(train_X_list, train_Y_list)):\n",
    "#         # Add task feature as the last column in train_X\n",
    "#         task_feature = torch.full((X.shape[0], 1), i, dtype=X.dtype)\n",
    "#         X_augmented = torch.cat([X, task_feature], dim=1)\n",
    "#         all_X.append(X_augmented)\n",
    "        \n",
    "#         # Split train_Y into two columns and store separately\n",
    "#         all_Y1.append(Y[:, 0:1])  # Objective 1\n",
    "#         all_Y2.append(Y[:, 1:2])  # Objective 2\n",
    "    \n",
    "#     # Concatenate all data across datasets\n",
    "#     combined_X = torch.cat(all_X, dim=0)\n",
    "#     combined_Y1 = torch.cat(all_Y1, dim=0)\n",
    "#     combined_Y2 = torch.cat(all_Y2, dim=0)\n",
    "    \n",
    "#     return combined_X, combined_Y1, combined_Y2\n",
    "\n",
    "# # Prepare data for two multi-task GP models\n",
    "# train_X_list = [train_X1, train_X2, train_X3]\n",
    "# train_Y_list = [train_Y1, train_Y2, train_Y3]\n",
    "\n",
    "# # Call the function to prepare the data\n",
    "# combined_X, combined_Y1, combined_Y2 = prepare_multitask_data(train_X_list, train_Y_list)\n",
    "\n",
    "# # Now combined_X is your input tensor, and combined_Y1, combined_Y2 are the target tensors\n"
   ]
  },
  {
   "cell_type": "markdown",
   "metadata": {},
   "source": [
    "NEW NEW"
   ]
  },
  {
   "cell_type": "code",
   "execution_count": 18,
   "metadata": {},
   "outputs": [],
   "source": [
    "import torch\n",
    "from torch import Tensor\n",
    "\n",
    "def generate_car_crash_synthetic_data(outputs, variation_factor):\n",
    "        '''\n",
    "        Generate synthetic data for the vehicle safety design function.\n",
    "        Variation factor is used to introduce noise to the data. It is a factor that is multiplied with the coefficients of the function.\n",
    "        '''\n",
    "        def evaluate_true(X: Tensor, coeffs) -> Tensor:\n",
    "            X1, X2, X3, X4, X5 = torch.split(X, 1, -1)\n",
    "            f1 = (\n",
    "                coeffs[0] \n",
    "                + coeffs[1] * X1\n",
    "                + coeffs[2] * X2\n",
    "                + coeffs[3] * X3\n",
    "                + coeffs[4] * X4\n",
    "                + coeffs[5] * X5\n",
    "            )\n",
    "            f2 = (\n",
    "                coeffs[6]\n",
    "                + coeffs[7] * X1\n",
    "                - coeffs[8] * X2\n",
    "                + coeffs[9] * X3\n",
    "                + coeffs[10] * X4\n",
    "                - coeffs[11] * X1 * X4\n",
    "                + coeffs[12] * X1 * X5\n",
    "                + coeffs[13] * X2 * X4\n",
    "                - coeffs[14] * X1.pow(2)\n",
    "                - coeffs[15] * X3.pow(2)\n",
    "                + coeffs[16] * X4.pow(2)\n",
    "            )\n",
    "            f3 = (\n",
    "                coeffs[17]\n",
    "                + coeffs[18] * X1\n",
    "                + coeffs[19] * X2\n",
    "                + coeffs[20] * X3\n",
    "                - coeffs[21] * X1 * X2\n",
    "                + coeffs[22] * X2 * X3\n",
    "                - coeffs[23] * X2 * X4\n",
    "                - coeffs[24] * X3 * X4\n",
    "                - coeffs[25] * X3 * X5\n",
    "                - coeffs[26] * X2.pow(2)\n",
    "                + coeffs[27] * X4.pow(2)\n",
    "            )\n",
    "            f_X = torch.cat([f1, f2, f3], dim=-1)\n",
    "            return f_X\n",
    "\n",
    "        base_coeffs = [\n",
    "            1640.2823, 2.3573285, 2.3220035, 4.5688768, 7.7213633, 4.4559504,\n",
    "            6.5856, 1.15, 1.0427, 0.9738, 0.8364, 0.3695, 0.0861, 0.3628, 0.1106,\n",
    "            0.3437, 0.1764, -0.0551, 0.0181, 0.1024, 0.0421, 0.0073, 0.024,\n",
    "            0.0118, 0.0204, 0.008, 0.0241, 0.0109\n",
    "        ]\n",
    "        \n",
    "        # Apply variation to coefficients\n",
    "        varied_coeffs = [coeff * (1 + variation_factor) for coeff in base_coeffs]\n",
    "        \n",
    "        outputs = evaluate_true(outputs, varied_coeffs)\n",
    "        expected_output_shape = 3\n",
    "\n",
    "        outputs = -outputs \n",
    "\n",
    "        return outputs, expected_output_shape"
   ]
  },
  {
   "cell_type": "code",
   "execution_count": 19,
   "metadata": {},
   "outputs": [
    {
     "name": "stdout",
     "output_type": "stream",
     "text": [
      "First dataset shapes:\n",
      "torch.Size([50, 5]) torch.Size([50, 3])\n",
      "Second dataset shapes:\n",
      "torch.Size([100, 5]) torch.Size([100, 3])\n",
      "Third dataset shapes:\n",
      "torch.Size([1, 5]) torch.Size([1, 3])\n"
     ]
    }
   ],
   "source": [
    "import torch\n",
    "\n",
    "# Define the bounds tensor (2 x d) for d=5 input dimensions\n",
    "bounds = torch.tensor([[1.0, 1.0, 1.0, 1.0, 1.0],  # Lower bounds for each dimension\n",
    "                       [3.0, 3.0, 3.0, 3.0, 3.0]]) # Upper bounds for each dimension\n",
    "\n",
    "def generate_synthetic_dataset(bounds, num_samples, variation_factor):\n",
    "    # Generate random input data within the specified bounds\n",
    "    X = bounds[0] + (bounds[1] - bounds[0]) * torch.rand(num_samples, bounds.shape[1])\n",
    "    \n",
    "    # Generate synthetic outputs using the provided function\n",
    "    outputs, expected_output_shape = generate_car_crash_synthetic_data(X, variation_factor)\n",
    "    \n",
    "    return X, outputs\n",
    "\n",
    "# Example number of samples for each dataset\n",
    "num_samples_1 = 50\n",
    "num_samples_2 = 100\n",
    "num_samples_3 = 1\n",
    "\n",
    "# Different variation factors for each dataset\n",
    "variation_factor_1 = 0.1\n",
    "variation_factor_2 = 0.2\n",
    "variation_factor_3 = 0.0\n",
    "\n",
    "# Generate the three datasets\n",
    "train_X1, train_Y1 = generate_synthetic_dataset(bounds, num_samples_1, variation_factor_1)\n",
    "train_X2, train_Y2 = generate_synthetic_dataset(bounds, num_samples_2, variation_factor_2)\n",
    "train_X3, train_Y3 = generate_synthetic_dataset(bounds, num_samples_3, variation_factor_3)\n",
    "\n",
    "# Now you have three separate datasets:\n",
    "# - train_X1, train_Y1: First dataset with `num_samples_1` points\n",
    "# - train_X2, train_Y2: Second dataset with `num_samples_2` points\n",
    "# - train_X3, train_Y3: Third dataset with `num_samples_3` points\n",
    "\n",
    "print(\"First dataset shapes:\")\n",
    "print(train_X1.shape, train_Y1.shape)\n",
    "\n",
    "print(\"Second dataset shapes:\")\n",
    "print(train_X2.shape, train_Y2.shape)\n",
    "\n",
    "print(\"Third dataset shapes:\")\n",
    "print(train_X3.shape, train_Y3.shape)\n"
   ]
  },
  {
   "cell_type": "code",
   "execution_count": 20,
   "metadata": {},
   "outputs": [
    {
     "name": "stdout",
     "output_type": "stream",
     "text": [
      "tensor([[-1.8623e+03, -1.1617e+01, -1.5922e-01],\n",
      "        [-1.8447e+03, -8.8363e+00, -2.2371e-01],\n",
      "        [-1.8574e+03, -1.1901e+01, -1.2755e-01],\n",
      "        [-1.8566e+03, -1.2201e+01, -9.8456e-02],\n",
      "        [-1.8404e+03, -9.5732e+00, -1.6346e-01],\n",
      "        [-1.8490e+03, -1.1651e+01, -9.2886e-02],\n",
      "        [-1.8530e+03, -1.1485e+01, -9.9348e-02],\n",
      "        [-1.8532e+03, -1.1167e+01, -1.4426e-01],\n",
      "        [-1.8473e+03, -9.5117e+00, -1.7538e-01],\n",
      "        [-1.8531e+03, -1.1727e+01, -8.4022e-02],\n",
      "        [-1.8519e+03, -1.0317e+01, -1.6875e-01],\n",
      "        [-1.8487e+03, -1.1069e+01, -1.1899e-01],\n",
      "        [-1.8443e+03, -9.9833e+00, -1.0182e-01],\n",
      "        [-1.8466e+03, -9.5695e+00, -1.1908e-01],\n",
      "        [-1.8538e+03, -1.1255e+01, -9.3466e-02],\n",
      "        [-1.8432e+03, -9.3707e+00, -9.4814e-02],\n",
      "        [-1.8520e+03, -1.1787e+01, -1.0707e-01],\n",
      "        [-1.8583e+03, -1.0796e+01, -1.8041e-01],\n",
      "        [-1.8483e+03, -9.6802e+00, -9.8940e-02],\n",
      "        [-1.8465e+03, -1.0532e+01, -1.0594e-01],\n",
      "        [-1.8466e+03, -8.8209e+00, -2.0776e-01],\n",
      "        [-1.8554e+03, -1.1629e+01, -1.2036e-01],\n",
      "        [-1.8487e+03, -9.4051e+00, -1.6231e-01],\n",
      "        [-1.8572e+03, -1.1604e+01, -1.2283e-01],\n",
      "        [-1.8562e+03, -1.2222e+01, -1.2931e-01],\n",
      "        [-1.8543e+03, -1.0451e+01, -1.5723e-01],\n",
      "        [-1.8398e+03, -9.1002e+00, -1.5655e-01],\n",
      "        [-1.8576e+03, -1.0072e+01, -1.4586e-01],\n",
      "        [-1.8568e+03, -1.1372e+01, -9.3589e-02],\n",
      "        [-1.8572e+03, -9.5934e+00, -1.6006e-01],\n",
      "        [-1.8508e+03, -8.4198e+00, -2.1745e-01],\n",
      "        [-1.8432e+03, -1.0216e+01, -1.0916e-01],\n",
      "        [-1.8508e+03, -1.0805e+01, -1.0921e-01],\n",
      "        [-1.8504e+03, -1.0200e+01, -1.3529e-01],\n",
      "        [-1.8433e+03, -1.0832e+01, -8.2839e-02],\n",
      "        [-1.8419e+03, -9.2563e+00, -1.5371e-01],\n",
      "        [-1.8594e+03, -1.0219e+01, -1.1704e-01],\n",
      "        [-1.8430e+03, -9.8650e+00, -1.4843e-01],\n",
      "        [-1.8420e+03, -8.5204e+00, -1.4735e-01],\n",
      "        [-1.8434e+03, -9.2475e+00, -1.1610e-01],\n",
      "        [-1.8520e+03, -1.0433e+01, -1.7816e-01],\n",
      "        [-1.8533e+03, -1.1392e+01, -9.8899e-02],\n",
      "        [-1.8513e+03, -1.0095e+01, -1.7486e-01],\n",
      "        [-1.8466e+03, -1.0793e+01, -8.2794e-02],\n",
      "        [-1.8404e+03, -1.0650e+01, -7.9567e-02],\n",
      "        [-1.8534e+03, -1.1432e+01, -1.0091e-01],\n",
      "        [-1.8488e+03, -1.0903e+01, -1.0258e-01],\n",
      "        [-1.8635e+03, -1.1806e+01, -1.1717e-01],\n",
      "        [-1.8491e+03, -1.1362e+01, -9.7722e-02],\n",
      "        [-1.8603e+03, -1.1872e+01, -1.1301e-01]])\n",
      "tensor([[-2.0226e+03, -1.3303e+01, -1.1937e-01],\n",
      "        [-2.0114e+03, -9.6207e+00, -1.9750e-01],\n",
      "        [-2.0066e+03, -1.0685e+01, -1.0446e-01],\n",
      "        [-2.0076e+03, -1.0961e+01, -1.2625e-01],\n",
      "        [-2.0138e+03, -1.0999e+01, -1.3440e-01],\n",
      "        [-2.0274e+03, -1.2489e+01, -1.5104e-01],\n",
      "        [-2.0196e+03, -1.0674e+01, -1.4399e-01],\n",
      "        [-2.0200e+03, -1.0866e+01, -1.3934e-01],\n",
      "        [-2.0257e+03, -1.1504e+01, -1.8030e-01],\n",
      "        [-2.0158e+03, -1.0782e+01, -1.7238e-01],\n",
      "        [-2.0237e+03, -1.0759e+01, -1.8317e-01],\n",
      "        [-2.0283e+03, -1.0365e+01, -1.8720e-01],\n",
      "        [-2.0159e+03, -8.8511e+00, -1.9299e-01],\n",
      "        [-2.0192e+03, -1.3088e+01, -1.3610e-01],\n",
      "        [-2.0359e+03, -1.2925e+01, -1.3246e-01],\n",
      "        [-2.0191e+03, -9.3724e+00, -1.8499e-01],\n",
      "        [-2.0136e+03, -1.1496e+01, -1.0926e-01],\n",
      "        [-2.0183e+03, -1.0024e+01, -2.0133e-01],\n",
      "        [-2.0129e+03, -1.1636e+01, -1.0532e-01],\n",
      "        [-2.0285e+03, -1.2826e+01, -1.0950e-01],\n",
      "        [-2.0290e+03, -1.3796e+01, -1.0770e-01],\n",
      "        [-2.0223e+03, -1.0252e+01, -1.9801e-01],\n",
      "        [-2.0253e+03, -1.0112e+01, -2.0655e-01],\n",
      "        [-2.0033e+03, -9.1992e+00, -1.4966e-01],\n",
      "        [-2.0214e+03, -1.0872e+01, -1.3972e-01],\n",
      "        [-2.0176e+03, -1.2747e+01, -1.2381e-01],\n",
      "        [-2.0131e+03, -1.0399e+01, -1.1453e-01],\n",
      "        [-2.0194e+03, -1.1702e+01, -1.5545e-01],\n",
      "        [-2.0166e+03, -9.1534e+00, -2.1061e-01],\n",
      "        [-2.0224e+03, -1.2579e+01, -7.6450e-02],\n",
      "        [-2.0361e+03, -1.2569e+01, -1.2831e-01],\n",
      "        [-2.0093e+03, -1.0738e+01, -1.4551e-01],\n",
      "        [-2.0332e+03, -1.2884e+01, -1.2610e-01],\n",
      "        [-2.0226e+03, -1.0264e+01, -2.0226e-01],\n",
      "        [-2.0091e+03, -1.1038e+01, -1.1311e-01],\n",
      "        [-2.0068e+03, -1.0758e+01, -1.1930e-01],\n",
      "        [-2.0275e+03, -1.2863e+01, -1.3309e-01],\n",
      "        [-2.0050e+03, -1.0544e+01, -1.3506e-01],\n",
      "        [-2.0359e+03, -1.2310e+01, -1.4848e-01],\n",
      "        [-2.0270e+03, -1.2813e+01, -1.4192e-01],\n",
      "        [-2.0229e+03, -1.3163e+01, -1.3918e-01],\n",
      "        [-2.0097e+03, -1.0430e+01, -1.1131e-01],\n",
      "        [-2.0119e+03, -9.6632e+00, -2.3103e-01],\n",
      "        [-2.0085e+03, -1.1326e+01, -1.1459e-01],\n",
      "        [-2.0263e+03, -1.2575e+01, -6.6410e-02],\n",
      "        [-2.0157e+03, -1.2051e+01, -1.0910e-01],\n",
      "        [-2.0101e+03, -9.3492e+00, -1.2344e-01],\n",
      "        [-2.0107e+03, -1.1092e+01, -1.5344e-01],\n",
      "        [-2.0069e+03, -1.0603e+01, -1.3610e-01],\n",
      "        [-2.0102e+03, -1.0903e+01, -1.4476e-01],\n",
      "        [-2.0126e+03, -1.1000e+01, -1.2753e-01],\n",
      "        [-2.0207e+03, -1.1656e+01, -1.4429e-01],\n",
      "        [-2.0201e+03, -1.3161e+01, -1.0272e-01],\n",
      "        [-2.0277e+03, -1.1158e+01, -1.6297e-01],\n",
      "        [-2.0186e+03, -1.1075e+01, -1.1588e-01],\n",
      "        [-2.0155e+03, -1.2835e+01, -1.0855e-01],\n",
      "        [-2.0182e+03, -9.9764e+00, -2.3113e-01],\n",
      "        [-2.0330e+03, -1.2154e+01, -1.4140e-01],\n",
      "        [-2.0143e+03, -9.8784e+00, -1.4608e-01],\n",
      "        [-2.0194e+03, -1.1881e+01, -9.2424e-02],\n",
      "        [-2.0105e+03, -1.0896e+01, -1.1131e-01],\n",
      "        [-2.0228e+03, -1.3697e+01, -1.0142e-01],\n",
      "        [-2.0216e+03, -1.2082e+01, -1.0720e-01],\n",
      "        [-2.0104e+03, -1.0496e+01, -1.4348e-01],\n",
      "        [-2.0265e+03, -1.1666e+01, -9.1995e-02],\n",
      "        [-2.0153e+03, -9.2419e+00, -2.1012e-01],\n",
      "        [-2.0320e+03, -1.3303e+01, -1.1655e-01],\n",
      "        [-2.0175e+03, -1.0280e+01, -2.0456e-01],\n",
      "        [-2.0309e+03, -1.3443e+01, -1.0338e-01],\n",
      "        [-2.0317e+03, -1.3248e+01, -1.2096e-01],\n",
      "        [-2.0145e+03, -1.0526e+01, -1.5854e-01],\n",
      "        [-2.0168e+03, -1.1787e+01, -1.3965e-01],\n",
      "        [-2.0035e+03, -9.2787e+00, -1.9581e-01],\n",
      "        [-2.0167e+03, -1.1151e+01, -1.5690e-01],\n",
      "        [-2.0302e+03, -1.3110e+01, -1.3749e-01],\n",
      "        [-2.0324e+03, -1.3042e+01, -1.3255e-01],\n",
      "        [-2.0276e+03, -1.0655e+01, -1.8193e-01],\n",
      "        [-2.0130e+03, -1.1558e+01, -1.0499e-01],\n",
      "        [-2.0032e+03, -1.0533e+01, -1.2062e-01],\n",
      "        [-2.0187e+03, -1.1443e+01, -1.4824e-01],\n",
      "        [-2.0154e+03, -1.1738e+01, -1.1643e-01],\n",
      "        [-2.0171e+03, -1.1625e+01, -1.4019e-01],\n",
      "        [-2.0131e+03, -1.0901e+01, -1.3082e-01],\n",
      "        [-2.0243e+03, -1.1837e+01, -1.3767e-01],\n",
      "        [-2.0301e+03, -1.2594e+01, -1.4192e-01],\n",
      "        [-2.0160e+03, -9.2654e+00, -2.6920e-01],\n",
      "        [-2.0121e+03, -1.0692e+01, -1.7520e-01],\n",
      "        [-2.0249e+03, -9.8861e+00, -1.8957e-01],\n",
      "        [-2.0067e+03, -1.0317e+01, -1.6939e-01],\n",
      "        [-2.0115e+03, -1.0290e+01, -1.2040e-01],\n",
      "        [-2.0186e+03, -1.3262e+01, -1.1723e-01],\n",
      "        [-2.0185e+03, -1.1678e+01, -1.6776e-01],\n",
      "        [-2.0211e+03, -1.1071e+01, -1.8268e-01],\n",
      "        [-2.0081e+03, -1.0543e+01, -1.3548e-01],\n",
      "        [-2.0241e+03, -1.1701e+01, -1.6039e-01],\n",
      "        [-2.0175e+03, -1.1072e+01, -1.3958e-01],\n",
      "        [-2.0225e+03, -1.1285e+01, -1.5665e-01],\n",
      "        [-2.0084e+03, -1.1688e+01, -1.0938e-01],\n",
      "        [-2.0288e+03, -1.0592e+01, -1.8305e-01],\n",
      "        [-2.0273e+03, -1.1398e+01, -1.6828e-01]])\n",
      "tensor([[-1.6811e+03, -9.6034e+00, -1.1273e-01]])\n"
     ]
    }
   ],
   "source": [
    "print(train_Y1)\n",
    "print(train_Y2)\n",
    "print(train_Y3)"
   ]
  },
  {
   "cell_type": "code",
   "execution_count": 21,
   "metadata": {},
   "outputs": [
    {
     "name": "stdout",
     "output_type": "stream",
     "text": [
      "Prepared train_X shape: torch.Size([151, 6])\n",
      "Prepared train_Y1 shape: torch.Size([151, 1])\n",
      "Prepared train_Y2 shape: torch.Size([151, 1])\n",
      "Prepared train_Y3 shape: torch.Size([151, 1])\n"
     ]
    }
   ],
   "source": [
    "import torch\n",
    "\n",
    "def prepare_multitask_gp_data(train_X1, train_Y1, train_X2, train_Y2, train_X3, train_Y3):\n",
    "    # Number of samples for each task\n",
    "    n1 = train_X1.shape[0]\n",
    "    n2 = train_X2.shape[0]\n",
    "    n3 = train_X3.shape[0]\n",
    "    \n",
    "    # Add the task feature column to each train_X\n",
    "    task_feature_1 = torch.zeros(n1, 1)  # Task 0 for the first objective\n",
    "    task_feature_2 = torch.ones(n2, 1)   # Task 1 for the second objective\n",
    "    task_feature_3 = torch.full((n3, 1), 2)  # Task 2 for the third objective\n",
    "    \n",
    "    # Concatenate the task feature with the input data\n",
    "    train_X1 = torch.cat([train_X1, task_feature_1], dim=-1)\n",
    "    train_X2 = torch.cat([train_X2, task_feature_2], dim=-1)\n",
    "    train_X3 = torch.cat([train_X3, task_feature_3], dim=-1)\n",
    "    \n",
    "    # Concatenate all the input data\n",
    "    train_X = torch.cat([train_X1, train_X2, train_X3], dim=0)\n",
    "    \n",
    "    # Concatenate all the output data separately for each objective\n",
    "    train_Y1_obj = torch.cat([train_Y1[:, 0:1], train_Y2[:, 0:1], train_Y3[:, 0:1]], dim=0)\n",
    "    train_Y2_obj = torch.cat([train_Y1[:, 1:2], train_Y2[:, 1:2], train_Y3[:, 1:2]], dim=0)\n",
    "    train_Y3_obj = torch.cat([train_Y1[:, 2:3], train_Y2[:, 2:3], train_Y3[:, 2:3]], dim=0)\n",
    "    \n",
    "    return train_X, train_Y1_obj, train_Y2_obj, train_Y3_obj\n",
    "\n",
    "# Example of how to use the function:\n",
    "train_X, train_Y1, train_Y2, train_Y3 = prepare_multitask_gp_data(train_X1, train_Y1, train_X2, train_Y2, train_X3, train_Y3)\n",
    "\n",
    "print(\"Prepared train_X shape:\", train_X.shape)\n",
    "print(\"Prepared train_Y1 shape:\", train_Y1.shape)\n",
    "print(\"Prepared train_Y2 shape:\", train_Y2.shape)\n",
    "print(\"Prepared train_Y3 shape:\", train_Y3.shape)\n",
    "\n",
    "\n",
    "train_X = train_X.to(dtype=torch.float64)\n",
    "train_Y1 = train_Y1.to(dtype=torch.float64)\n",
    "train_Y2 = train_Y2.to(dtype=torch.float64)\n",
    "train_Y3 = train_Y3.to(dtype=torch.float64)\n"
   ]
  },
  {
   "cell_type": "code",
   "execution_count": 22,
   "metadata": {},
   "outputs": [
    {
     "name": "stdout",
     "output_type": "stream",
     "text": [
      "tensor([[1.6204, 2.3472, 2.9953, 2.9762, 1.5186, 0.0000],\n",
      "        [2.6656, 2.2683, 2.5190, 1.1619, 1.0419, 0.0000],\n",
      "        [2.4018, 2.4204, 1.8724, 2.8009, 1.5200, 0.0000],\n",
      "        [1.0161, 1.6814, 1.6505, 2.7558, 2.7840, 0.0000],\n",
      "        [2.5353, 1.6793, 1.8843, 1.0839, 1.3294, 0.0000],\n",
      "        [1.1692, 1.0779, 1.9147, 2.5501, 1.5524, 0.0000],\n",
      "        [2.6561, 1.3752, 1.1796, 2.2970, 2.6272, 0.0000],\n",
      "        [1.5908, 2.3015, 2.1672, 2.4537, 1.4588, 0.0000],\n",
      "        [1.5629, 2.3040, 2.3205, 1.6761, 1.4641, 0.0000],\n",
      "        [1.0165, 2.5430, 1.0532, 2.6084, 2.4998, 0.0000],\n",
      "        [2.0192, 1.8163, 2.7065, 2.2037, 1.0950, 0.0000],\n",
      "        [2.6155, 1.7412, 1.3462, 2.2454, 1.4994, 0.0000],\n",
      "        [1.2359, 1.0142, 2.3609, 1.6651, 1.6721, 0.0000],\n",
      "        [1.5878, 2.8481, 1.5674, 1.6535, 1.8351, 0.0000],\n",
      "        [2.9442, 1.0818, 1.7273, 2.0141, 2.7243, 0.0000],\n",
      "        [1.3564, 1.9644, 1.0080, 1.2941, 2.9225, 0.0000],\n",
      "        [1.6489, 1.9809, 1.2589, 2.5866, 2.0580, 0.0000],\n",
      "        [1.8714, 2.7065, 2.9087, 2.6321, 1.0773, 0.0000],\n",
      "        [2.4326, 2.5770, 1.1860, 1.3537, 2.7829, 0.0000],\n",
      "        [2.3263, 1.1667, 1.8164, 1.5566, 2.2149, 0.0000],\n",
      "        [2.1487, 2.3485, 2.4939, 1.2015, 1.6299, 0.0000],\n",
      "        [2.4597, 2.2671, 1.6415, 2.6024, 1.7554, 0.0000],\n",
      "        [2.2427, 1.4526, 2.6993, 1.1993, 2.2634, 0.0000],\n",
      "        [1.8621, 1.7951, 2.1807, 2.5833, 2.1528, 0.0000],\n",
      "        [2.2810, 1.7719, 1.7951, 2.9340, 1.5224, 0.0000],\n",
      "        [2.8787, 2.3956, 2.2393, 2.1678, 1.3769, 0.0000],\n",
      "        [1.3638, 1.4788, 2.2284, 1.1479, 1.4768, 0.0000],\n",
      "        [2.0898, 2.2523, 2.4636, 1.7983, 2.9483, 0.0000],\n",
      "        [2.1101, 1.1919, 2.2615, 2.3745, 2.5360, 0.0000],\n",
      "        [2.1285, 1.8328, 2.9889, 1.7411, 2.6220, 0.0000],\n",
      "        [2.1277, 2.5764, 2.7061, 1.0669, 2.3972, 0.0000],\n",
      "        [2.2565, 1.3144, 1.5110, 1.2908, 2.2702, 0.0000],\n",
      "        [2.4761, 2.3568, 1.3535, 2.1181, 1.8801, 0.0000],\n",
      "        [1.6581, 2.2791, 1.9176, 1.8500, 2.1731, 0.0000],\n",
      "        [1.5059, 1.0561, 1.3114, 1.9399, 1.8969, 0.0000],\n",
      "        [2.3975, 2.4293, 1.6416, 1.2360, 1.3115, 0.0000],\n",
      "        [2.5909, 1.3294, 2.9462, 1.9120, 2.8327, 0.0000],\n",
      "        [2.4397, 1.2286, 2.3035, 1.3385, 1.2914, 0.0000],\n",
      "        [1.4126, 2.8467, 1.6668, 1.1894, 1.6821, 0.0000],\n",
      "        [1.5237, 2.8419, 1.4165, 1.5187, 1.6116, 0.0000],\n",
      "        [1.2627, 2.2353, 2.7294, 2.3479, 1.0267, 0.0000],\n",
      "        [2.3524, 1.8326, 1.0849, 2.3047, 2.6802, 0.0000],\n",
      "        [2.8646, 1.9170, 2.4819, 1.9852, 1.0904, 0.0000],\n",
      "        [1.9378, 2.8327, 1.0601, 2.2829, 1.0793, 0.0000],\n",
      "        [1.1020, 1.0423, 1.2426, 1.9317, 1.6118, 0.0000],\n",
      "        [2.7956, 1.1322, 1.6631, 2.3031, 2.2408, 0.0000],\n",
      "        [2.4429, 1.1038, 1.8475, 1.9112, 1.9932, 0.0000],\n",
      "        [1.7184, 2.0958, 2.4451, 2.7283, 2.8345, 0.0000],\n",
      "        [2.5983, 1.0226, 1.4354, 2.2662, 1.8411, 0.0000],\n",
      "        [2.2592, 1.9236, 1.9250, 2.6269, 2.6932, 0.0000],\n",
      "        [1.8083, 1.3440, 1.7266, 2.8126, 1.8422, 1.0000],\n",
      "        [2.0264, 2.7619, 2.0504, 1.2680, 1.2511, 1.0000],\n",
      "        [1.3512, 1.1139, 1.6223, 1.2643, 2.0121, 1.0000],\n",
      "        [2.4769, 1.3743, 1.3626, 1.1421, 1.9394, 1.0000],\n",
      "        [1.8490, 1.3117, 2.1441, 1.5287, 1.9954, 1.0000],\n",
      "        [2.6417, 2.8108, 2.2241, 2.7552, 1.1289, 1.0000],\n",
      "        [1.8889, 2.3014, 1.8488, 1.4836, 2.9131, 1.0000],\n",
      "        [1.2965, 1.5361, 2.5786, 1.8382, 2.3552, 1.0000],\n",
      "        [2.8661, 1.7370, 2.8130, 2.5147, 1.0716, 1.0000],\n",
      "        [2.9453, 1.8158, 2.0236, 1.1924, 2.2302, 1.0000],\n",
      "        [2.3339, 2.1815, 2.6069, 1.7826, 2.2162, 1.0000],\n",
      "        [2.0286, 2.6375, 2.8233, 1.7873, 2.7811, 1.0000],\n",
      "        [1.0249, 2.5172, 2.2572, 1.0595, 2.8920, 1.0000],\n",
      "        [1.2627, 2.4532, 1.6471, 2.7555, 1.1101, 1.0000],\n",
      "        [2.1193, 2.1833, 2.6145, 2.8363, 2.7824, 1.0000],\n",
      "        [1.2776, 2.5726, 2.3164, 1.2406, 2.9591, 1.0000],\n",
      "        [1.3140, 2.5271, 1.1913, 2.1093, 1.5740, 1.0000],\n",
      "        [2.4496, 1.6904, 2.7651, 1.0817, 2.4511, 1.0000],\n",
      "        [2.8034, 1.0343, 1.4931, 1.3536, 2.4263, 1.0000],\n",
      "        [2.3330, 1.4563, 1.9691, 2.5114, 2.8896, 1.0000],\n",
      "        [2.0215, 2.4429, 1.3392, 2.9776, 2.4617, 1.0000],\n",
      "        [2.7375, 2.3104, 2.5039, 1.2836, 2.6391, 1.0000],\n",
      "        [2.8277, 2.8089, 2.7107, 1.6198, 2.1056, 1.0000],\n",
      "        [1.0009, 2.2485, 1.3864, 1.0607, 1.5847, 1.0000],\n",
      "        [2.6372, 1.0708, 2.9698, 1.8666, 1.6942, 1.0000],\n",
      "        [1.3995, 1.9352, 1.3612, 2.5636, 1.6188, 1.0000],\n",
      "        [1.3762, 1.1120, 2.2764, 1.1857, 2.6664, 1.0000],\n",
      "        [1.7174, 1.9391, 2.1805, 2.1788, 1.6236, 1.0000],\n",
      "        [1.4288, 2.5850, 2.4344, 1.1643, 2.4087, 1.0000],\n",
      "        [2.4637, 2.9216, 1.0727, 2.6125, 1.6592, 1.0000],\n",
      "        [1.5653, 2.0570, 2.8976, 2.7865, 2.9674, 1.0000],\n",
      "        [2.2365, 1.5629, 1.6613, 1.1954, 1.8848, 1.0000],\n",
      "        [2.7661, 1.6695, 2.3167, 2.7744, 2.6136, 1.0000],\n",
      "        [1.4446, 2.5135, 2.8047, 1.8688, 1.9656, 1.0000],\n",
      "        [2.0616, 1.4335, 1.2429, 1.3720, 2.1377, 1.0000],\n",
      "        [1.1023, 1.2127, 1.8324, 1.5299, 1.4545, 1.0000],\n",
      "        [2.7738, 2.6870, 1.8813, 2.8412, 1.3506, 1.0000],\n",
      "        [1.7625, 1.1836, 1.8289, 1.1008, 1.5153, 1.0000],\n",
      "        [2.9354, 2.8018, 2.6571, 2.7705, 2.0888, 1.0000],\n",
      "        [2.7007, 1.3454, 2.3537, 2.9537, 1.3068, 1.0000],\n",
      "        [2.0591, 1.4507, 2.0421, 2.8941, 1.2531, 1.0000],\n",
      "        [2.5044, 2.6428, 1.1017, 1.5338, 1.2540, 1.0000],\n",
      "        [2.0818, 1.7040, 2.8515, 1.2799, 1.0084, 1.0000],\n",
      "        [2.6000, 1.0286, 1.5530, 1.2574, 1.8215, 1.0000],\n",
      "        [2.6315, 2.9302, 1.0568, 2.5392, 2.4340, 1.0000],\n",
      "        [1.0730, 2.9400, 1.4190, 2.3948, 1.1537, 1.0000],\n",
      "        [1.3310, 2.6781, 1.2605, 1.1212, 2.4803, 1.0000],\n",
      "        [2.7890, 1.2109, 2.0645, 1.4923, 1.1221, 1.0000],\n",
      "        [2.0454, 1.4335, 1.5576, 1.0542, 1.9508, 1.0000],\n",
      "        [1.0141, 1.3531, 2.2906, 1.8328, 1.0677, 1.0000],\n",
      "        [2.1887, 1.1795, 2.0090, 1.2172, 2.3280, 1.0000],\n",
      "        [1.2315, 1.8772, 2.2568, 2.1899, 2.0496, 1.0000],\n",
      "        [1.1224, 1.2127, 1.7214, 2.7187, 1.9738, 1.0000],\n",
      "        [1.7691, 1.9600, 2.9111, 2.1780, 2.3792, 1.0000],\n",
      "        [1.1149, 2.9181, 1.6091, 1.9925, 2.1791, 1.0000],\n",
      "        [1.1452, 1.4361, 1.1339, 2.5847, 1.8258, 1.0000],\n",
      "        [1.4062, 2.6086, 2.8444, 1.8423, 1.1119, 1.0000],\n",
      "        [2.5467, 2.0053, 2.6294, 2.4924, 2.6906, 1.0000],\n",
      "        [1.4571, 2.6726, 1.6768, 1.3461, 2.3891, 1.0000],\n",
      "        [2.8067, 2.7391, 1.1095, 2.3288, 1.4658, 1.0000],\n",
      "        [2.0620, 2.1172, 1.0084, 1.6311, 1.8293, 1.0000],\n",
      "        [1.5065, 2.5835, 1.0807, 2.9642, 1.7928, 1.0000],\n",
      "        [2.8233, 1.2402, 1.6952, 1.8398, 2.8910, 1.0000],\n",
      "        [1.5859, 1.7626, 1.6986, 1.3414, 2.0494, 1.0000],\n",
      "        [1.6764, 1.0451, 2.9613, 2.3740, 2.2867, 1.0000],\n",
      "        [1.6406, 2.5924, 2.3302, 1.1049, 2.2534, 1.0000],\n",
      "        [2.8189, 2.7560, 1.8429, 2.9676, 1.9430, 1.0000],\n",
      "        [2.7948, 2.3237, 2.3541, 1.4204, 1.6276, 1.0000],\n",
      "        [1.4279, 2.9093, 1.8526, 2.8362, 2.6097, 1.0000],\n",
      "        [1.7017, 2.4773, 2.0479, 2.7847, 2.7259, 1.0000],\n",
      "        [2.7277, 1.0011, 2.7853, 1.0787, 1.9484, 1.0000],\n",
      "        [2.9671, 1.4515, 1.7143, 2.0508, 1.4243, 1.0000],\n",
      "        [1.0777, 2.0919, 1.9496, 1.1006, 1.0093, 1.0000],\n",
      "        [1.4243, 2.8457, 1.9825, 2.0699, 1.1930, 1.0000],\n",
      "        [2.1919, 1.6809, 2.4339, 2.9449, 1.9356, 1.0000],\n",
      "        [2.9549, 2.4269, 2.0097, 2.8904, 2.0895, 1.0000],\n",
      "        [2.8776, 2.2795, 2.6598, 1.5896, 2.8998, 1.0000],\n",
      "        [2.0494, 1.2822, 1.3716, 1.6634, 2.3142, 1.0000],\n",
      "        [1.5292, 1.7257, 1.0953, 1.4592, 1.1528, 1.0000],\n",
      "        [2.5325, 1.5371, 2.1599, 1.8425, 1.8670, 1.0000],\n",
      "        [2.7000, 1.1524, 1.7055, 1.7155, 2.0572, 1.0000],\n",
      "        [1.8869, 1.5652, 2.0564, 2.0062, 1.7252, 1.0000],\n",
      "        [2.3085, 1.0515, 2.2831, 1.1388, 2.2821, 1.0000],\n",
      "        [1.0696, 2.6196, 2.0952, 2.3100, 2.3806, 1.0000],\n",
      "        [2.5301, 1.5795, 2.6146, 2.8371, 1.7974, 1.0000],\n",
      "        [2.5903, 2.3383, 2.9345, 1.2482, 1.1481, 1.0000],\n",
      "        [2.8049, 1.4725, 2.1579, 1.0553, 1.8823, 1.0000],\n",
      "        [1.6417, 2.7321, 2.6468, 1.5617, 2.8653, 1.0000],\n",
      "        [1.9093, 1.7373, 1.8346, 1.2225, 1.2571, 1.0000],\n",
      "        [2.3423, 2.2371, 1.1141, 1.0683, 2.6769, 1.0000],\n",
      "        [1.6904, 1.2377, 1.4485, 2.7881, 1.5520, 1.0000],\n",
      "        [1.9906, 2.0794, 2.1724, 2.2208, 1.1715, 1.0000],\n",
      "        [2.7231, 2.0884, 2.4034, 1.9337, 1.5147, 1.0000],\n",
      "        [2.3862, 2.0351, 1.2459, 1.3048, 1.5737, 1.0000],\n",
      "        [2.9819, 2.0158, 2.1934, 2.2180, 1.7040, 1.0000],\n",
      "        [2.4676, 2.4065, 1.6328, 1.7167, 1.9895, 1.0000],\n",
      "        [2.5629, 1.8990, 2.2535, 1.7940, 2.3712, 1.0000],\n",
      "        [1.8253, 1.1291, 1.4105, 1.8992, 1.2056, 1.0000],\n",
      "        [2.8480, 2.9767, 2.6945, 1.9206, 2.1526, 1.0000],\n",
      "        [1.3147, 2.2442, 2.8404, 2.3388, 2.2044, 1.0000],\n",
      "        [2.1082, 1.4493, 2.0649, 1.8627, 1.9413, 2.0000]], dtype=torch.float64)\n"
     ]
    }
   ],
   "source": [
    "print(train_X)"
   ]
  },
  {
   "cell_type": "code",
   "execution_count": 23,
   "metadata": {},
   "outputs": [],
   "source": [
    "from botorch.models import MultiTaskGP\n",
    "from botorch.models import ModelList\n",
    "from botorch.acquisition.multi_objective.logei import qLogNoisyExpectedHypervolumeImprovement\n",
    "\n",
    "# Create a multi-task GP model\n",
    "\n",
    "\n",
    "model1 = MultiTaskGP(train_X=train_X, train_Y=train_Y1, task_feature=-1, output_tasks=[2])\n",
    "model2 = MultiTaskGP(train_X=train_X, train_Y=train_Y2, task_feature=-1, output_tasks=[2])\n",
    "model3 = MultiTaskGP(train_X=train_X, train_Y=train_Y3, task_feature=-1, output_tasks=[2])\n",
    "\n",
    "new_modellist = ModelList(model1, model2, model3)\n"
   ]
  },
  {
   "cell_type": "code",
   "execution_count": 24,
   "metadata": {},
   "outputs": [
    {
     "name": "stdout",
     "output_type": "stream",
     "text": [
      "3\n"
     ]
    }
   ],
   "source": [
    "print(new_modellist.num_outputs)"
   ]
  },
  {
   "cell_type": "code",
   "execution_count": 36,
   "metadata": {},
   "outputs": [
    {
     "data": {
      "text/plain": [
       "torch.Size([151, 6])"
      ]
     },
     "execution_count": 36,
     "metadata": {},
     "output_type": "execute_result"
    }
   ],
   "source": [
    "new_modellist.models[2].train_inputs[0].shape"
   ]
  },
  {
   "cell_type": "code",
   "execution_count": 11,
   "metadata": {},
   "outputs": [
    {
     "name": "stderr",
     "output_type": "stream",
     "text": [
      "c:\\Users\\Moritz\\anaconda3\\envs\\TL_GP\\lib\\site-packages\\linear_operator\\utils\\interpolation.py:71: UserWarning: torch.sparse.SparseTensor(indices, values, shape, *, device=) is deprecated.  Please use torch.sparse_coo_tensor(indices, values, shape, dtype=, device=). (Triggered internally at ..\\torch\\csrc\\utils\\tensor_new.cpp:620.)\n",
      "  summing_matrix = cls(summing_matrix_indices, summing_matrix_values, size)\n"
     ]
    },
    {
     "data": {
      "text/plain": [
       "ExactMarginalLogLikelihood(\n",
       "  (likelihood): GaussianLikelihood(\n",
       "    (noise_covar): HomoskedasticNoise(\n",
       "      (noise_prior): GammaPrior()\n",
       "      (raw_noise_constraint): GreaterThan(1.000E-04)\n",
       "    )\n",
       "  )\n",
       "  (model): MultiTaskGP(\n",
       "    (likelihood): GaussianLikelihood(\n",
       "      (noise_covar): HomoskedasticNoise(\n",
       "        (noise_prior): GammaPrior()\n",
       "        (raw_noise_constraint): GreaterThan(1.000E-04)\n",
       "      )\n",
       "    )\n",
       "    (mean_module): ConstantMean()\n",
       "    (covar_module): ScaleKernel(\n",
       "      (base_kernel): MaternKernel(\n",
       "        (lengthscale_prior): GammaPrior()\n",
       "        (raw_lengthscale_constraint): Positive()\n",
       "      )\n",
       "      (outputscale_prior): GammaPrior()\n",
       "      (raw_outputscale_constraint): Positive()\n",
       "    )\n",
       "    (task_covar_module): IndexKernel(\n",
       "      (raw_var_constraint): Positive()\n",
       "    )\n",
       "  )\n",
       ")"
      ]
     },
     "execution_count": 11,
     "metadata": {},
     "output_type": "execute_result"
    }
   ],
   "source": [
    "from gpytorch.mlls.exact_marginal_log_likelihood import ExactMarginalLogLikelihood\n",
    "from botorch.fit import fit_gpytorch_mll\n",
    "mll1 = ExactMarginalLogLikelihood(new_modellist.models[0].likelihood, new_modellist.models[0])\n",
    "mll2 = ExactMarginalLogLikelihood(new_modellist.models[1].likelihood, new_modellist.models[1])\n",
    "mll3 = ExactMarginalLogLikelihood(new_modellist.models[2].likelihood, new_modellist.models[2])\n",
    "\n",
    "fit_gpytorch_mll(mll1)\n",
    "fit_gpytorch_mll(mll2)\n",
    "fit_gpytorch_mll(mll3)"
   ]
  },
  {
   "cell_type": "code",
   "execution_count": 12,
   "metadata": {},
   "outputs": [],
   "source": [
    "from botorch.optim import optimize_acqf\n",
    "\n",
    "def perform_optimization_step(model, train_X, bounds, num_restarts=10, raw_samples=512):\n",
    "    \n",
    "    X_baseline_no_task = train_X[:, :-1]\n",
    "\n",
    "    qNEHVI = qLogNoisyExpectedHypervolumeImprovement(\n",
    "        model=model,\n",
    "        ref_point=torch.tensor([-1864.72022, -11.81993945, -0.2903999384]),\n",
    "        X_baseline=X_baseline_no_task,\n",
    "        prune_baseline=True\n",
    "    )\n",
    "\n",
    "    # Optimize the acquisition function to find the next point to sample\n",
    "    new_X, acq_func_value = optimize_acqf(\n",
    "        acq_function=qNEHVI,\n",
    "        bounds=bounds,\n",
    "        q=1,\n",
    "        num_restarts=num_restarts,\n",
    "        raw_samples=raw_samples,\n",
    "        options={\"batch_limit\": 5, \"maxiter\": 200},\n",
    "    )\n",
    "\n",
    "    print(f\"Acquisition function value: {acq_func_value}\")\n",
    "    print(f\"Next point to sample: {new_X}\")    \n",
    "    return new_X, acq_func_value"
   ]
  },
  {
   "cell_type": "code",
   "execution_count": 13,
   "metadata": {},
   "outputs": [],
   "source": [
    "def setup_train_multitask_model(train_X, train_Y1, train_Y2, train_Y3):\n",
    "    # data is here the data combined with tas feature\n",
    "    model1 = MultiTaskGP(train_X=train_X, train_Y=train_Y1, task_feature=-1, output_tasks=[2])\n",
    "    model2 = MultiTaskGP(train_X=train_X, train_Y=train_Y2, task_feature=-1, output_tasks=[2])\n",
    "    model3 = MultiTaskGP(train_X=train_X, train_Y=train_Y3, task_feature=-1, output_tasks=[2])\n",
    "\n",
    "    new_modellist = ModelList(model1, model2, model3)\n",
    "\n",
    "    mll1 = ExactMarginalLogLikelihood(new_modellist.models[0].likelihood, new_modellist.models[0])\n",
    "    mll2 = ExactMarginalLogLikelihood(new_modellist.models[1].likelihood, new_modellist.models[1])\n",
    "    mll3 = ExactMarginalLogLikelihood(new_modellist.models[2].likelihood, new_modellist.models[2])\n",
    "\n",
    "    fit_gpytorch_mll(mll1)\n",
    "    fit_gpytorch_mll(mll2)\n",
    "    fit_gpytorch_mll(mll3)\n",
    "\n",
    "    return new_modellist"
   ]
  },
  {
   "cell_type": "code",
   "execution_count": 14,
   "metadata": {},
   "outputs": [],
   "source": [
    "def optimize_vehicle_safety(model, train_X, train_Y1, train_Y2, train_Y3, bounds, num_iterations=50):\n",
    "    \n",
    "    for iteration in range(num_iterations):\n",
    "        print(f\"Iteration {iteration + 1}/{num_iterations}\")\n",
    "        new_X, acq_func_value = perform_optimization_step(model, train_X, bounds)\n",
    "        \n",
    "        # Evaluate new Y values\n",
    "        new_Y, exp_dim = generate_car_crash_synthetic_data(new_X, 0.0)\n",
    "        \n",
    "        # Update training datasets:\n",
    "        new_Y1, new_Y2, new_Y3 = torch.split(new_Y, 1, dim=-1)  # Split along the last dimension\n",
    "\n",
    "        # Add the corresponding new data to each training set\n",
    "        train_Y1 = torch.cat([train_Y1, new_Y1], dim=0)  # Concatenate along the first dimension\n",
    "        train_Y2 = torch.cat([train_Y2, new_Y2], dim=0)  # Concatenate along the first dimension\n",
    "        train_Y3 = torch.cat([train_Y3, new_Y3], dim=0)  # Concatenate along the first dimension\n",
    "        \n",
    "        task_feature = torch.tensor([[2.0]], dtype=torch.float64)  # Creating a tensor with value 2.0 and dtype float64\n",
    "        new_X_with_task = torch.cat([new_X, task_feature], dim=-1)  # Concatenating along the last dimension\n",
    "\n",
    "        # Concatenating new_X_with_task to train_X\n",
    "        train_X = torch.cat([train_X, new_X_with_task], dim=0)  # Concatenating along the first dimension\n",
    "\n",
    "        print(f\"Training data shapes: {train_X.shape}, {train_Y1.shape}, {train_Y2.shape}, {train_Y3.shape}\")\n",
    "\n",
    "        # Setup and Refit model with updated data\n",
    "        model = setup_train_multitask_model(train_X, train_Y1, train_Y2, train_Y3)\n",
    "    \n",
    "    return train_X, train_Y1, train_Y2, train_Y3\n",
    "\n"
   ]
  },
  {
   "cell_type": "code",
   "execution_count": 15,
   "metadata": {},
   "outputs": [
    {
     "name": "stdout",
     "output_type": "stream",
     "text": [
      "Iteration 1/50\n"
     ]
    },
    {
     "name": "stderr",
     "output_type": "stream",
     "text": [
      "c:\\Users\\Moritz\\anaconda3\\envs\\TL_GP\\lib\\site-packages\\botorch\\acquisition\\cached_cholesky.py:89: RuntimeWarning: `cache_root` is only supported for GPyTorchModels that are not MultiTask models and don't produce a TransformedPosterior. Got a model of type <class 'botorch.models.model.ModelList'>. Setting `cache_root = False`.\n",
      "  warnings.warn(\n"
     ]
    },
    {
     "name": "stdout",
     "output_type": "stream",
     "text": [
      "Acquisition function value: 3.130997491998598\n",
      "Next point to sample: tensor([[1., 3., 3., 1., 1.]])\n",
      "Training data shapes: torch.Size([152, 6]), torch.Size([152, 1]), torch.Size([152, 1]), torch.Size([152, 1])\n",
      "Iteration 2/50\n"
     ]
    },
    {
     "name": "stderr",
     "output_type": "stream",
     "text": [
      "c:\\Users\\Moritz\\anaconda3\\envs\\TL_GP\\lib\\site-packages\\botorch\\acquisition\\cached_cholesky.py:89: RuntimeWarning: `cache_root` is only supported for GPyTorchModels that are not MultiTask models and don't produce a TransformedPosterior. Got a model of type <class 'botorch.models.model.ModelList'>. Setting `cache_root = False`.\n",
      "  warnings.warn(\n"
     ]
    },
    {
     "name": "stdout",
     "output_type": "stream",
     "text": [
      "Acquisition function value: 2.9875103939161987\n",
      "Next point to sample: tensor([[1.0000, 3.0000, 1.0000, 1.0000, 1.9622]])\n",
      "Training data shapes: torch.Size([153, 6]), torch.Size([153, 1]), torch.Size([153, 1]), torch.Size([153, 1])\n",
      "Iteration 3/50\n"
     ]
    },
    {
     "name": "stderr",
     "output_type": "stream",
     "text": [
      "c:\\Users\\Moritz\\anaconda3\\envs\\TL_GP\\lib\\site-packages\\botorch\\acquisition\\cached_cholesky.py:89: RuntimeWarning: `cache_root` is only supported for GPyTorchModels that are not MultiTask models and don't produce a TransformedPosterior. Got a model of type <class 'botorch.models.model.ModelList'>. Setting `cache_root = False`.\n",
      "  warnings.warn(\n"
     ]
    },
    {
     "name": "stdout",
     "output_type": "stream",
     "text": [
      "Acquisition function value: 1.4599843637017633\n",
      "Next point to sample: tensor([[1.3201, 3.0000, 1.0000, 1.6333, 2.7671]])\n",
      "Training data shapes: torch.Size([154, 6]), torch.Size([154, 1]), torch.Size([154, 1]), torch.Size([154, 1])\n",
      "Iteration 4/50\n"
     ]
    },
    {
     "name": "stderr",
     "output_type": "stream",
     "text": [
      "c:\\Users\\Moritz\\anaconda3\\envs\\TL_GP\\lib\\site-packages\\botorch\\acquisition\\cached_cholesky.py:89: RuntimeWarning: `cache_root` is only supported for GPyTorchModels that are not MultiTask models and don't produce a TransformedPosterior. Got a model of type <class 'botorch.models.model.ModelList'>. Setting `cache_root = False`.\n",
      "  warnings.warn(\n"
     ]
    },
    {
     "name": "stdout",
     "output_type": "stream",
     "text": [
      "Acquisition function value: 1.2906021757655983\n",
      "Next point to sample: tensor([[1., 1., 1., 1., 1.]])\n",
      "Training data shapes: torch.Size([155, 6]), torch.Size([155, 1]), torch.Size([155, 1]), torch.Size([155, 1])\n",
      "Iteration 5/50\n"
     ]
    },
    {
     "name": "stderr",
     "output_type": "stream",
     "text": [
      "c:\\Users\\Moritz\\anaconda3\\envs\\TL_GP\\lib\\site-packages\\botorch\\acquisition\\cached_cholesky.py:89: RuntimeWarning: `cache_root` is only supported for GPyTorchModels that are not MultiTask models and don't produce a TransformedPosterior. Got a model of type <class 'botorch.models.model.ModelList'>. Setting `cache_root = False`.\n",
      "  warnings.warn(\n"
     ]
    },
    {
     "name": "stdout",
     "output_type": "stream",
     "text": [
      "Acquisition function value: 1.4106834424360217\n",
      "Next point to sample: tensor([[1., 3., 3., 1., 3.]])\n",
      "Training data shapes: torch.Size([156, 6]), torch.Size([156, 1]), torch.Size([156, 1]), torch.Size([156, 1])\n",
      "Iteration 6/50\n"
     ]
    },
    {
     "name": "stderr",
     "output_type": "stream",
     "text": [
      "c:\\Users\\Moritz\\anaconda3\\envs\\TL_GP\\lib\\site-packages\\botorch\\acquisition\\cached_cholesky.py:89: RuntimeWarning: `cache_root` is only supported for GPyTorchModels that are not MultiTask models and don't produce a TransformedPosterior. Got a model of type <class 'botorch.models.model.ModelList'>. Setting `cache_root = False`.\n",
      "  warnings.warn(\n"
     ]
    },
    {
     "name": "stdout",
     "output_type": "stream",
     "text": [
      "Acquisition function value: 0.8976546247830681\n",
      "Next point to sample: tensor([[2.1457, 3.0000, 1.0000, 2.0286, 2.5711]])\n",
      "Training data shapes: torch.Size([157, 6]), torch.Size([157, 1]), torch.Size([157, 1]), torch.Size([157, 1])\n",
      "Iteration 7/50\n"
     ]
    },
    {
     "name": "stderr",
     "output_type": "stream",
     "text": [
      "c:\\Users\\Moritz\\anaconda3\\envs\\TL_GP\\lib\\site-packages\\botorch\\acquisition\\cached_cholesky.py:89: RuntimeWarning: `cache_root` is only supported for GPyTorchModels that are not MultiTask models and don't produce a TransformedPosterior. Got a model of type <class 'botorch.models.model.ModelList'>. Setting `cache_root = False`.\n",
      "  warnings.warn(\n"
     ]
    },
    {
     "name": "stdout",
     "output_type": "stream",
     "text": [
      "Acquisition function value: 0.5158887050818448\n",
      "Next point to sample: tensor([[1.0000, 1.0000, 1.0000, 1.3667, 2.3094]])\n",
      "Training data shapes: torch.Size([158, 6]), torch.Size([158, 1]), torch.Size([158, 1]), torch.Size([158, 1])\n",
      "Iteration 8/50\n"
     ]
    },
    {
     "name": "stderr",
     "output_type": "stream",
     "text": [
      "c:\\Users\\Moritz\\anaconda3\\envs\\TL_GP\\lib\\site-packages\\botorch\\acquisition\\cached_cholesky.py:89: RuntimeWarning: `cache_root` is only supported for GPyTorchModels that are not MultiTask models and don't produce a TransformedPosterior. Got a model of type <class 'botorch.models.model.ModelList'>. Setting `cache_root = False`.\n",
      "  warnings.warn(\n"
     ]
    },
    {
     "name": "stdout",
     "output_type": "stream",
     "text": [
      "Acquisition function value: 0.5613847860784293\n",
      "Next point to sample: tensor([[1., 3., 1., 1., 1.]])\n",
      "Training data shapes: torch.Size([159, 6]), torch.Size([159, 1]), torch.Size([159, 1]), torch.Size([159, 1])\n",
      "Iteration 9/50\n"
     ]
    },
    {
     "name": "stderr",
     "output_type": "stream",
     "text": [
      "c:\\Users\\Moritz\\anaconda3\\envs\\TL_GP\\lib\\site-packages\\botorch\\acquisition\\cached_cholesky.py:89: RuntimeWarning: `cache_root` is only supported for GPyTorchModels that are not MultiTask models and don't produce a TransformedPosterior. Got a model of type <class 'botorch.models.model.ModelList'>. Setting `cache_root = False`.\n",
      "  warnings.warn(\n"
     ]
    },
    {
     "name": "stdout",
     "output_type": "stream",
     "text": [
      "Acquisition function value: 0.09590475547497856\n",
      "Next point to sample: tensor([[1.0000, 3.0000, 1.0000, 1.1486, 3.0000]])\n",
      "Training data shapes: torch.Size([160, 6]), torch.Size([160, 1]), torch.Size([160, 1]), torch.Size([160, 1])\n",
      "Iteration 10/50\n"
     ]
    },
    {
     "name": "stderr",
     "output_type": "stream",
     "text": [
      "c:\\Users\\Moritz\\anaconda3\\envs\\TL_GP\\lib\\site-packages\\botorch\\acquisition\\cached_cholesky.py:89: RuntimeWarning: `cache_root` is only supported for GPyTorchModels that are not MultiTask models and don't produce a TransformedPosterior. Got a model of type <class 'botorch.models.model.ModelList'>. Setting `cache_root = False`.\n",
      "  warnings.warn(\n"
     ]
    },
    {
     "name": "stdout",
     "output_type": "stream",
     "text": [
      "Acquisition function value: 0.025510871100006938\n",
      "Next point to sample: tensor([[1.0000, 1.0000, 1.6194, 1.9232, 3.0000]])\n",
      "Training data shapes: torch.Size([161, 6]), torch.Size([161, 1]), torch.Size([161, 1]), torch.Size([161, 1])\n",
      "Iteration 11/50\n"
     ]
    },
    {
     "name": "stderr",
     "output_type": "stream",
     "text": [
      "c:\\Users\\Moritz\\anaconda3\\envs\\TL_GP\\lib\\site-packages\\botorch\\acquisition\\cached_cholesky.py:89: RuntimeWarning: `cache_root` is only supported for GPyTorchModels that are not MultiTask models and don't produce a TransformedPosterior. Got a model of type <class 'botorch.models.model.ModelList'>. Setting `cache_root = False`.\n",
      "  warnings.warn(\n"
     ]
    },
    {
     "name": "stdout",
     "output_type": "stream",
     "text": [
      "Acquisition function value: -0.2742004181658775\n",
      "Next point to sample: tensor([[1., 1., 1., 1., 3.]])\n",
      "Training data shapes: torch.Size([162, 6]), torch.Size([162, 1]), torch.Size([162, 1]), torch.Size([162, 1])\n",
      "Iteration 12/50\n"
     ]
    },
    {
     "name": "stderr",
     "output_type": "stream",
     "text": [
      "c:\\Users\\Moritz\\anaconda3\\envs\\TL_GP\\lib\\site-packages\\botorch\\acquisition\\cached_cholesky.py:89: RuntimeWarning: `cache_root` is only supported for GPyTorchModels that are not MultiTask models and don't produce a TransformedPosterior. Got a model of type <class 'botorch.models.model.ModelList'>. Setting `cache_root = False`.\n",
      "  warnings.warn(\n"
     ]
    },
    {
     "name": "stdout",
     "output_type": "stream",
     "text": [
      "Acquisition function value: -0.20934730557553483\n",
      "Next point to sample: tensor([[1.0000, 1.0000, 1.0000, 1.6095, 3.0000]])\n",
      "Training data shapes: torch.Size([163, 6]), torch.Size([163, 1]), torch.Size([163, 1]), torch.Size([163, 1])\n",
      "Iteration 13/50\n"
     ]
    },
    {
     "name": "stderr",
     "output_type": "stream",
     "text": [
      "c:\\Users\\Moritz\\anaconda3\\envs\\TL_GP\\lib\\site-packages\\botorch\\acquisition\\cached_cholesky.py:89: RuntimeWarning: `cache_root` is only supported for GPyTorchModels that are not MultiTask models and don't produce a TransformedPosterior. Got a model of type <class 'botorch.models.model.ModelList'>. Setting `cache_root = False`.\n",
      "  warnings.warn(\n"
     ]
    },
    {
     "name": "stdout",
     "output_type": "stream",
     "text": [
      "Acquisition function value: -0.5058022826629829\n",
      "Next point to sample: tensor([[1.0000, 3.0000, 1.0000, 1.4059, 2.6801]])\n",
      "Training data shapes: torch.Size([164, 6]), torch.Size([164, 1]), torch.Size([164, 1]), torch.Size([164, 1])\n",
      "Iteration 14/50\n"
     ]
    },
    {
     "name": "stderr",
     "output_type": "stream",
     "text": [
      "c:\\Users\\Moritz\\anaconda3\\envs\\TL_GP\\lib\\site-packages\\botorch\\acquisition\\cached_cholesky.py:89: RuntimeWarning: `cache_root` is only supported for GPyTorchModels that are not MultiTask models and don't produce a TransformedPosterior. Got a model of type <class 'botorch.models.model.ModelList'>. Setting `cache_root = False`.\n",
      "  warnings.warn(\n"
     ]
    },
    {
     "name": "stdout",
     "output_type": "stream",
     "text": [
      "Acquisition function value: -0.5540553148040059\n",
      "Next point to sample: tensor([[2.9025, 3.0000, 1.0000, 2.2145, 3.0000]])\n",
      "Training data shapes: torch.Size([165, 6]), torch.Size([165, 1]), torch.Size([165, 1]), torch.Size([165, 1])\n",
      "Iteration 15/50\n"
     ]
    },
    {
     "name": "stderr",
     "output_type": "stream",
     "text": [
      "c:\\Users\\Moritz\\anaconda3\\envs\\TL_GP\\lib\\site-packages\\botorch\\acquisition\\cached_cholesky.py:89: RuntimeWarning: `cache_root` is only supported for GPyTorchModels that are not MultiTask models and don't produce a TransformedPosterior. Got a model of type <class 'botorch.models.model.ModelList'>. Setting `cache_root = False`.\n",
      "  warnings.warn(\n"
     ]
    },
    {
     "name": "stdout",
     "output_type": "stream",
     "text": [
      "Acquisition function value: -0.6734304295334441\n",
      "Next point to sample: tensor([[1.9486, 3.0000, 1.0000, 2.3034, 3.0000]])\n",
      "Training data shapes: torch.Size([166, 6]), torch.Size([166, 1]), torch.Size([166, 1]), torch.Size([166, 1])\n",
      "Iteration 16/50\n"
     ]
    },
    {
     "name": "stderr",
     "output_type": "stream",
     "text": [
      "c:\\Users\\Moritz\\anaconda3\\envs\\TL_GP\\lib\\site-packages\\botorch\\acquisition\\cached_cholesky.py:89: RuntimeWarning: `cache_root` is only supported for GPyTorchModels that are not MultiTask models and don't produce a TransformedPosterior. Got a model of type <class 'botorch.models.model.ModelList'>. Setting `cache_root = False`.\n",
      "  warnings.warn(\n"
     ]
    },
    {
     "name": "stdout",
     "output_type": "stream",
     "text": [
      "Acquisition function value: -0.841562477830033\n",
      "Next point to sample: tensor([[2.3664, 3.0000, 1.0000, 1.6966, 3.0000]])\n",
      "Training data shapes: torch.Size([167, 6]), torch.Size([167, 1]), torch.Size([167, 1]), torch.Size([167, 1])\n",
      "Iteration 17/50\n"
     ]
    },
    {
     "name": "stderr",
     "output_type": "stream",
     "text": [
      "c:\\Users\\Moritz\\anaconda3\\envs\\TL_GP\\lib\\site-packages\\botorch\\acquisition\\cached_cholesky.py:89: RuntimeWarning: `cache_root` is only supported for GPyTorchModels that are not MultiTask models and don't produce a TransformedPosterior. Got a model of type <class 'botorch.models.model.ModelList'>. Setting `cache_root = False`.\n",
      "  warnings.warn(\n"
     ]
    },
    {
     "name": "stdout",
     "output_type": "stream",
     "text": [
      "Acquisition function value: -1.157737001078782\n",
      "Next point to sample: tensor([[2.9763, 3.0000, 1.0000, 2.4595, 2.2941]])\n",
      "Training data shapes: torch.Size([168, 6]), torch.Size([168, 1]), torch.Size([168, 1]), torch.Size([168, 1])\n",
      "Iteration 18/50\n"
     ]
    },
    {
     "name": "stderr",
     "output_type": "stream",
     "text": [
      "c:\\Users\\Moritz\\anaconda3\\envs\\TL_GP\\lib\\site-packages\\botorch\\acquisition\\cached_cholesky.py:89: RuntimeWarning: `cache_root` is only supported for GPyTorchModels that are not MultiTask models and don't produce a TransformedPosterior. Got a model of type <class 'botorch.models.model.ModelList'>. Setting `cache_root = False`.\n",
      "  warnings.warn(\n"
     ]
    },
    {
     "name": "stdout",
     "output_type": "stream",
     "text": [
      "Acquisition function value: -0.9285856581258738\n",
      "Next point to sample: tensor([[1., 3., 1., 1., 3.]])\n",
      "Training data shapes: torch.Size([169, 6]), torch.Size([169, 1]), torch.Size([169, 1]), torch.Size([169, 1])\n",
      "Iteration 19/50\n"
     ]
    },
    {
     "name": "stderr",
     "output_type": "stream",
     "text": [
      "c:\\Users\\Moritz\\anaconda3\\envs\\TL_GP\\lib\\site-packages\\botorch\\acquisition\\cached_cholesky.py:89: RuntimeWarning: `cache_root` is only supported for GPyTorchModels that are not MultiTask models and don't produce a TransformedPosterior. Got a model of type <class 'botorch.models.model.ModelList'>. Setting `cache_root = False`.\n",
      "  warnings.warn(\n"
     ]
    },
    {
     "name": "stdout",
     "output_type": "stream",
     "text": [
      "Acquisition function value: -0.9773412412235674\n",
      "Next point to sample: tensor([[1.0000, 1.0000, 1.0000, 1.0000, 2.0341]])\n",
      "Training data shapes: torch.Size([170, 6]), torch.Size([170, 1]), torch.Size([170, 1]), torch.Size([170, 1])\n",
      "Iteration 20/50\n"
     ]
    },
    {
     "name": "stderr",
     "output_type": "stream",
     "text": [
      "c:\\Users\\Moritz\\anaconda3\\envs\\TL_GP\\lib\\site-packages\\botorch\\acquisition\\cached_cholesky.py:89: RuntimeWarning: `cache_root` is only supported for GPyTorchModels that are not MultiTask models and don't produce a TransformedPosterior. Got a model of type <class 'botorch.models.model.ModelList'>. Setting `cache_root = False`.\n",
      "  warnings.warn(\n"
     ]
    },
    {
     "name": "stdout",
     "output_type": "stream",
     "text": [
      "Acquisition function value: -1.4603699189977575\n",
      "Next point to sample: tensor([[1.5270, 3.0000, 1.0000, 1.3183, 3.0000]])\n",
      "Training data shapes: torch.Size([171, 6]), torch.Size([171, 1]), torch.Size([171, 1]), torch.Size([171, 1])\n",
      "Iteration 21/50\n"
     ]
    },
    {
     "name": "stderr",
     "output_type": "stream",
     "text": [
      "c:\\Users\\Moritz\\anaconda3\\envs\\TL_GP\\lib\\site-packages\\botorch\\acquisition\\cached_cholesky.py:89: RuntimeWarning: `cache_root` is only supported for GPyTorchModels that are not MultiTask models and don't produce a TransformedPosterior. Got a model of type <class 'botorch.models.model.ModelList'>. Setting `cache_root = False`.\n",
      "  warnings.warn(\n"
     ]
    },
    {
     "name": "stdout",
     "output_type": "stream",
     "text": [
      "Acquisition function value: -2.41286313947126\n",
      "Next point to sample: tensor([[2.0897, 3.0000, 1.0000, 1.9986, 2.3687]])\n",
      "Training data shapes: torch.Size([172, 6]), torch.Size([172, 1]), torch.Size([172, 1]), torch.Size([172, 1])\n",
      "Iteration 22/50\n"
     ]
    },
    {
     "name": "stderr",
     "output_type": "stream",
     "text": [
      "c:\\Users\\Moritz\\anaconda3\\envs\\TL_GP\\lib\\site-packages\\botorch\\acquisition\\cached_cholesky.py:89: RuntimeWarning: `cache_root` is only supported for GPyTorchModels that are not MultiTask models and don't produce a TransformedPosterior. Got a model of type <class 'botorch.models.model.ModelList'>. Setting `cache_root = False`.\n",
      "  warnings.warn(\n"
     ]
    },
    {
     "name": "stdout",
     "output_type": "stream",
     "text": [
      "Acquisition function value: -1.4884218122234514\n",
      "Next point to sample: tensor([[1.0798, 3.0000, 1.0000, 2.2423, 3.0000]])\n",
      "Training data shapes: torch.Size([173, 6]), torch.Size([173, 1]), torch.Size([173, 1]), torch.Size([173, 1])\n",
      "Iteration 23/50\n"
     ]
    },
    {
     "name": "stderr",
     "output_type": "stream",
     "text": [
      "c:\\Users\\Moritz\\anaconda3\\envs\\TL_GP\\lib\\site-packages\\botorch\\acquisition\\cached_cholesky.py:89: RuntimeWarning: `cache_root` is only supported for GPyTorchModels that are not MultiTask models and don't produce a TransformedPosterior. Got a model of type <class 'botorch.models.model.ModelList'>. Setting `cache_root = False`.\n",
      "  warnings.warn(\n"
     ]
    },
    {
     "name": "stdout",
     "output_type": "stream",
     "text": [
      "Acquisition function value: -1.6664706728667502\n",
      "Next point to sample: tensor([[2.3874, 3.0000, 1.0000, 2.5596, 2.8124]])\n",
      "Training data shapes: torch.Size([174, 6]), torch.Size([174, 1]), torch.Size([174, 1]), torch.Size([174, 1])\n",
      "Iteration 24/50\n"
     ]
    },
    {
     "name": "stderr",
     "output_type": "stream",
     "text": [
      "c:\\Users\\Moritz\\anaconda3\\envs\\TL_GP\\lib\\site-packages\\botorch\\acquisition\\cached_cholesky.py:89: RuntimeWarning: `cache_root` is only supported for GPyTorchModels that are not MultiTask models and don't produce a TransformedPosterior. Got a model of type <class 'botorch.models.model.ModelList'>. Setting `cache_root = False`.\n",
      "  warnings.warn(\n"
     ]
    },
    {
     "name": "stdout",
     "output_type": "stream",
     "text": [
      "Acquisition function value: -1.693937135428679\n",
      "Next point to sample: tensor([[2.2150, 3.0000, 1.0000, 2.0274, 3.0000]])\n",
      "Training data shapes: torch.Size([175, 6]), torch.Size([175, 1]), torch.Size([175, 1]), torch.Size([175, 1])\n",
      "Iteration 25/50\n"
     ]
    },
    {
     "name": "stderr",
     "output_type": "stream",
     "text": [
      "c:\\Users\\Moritz\\anaconda3\\envs\\TL_GP\\lib\\site-packages\\botorch\\acquisition\\cached_cholesky.py:89: RuntimeWarning: `cache_root` is only supported for GPyTorchModels that are not MultiTask models and don't produce a TransformedPosterior. Got a model of type <class 'botorch.models.model.ModelList'>. Setting `cache_root = False`.\n",
      "  warnings.warn(\n"
     ]
    },
    {
     "name": "stdout",
     "output_type": "stream",
     "text": [
      "Acquisition function value: -2.174351969626374\n",
      "Next point to sample: tensor([[2.8463, 3.0000, 1.0000, 1.8214, 2.7164]])\n",
      "Training data shapes: torch.Size([176, 6]), torch.Size([176, 1]), torch.Size([176, 1]), torch.Size([176, 1])\n",
      "Iteration 26/50\n"
     ]
    },
    {
     "name": "stderr",
     "output_type": "stream",
     "text": [
      "c:\\Users\\Moritz\\anaconda3\\envs\\TL_GP\\lib\\site-packages\\botorch\\acquisition\\cached_cholesky.py:89: RuntimeWarning: `cache_root` is only supported for GPyTorchModels that are not MultiTask models and don't produce a TransformedPosterior. Got a model of type <class 'botorch.models.model.ModelList'>. Setting `cache_root = False`.\n",
      "  warnings.warn(\n"
     ]
    },
    {
     "name": "stdout",
     "output_type": "stream",
     "text": [
      "Acquisition function value: -1.2204013458945857\n",
      "Next point to sample: tensor([[1.0000, 1.9972, 1.0000, 1.0000, 1.0000]])\n",
      "Training data shapes: torch.Size([177, 6]), torch.Size([177, 1]), torch.Size([177, 1]), torch.Size([177, 1])\n",
      "Iteration 27/50\n"
     ]
    },
    {
     "name": "stderr",
     "output_type": "stream",
     "text": [
      "c:\\Users\\Moritz\\anaconda3\\envs\\TL_GP\\lib\\site-packages\\botorch\\acquisition\\cached_cholesky.py:89: RuntimeWarning: `cache_root` is only supported for GPyTorchModels that are not MultiTask models and don't produce a TransformedPosterior. Got a model of type <class 'botorch.models.model.ModelList'>. Setting `cache_root = False`.\n",
      "  warnings.warn(\n"
     ]
    },
    {
     "name": "stdout",
     "output_type": "stream",
     "text": [
      "Acquisition function value: -1.693511435344182\n",
      "Next point to sample: tensor([[1.0000, 3.0000, 1.0000, 1.2886, 3.0000]])\n",
      "Training data shapes: torch.Size([178, 6]), torch.Size([178, 1]), torch.Size([178, 1]), torch.Size([178, 1])\n",
      "Iteration 28/50\n"
     ]
    },
    {
     "name": "stderr",
     "output_type": "stream",
     "text": [
      "c:\\Users\\Moritz\\anaconda3\\envs\\TL_GP\\lib\\site-packages\\botorch\\acquisition\\cached_cholesky.py:89: RuntimeWarning: `cache_root` is only supported for GPyTorchModels that are not MultiTask models and don't produce a TransformedPosterior. Got a model of type <class 'botorch.models.model.ModelList'>. Setting `cache_root = False`.\n",
      "  warnings.warn(\n"
     ]
    },
    {
     "name": "stdout",
     "output_type": "stream",
     "text": [
      "Acquisition function value: -2.3512241657091497\n",
      "Next point to sample: tensor([[2.9683, 3.0000, 1.0000, 1.9149, 3.0000]])\n",
      "Training data shapes: torch.Size([179, 6]), torch.Size([179, 1]), torch.Size([179, 1]), torch.Size([179, 1])\n",
      "Iteration 29/50\n"
     ]
    },
    {
     "name": "stderr",
     "output_type": "stream",
     "text": [
      "c:\\Users\\Moritz\\anaconda3\\envs\\TL_GP\\lib\\site-packages\\botorch\\acquisition\\cached_cholesky.py:89: RuntimeWarning: `cache_root` is only supported for GPyTorchModels that are not MultiTask models and don't produce a TransformedPosterior. Got a model of type <class 'botorch.models.model.ModelList'>. Setting `cache_root = False`.\n",
      "  warnings.warn(\n"
     ]
    },
    {
     "name": "stdout",
     "output_type": "stream",
     "text": [
      "Acquisition function value: -1.986107555058291\n",
      "Next point to sample: tensor([[1.0000, 1.0000, 1.0000, 2.0966, 3.0000]])\n",
      "Training data shapes: torch.Size([180, 6]), torch.Size([180, 1]), torch.Size([180, 1]), torch.Size([180, 1])\n",
      "Iteration 30/50\n"
     ]
    },
    {
     "name": "stderr",
     "output_type": "stream",
     "text": [
      "c:\\Users\\Moritz\\anaconda3\\envs\\TL_GP\\lib\\site-packages\\botorch\\acquisition\\cached_cholesky.py:89: RuntimeWarning: `cache_root` is only supported for GPyTorchModels that are not MultiTask models and don't produce a TransformedPosterior. Got a model of type <class 'botorch.models.model.ModelList'>. Setting `cache_root = False`.\n",
      "  warnings.warn(\n"
     ]
    },
    {
     "name": "stdout",
     "output_type": "stream",
     "text": [
      "Acquisition function value: -2.001137652968503\n",
      "Next point to sample: tensor([[3.0000, 3.0000, 1.0000, 2.5480, 3.0000]])\n",
      "Training data shapes: torch.Size([181, 6]), torch.Size([181, 1]), torch.Size([181, 1]), torch.Size([181, 1])\n",
      "Iteration 31/50\n"
     ]
    },
    {
     "name": "stderr",
     "output_type": "stream",
     "text": [
      "c:\\Users\\Moritz\\anaconda3\\envs\\TL_GP\\lib\\site-packages\\botorch\\acquisition\\cached_cholesky.py:89: RuntimeWarning: `cache_root` is only supported for GPyTorchModels that are not MultiTask models and don't produce a TransformedPosterior. Got a model of type <class 'botorch.models.model.ModelList'>. Setting `cache_root = False`.\n",
      "  warnings.warn(\n"
     ]
    },
    {
     "name": "stdout",
     "output_type": "stream",
     "text": [
      "Acquisition function value: -2.005775743716141\n",
      "Next point to sample: tensor([[1.0000, 3.0000, 1.0000, 1.8540, 3.0000]])\n",
      "Training data shapes: torch.Size([182, 6]), torch.Size([182, 1]), torch.Size([182, 1]), torch.Size([182, 1])\n",
      "Iteration 32/50\n"
     ]
    },
    {
     "name": "stderr",
     "output_type": "stream",
     "text": [
      "c:\\Users\\Moritz\\anaconda3\\envs\\TL_GP\\lib\\site-packages\\botorch\\acquisition\\cached_cholesky.py:89: RuntimeWarning: `cache_root` is only supported for GPyTorchModels that are not MultiTask models and don't produce a TransformedPosterior. Got a model of type <class 'botorch.models.model.ModelList'>. Setting `cache_root = False`.\n",
      "  warnings.warn(\n",
      "c:\\Users\\Moritz\\anaconda3\\envs\\TL_GP\\lib\\site-packages\\botorch\\optim\\optimize.py:367: RuntimeWarning: Optimization failed in `gen_candidates_scipy` with the following warning(s):\n",
      "[NumericalWarning('A not p.d., added jitter of 1.0e-08 to the diagonal'), OptimizationWarning('Optimization failed within `scipy.optimize.minimize` with status 2 and message ABNORMAL_TERMINATION_IN_LNSRCH.'), NumericalWarning('A not p.d., added jitter of 1.0e-08 to the diagonal')]\n",
      "Trying again with a new set of initial conditions.\n",
      "  warnings.warn(first_warn_msg, RuntimeWarning)\n"
     ]
    },
    {
     "name": "stdout",
     "output_type": "stream",
     "text": [
      "Acquisition function value: -2.621076266165841\n",
      "Next point to sample: tensor([[1.0000, 1.0000, 2.6023, 2.8553, 3.0000]])\n",
      "Training data shapes: torch.Size([183, 6]), torch.Size([183, 1]), torch.Size([183, 1]), torch.Size([183, 1])\n",
      "Iteration 33/50\n"
     ]
    },
    {
     "name": "stderr",
     "output_type": "stream",
     "text": [
      "c:\\Users\\Moritz\\anaconda3\\envs\\TL_GP\\lib\\site-packages\\botorch\\acquisition\\cached_cholesky.py:89: RuntimeWarning: `cache_root` is only supported for GPyTorchModels that are not MultiTask models and don't produce a TransformedPosterior. Got a model of type <class 'botorch.models.model.ModelList'>. Setting `cache_root = False`.\n",
      "  warnings.warn(\n"
     ]
    },
    {
     "name": "stdout",
     "output_type": "stream",
     "text": [
      "Acquisition function value: -2.774658780956722\n",
      "Next point to sample: tensor([[1.0000, 1.0000, 1.0000, 1.1552, 2.1719]])\n",
      "Training data shapes: torch.Size([184, 6]), torch.Size([184, 1]), torch.Size([184, 1]), torch.Size([184, 1])\n",
      "Iteration 34/50\n"
     ]
    },
    {
     "name": "stderr",
     "output_type": "stream",
     "text": [
      "c:\\Users\\Moritz\\anaconda3\\envs\\TL_GP\\lib\\site-packages\\botorch\\acquisition\\cached_cholesky.py:89: RuntimeWarning: `cache_root` is only supported for GPyTorchModels that are not MultiTask models and don't produce a TransformedPosterior. Got a model of type <class 'botorch.models.model.ModelList'>. Setting `cache_root = False`.\n",
      "  warnings.warn(\n"
     ]
    },
    {
     "name": "stdout",
     "output_type": "stream",
     "text": [
      "Acquisition function value: -2.4798582234033435\n",
      "Next point to sample: tensor([[1.0000, 1.0000, 2.8120, 2.4390, 3.0000]])\n",
      "Training data shapes: torch.Size([185, 6]), torch.Size([185, 1]), torch.Size([185, 1]), torch.Size([185, 1])\n",
      "Iteration 35/50\n"
     ]
    },
    {
     "name": "stderr",
     "output_type": "stream",
     "text": [
      "c:\\Users\\Moritz\\anaconda3\\envs\\TL_GP\\lib\\site-packages\\botorch\\acquisition\\cached_cholesky.py:89: RuntimeWarning: `cache_root` is only supported for GPyTorchModels that are not MultiTask models and don't produce a TransformedPosterior. Got a model of type <class 'botorch.models.model.ModelList'>. Setting `cache_root = False`.\n",
      "  warnings.warn(\n"
     ]
    },
    {
     "name": "stdout",
     "output_type": "stream",
     "text": [
      "Acquisition function value: -2.3600864896173146\n",
      "Next point to sample: tensor([[2.0162, 1.0000, 1.0000, 1.0000, 3.0000]])\n",
      "Training data shapes: torch.Size([186, 6]), torch.Size([186, 1]), torch.Size([186, 1]), torch.Size([186, 1])\n",
      "Iteration 36/50\n"
     ]
    },
    {
     "name": "stderr",
     "output_type": "stream",
     "text": [
      "c:\\Users\\Moritz\\anaconda3\\envs\\TL_GP\\lib\\site-packages\\botorch\\acquisition\\cached_cholesky.py:89: RuntimeWarning: `cache_root` is only supported for GPyTorchModels that are not MultiTask models and don't produce a TransformedPosterior. Got a model of type <class 'botorch.models.model.ModelList'>. Setting `cache_root = False`.\n",
      "  warnings.warn(\n"
     ]
    },
    {
     "name": "stdout",
     "output_type": "stream",
     "text": [
      "Acquisition function value: -2.1834570156885618\n",
      "Next point to sample: tensor([[1.0000, 1.0000, 1.0000, 1.2358, 3.0000]])\n",
      "Training data shapes: torch.Size([187, 6]), torch.Size([187, 1]), torch.Size([187, 1]), torch.Size([187, 1])\n",
      "Iteration 37/50\n"
     ]
    },
    {
     "name": "stderr",
     "output_type": "stream",
     "text": [
      "c:\\Users\\Moritz\\anaconda3\\envs\\TL_GP\\lib\\site-packages\\botorch\\acquisition\\cached_cholesky.py:89: RuntimeWarning: `cache_root` is only supported for GPyTorchModels that are not MultiTask models and don't produce a TransformedPosterior. Got a model of type <class 'botorch.models.model.ModelList'>. Setting `cache_root = False`.\n",
      "  warnings.warn(\n"
     ]
    },
    {
     "name": "stdout",
     "output_type": "stream",
     "text": [
      "Acquisition function value: -1.3071994698148162\n",
      "Next point to sample: tensor([[1.0000, 3.0000, 3.0000, 1.0000, 2.6384]])\n",
      "Training data shapes: torch.Size([188, 6]), torch.Size([188, 1]), torch.Size([188, 1]), torch.Size([188, 1])\n",
      "Iteration 38/50\n"
     ]
    },
    {
     "name": "stderr",
     "output_type": "stream",
     "text": [
      "c:\\Users\\Moritz\\anaconda3\\envs\\TL_GP\\lib\\site-packages\\botorch\\acquisition\\cached_cholesky.py:89: RuntimeWarning: `cache_root` is only supported for GPyTorchModels that are not MultiTask models and don't produce a TransformedPosterior. Got a model of type <class 'botorch.models.model.ModelList'>. Setting `cache_root = False`.\n",
      "  warnings.warn(\n"
     ]
    },
    {
     "name": "stdout",
     "output_type": "stream",
     "text": [
      "Acquisition function value: -1.235942202294333\n",
      "Next point to sample: tensor([[1.0000, 1.0000, 2.2550, 2.2630, 3.0000]])\n",
      "Training data shapes: torch.Size([189, 6]), torch.Size([189, 1]), torch.Size([189, 1]), torch.Size([189, 1])\n",
      "Iteration 39/50\n"
     ]
    },
    {
     "name": "stderr",
     "output_type": "stream",
     "text": [
      "c:\\Users\\Moritz\\anaconda3\\envs\\TL_GP\\lib\\site-packages\\botorch\\acquisition\\cached_cholesky.py:89: RuntimeWarning: `cache_root` is only supported for GPyTorchModels that are not MultiTask models and don't produce a TransformedPosterior. Got a model of type <class 'botorch.models.model.ModelList'>. Setting `cache_root = False`.\n",
      "  warnings.warn(\n"
     ]
    },
    {
     "name": "stdout",
     "output_type": "stream",
     "text": [
      "Acquisition function value: -2.238519388971401\n",
      "Next point to sample: tensor([[1.0000, 1.0000, 1.0000, 1.7373, 1.9927]])\n",
      "Training data shapes: torch.Size([190, 6]), torch.Size([190, 1]), torch.Size([190, 1]), torch.Size([190, 1])\n",
      "Iteration 40/50\n"
     ]
    },
    {
     "name": "stderr",
     "output_type": "stream",
     "text": [
      "c:\\Users\\Moritz\\anaconda3\\envs\\TL_GP\\lib\\site-packages\\botorch\\acquisition\\cached_cholesky.py:89: RuntimeWarning: `cache_root` is only supported for GPyTorchModels that are not MultiTask models and don't produce a TransformedPosterior. Got a model of type <class 'botorch.models.model.ModelList'>. Setting `cache_root = False`.\n",
      "  warnings.warn(\n"
     ]
    },
    {
     "name": "stdout",
     "output_type": "stream",
     "text": [
      "Acquisition function value: -3.335358453580159\n",
      "Next point to sample: tensor([[1.0000, 1.2906, 1.0000, 1.0000, 1.8498]])\n",
      "Training data shapes: torch.Size([191, 6]), torch.Size([191, 1]), torch.Size([191, 1]), torch.Size([191, 1])\n",
      "Iteration 41/50\n"
     ]
    },
    {
     "name": "stderr",
     "output_type": "stream",
     "text": [
      "c:\\Users\\Moritz\\anaconda3\\envs\\TL_GP\\lib\\site-packages\\botorch\\acquisition\\cached_cholesky.py:89: RuntimeWarning: `cache_root` is only supported for GPyTorchModels that are not MultiTask models and don't produce a TransformedPosterior. Got a model of type <class 'botorch.models.model.ModelList'>. Setting `cache_root = False`.\n",
      "  warnings.warn(\n"
     ]
    },
    {
     "name": "stdout",
     "output_type": "stream",
     "text": [
      "Acquisition function value: -3.054922870617716\n",
      "Next point to sample: tensor([[1.0000, 3.0000, 1.0000, 2.8242, 3.0000]])\n",
      "Training data shapes: torch.Size([192, 6]), torch.Size([192, 1]), torch.Size([192, 1]), torch.Size([192, 1])\n",
      "Iteration 42/50\n"
     ]
    },
    {
     "name": "stderr",
     "output_type": "stream",
     "text": [
      "c:\\Users\\Moritz\\anaconda3\\envs\\TL_GP\\lib\\site-packages\\botorch\\acquisition\\cached_cholesky.py:89: RuntimeWarning: `cache_root` is only supported for GPyTorchModels that are not MultiTask models and don't produce a TransformedPosterior. Got a model of type <class 'botorch.models.model.ModelList'>. Setting `cache_root = False`.\n",
      "  warnings.warn(\n"
     ]
    },
    {
     "name": "stdout",
     "output_type": "stream",
     "text": [
      "Acquisition function value: -0.3421317571525835\n",
      "Next point to sample: tensor([[1.0000, 3.0000, 1.9586, 1.0000, 1.0000]])\n",
      "Training data shapes: torch.Size([193, 6]), torch.Size([193, 1]), torch.Size([193, 1]), torch.Size([193, 1])\n",
      "Iteration 43/50\n"
     ]
    },
    {
     "name": "stderr",
     "output_type": "stream",
     "text": [
      "c:\\Users\\Moritz\\anaconda3\\envs\\TL_GP\\lib\\site-packages\\botorch\\acquisition\\cached_cholesky.py:89: RuntimeWarning: `cache_root` is only supported for GPyTorchModels that are not MultiTask models and don't produce a TransformedPosterior. Got a model of type <class 'botorch.models.model.ModelList'>. Setting `cache_root = False`.\n",
      "  warnings.warn(\n"
     ]
    },
    {
     "name": "stdout",
     "output_type": "stream",
     "text": [
      "Acquisition function value: -2.1437000823745116\n",
      "Next point to sample: tensor([[1.0000, 1.0000, 3.0000, 2.7992, 3.0000]])\n",
      "Training data shapes: torch.Size([194, 6]), torch.Size([194, 1]), torch.Size([194, 1]), torch.Size([194, 1])\n",
      "Iteration 44/50\n"
     ]
    },
    {
     "name": "stderr",
     "output_type": "stream",
     "text": [
      "c:\\Users\\Moritz\\anaconda3\\envs\\TL_GP\\lib\\site-packages\\botorch\\acquisition\\cached_cholesky.py:89: RuntimeWarning: `cache_root` is only supported for GPyTorchModels that are not MultiTask models and don't produce a TransformedPosterior. Got a model of type <class 'botorch.models.model.ModelList'>. Setting `cache_root = False`.\n",
      "  warnings.warn(\n"
     ]
    },
    {
     "name": "stdout",
     "output_type": "stream",
     "text": [
      "Acquisition function value: -2.0782209551629127\n",
      "Next point to sample: tensor([[1.0000, 3.0000, 1.0000, 1.5317, 3.0000]])\n",
      "Training data shapes: torch.Size([195, 6]), torch.Size([195, 1]), torch.Size([195, 1]), torch.Size([195, 1])\n",
      "Iteration 45/50\n"
     ]
    },
    {
     "name": "stderr",
     "output_type": "stream",
     "text": [
      "c:\\Users\\Moritz\\anaconda3\\envs\\TL_GP\\lib\\site-packages\\botorch\\acquisition\\cached_cholesky.py:89: RuntimeWarning: `cache_root` is only supported for GPyTorchModels that are not MultiTask models and don't produce a TransformedPosterior. Got a model of type <class 'botorch.models.model.ModelList'>. Setting `cache_root = False`.\n",
      "  warnings.warn(\n"
     ]
    },
    {
     "name": "stdout",
     "output_type": "stream",
     "text": [
      "Acquisition function value: -2.681980493888398\n",
      "Next point to sample: tensor([[1.0000, 1.0000, 1.3566, 1.3811, 3.0000]])\n",
      "Training data shapes: torch.Size([196, 6]), torch.Size([196, 1]), torch.Size([196, 1]), torch.Size([196, 1])\n",
      "Iteration 46/50\n"
     ]
    },
    {
     "name": "stderr",
     "output_type": "stream",
     "text": [
      "c:\\Users\\Moritz\\anaconda3\\envs\\TL_GP\\lib\\site-packages\\botorch\\acquisition\\cached_cholesky.py:89: RuntimeWarning: `cache_root` is only supported for GPyTorchModels that are not MultiTask models and don't produce a TransformedPosterior. Got a model of type <class 'botorch.models.model.ModelList'>. Setting `cache_root = False`.\n",
      "  warnings.warn(\n"
     ]
    },
    {
     "name": "stdout",
     "output_type": "stream",
     "text": [
      "Acquisition function value: -1.917562255614055\n",
      "Next point to sample: tensor([[1.0000, 3.0000, 3.0000, 1.0000, 2.0881]])\n",
      "Training data shapes: torch.Size([197, 6]), torch.Size([197, 1]), torch.Size([197, 1]), torch.Size([197, 1])\n",
      "Iteration 47/50\n"
     ]
    },
    {
     "name": "stderr",
     "output_type": "stream",
     "text": [
      "c:\\Users\\Moritz\\anaconda3\\envs\\TL_GP\\lib\\site-packages\\botorch\\acquisition\\cached_cholesky.py:89: RuntimeWarning: `cache_root` is only supported for GPyTorchModels that are not MultiTask models and don't produce a TransformedPosterior. Got a model of type <class 'botorch.models.model.ModelList'>. Setting `cache_root = False`.\n",
      "  warnings.warn(\n"
     ]
    },
    {
     "name": "stdout",
     "output_type": "stream",
     "text": [
      "Acquisition function value: -2.108949176029746\n",
      "Next point to sample: tensor([[1.4406, 1.0000, 3.0000, 3.0000, 3.0000]])\n",
      "Training data shapes: torch.Size([198, 6]), torch.Size([198, 1]), torch.Size([198, 1]), torch.Size([198, 1])\n",
      "Iteration 48/50\n"
     ]
    },
    {
     "name": "stderr",
     "output_type": "stream",
     "text": [
      "c:\\Users\\Moritz\\anaconda3\\envs\\TL_GP\\lib\\site-packages\\botorch\\acquisition\\cached_cholesky.py:89: RuntimeWarning: `cache_root` is only supported for GPyTorchModels that are not MultiTask models and don't produce a TransformedPosterior. Got a model of type <class 'botorch.models.model.ModelList'>. Setting `cache_root = False`.\n",
      "  warnings.warn(\n"
     ]
    },
    {
     "name": "stdout",
     "output_type": "stream",
     "text": [
      "Acquisition function value: -2.9320285193416495\n",
      "Next point to sample: tensor([[1.8892, 3.0000, 1.0000, 1.0000, 3.0000]])\n",
      "Training data shapes: torch.Size([199, 6]), torch.Size([199, 1]), torch.Size([199, 1]), torch.Size([199, 1])\n",
      "Iteration 49/50\n"
     ]
    },
    {
     "name": "stderr",
     "output_type": "stream",
     "text": [
      "c:\\Users\\Moritz\\anaconda3\\envs\\TL_GP\\lib\\site-packages\\botorch\\acquisition\\cached_cholesky.py:89: RuntimeWarning: `cache_root` is only supported for GPyTorchModels that are not MultiTask models and don't produce a TransformedPosterior. Got a model of type <class 'botorch.models.model.ModelList'>. Setting `cache_root = False`.\n",
      "  warnings.warn(\n"
     ]
    },
    {
     "name": "stdout",
     "output_type": "stream",
     "text": [
      "Acquisition function value: -3.2839395437365\n",
      "Next point to sample: tensor([[1.7348, 3.0000, 1.0000, 2.2652, 1.7348]])\n",
      "Training data shapes: torch.Size([200, 6]), torch.Size([200, 1]), torch.Size([200, 1]), torch.Size([200, 1])\n",
      "Iteration 50/50\n"
     ]
    },
    {
     "name": "stderr",
     "output_type": "stream",
     "text": [
      "c:\\Users\\Moritz\\anaconda3\\envs\\TL_GP\\lib\\site-packages\\botorch\\acquisition\\cached_cholesky.py:89: RuntimeWarning: `cache_root` is only supported for GPyTorchModels that are not MultiTask models and don't produce a TransformedPosterior. Got a model of type <class 'botorch.models.model.ModelList'>. Setting `cache_root = False`.\n",
      "  warnings.warn(\n",
      "c:\\Users\\Moritz\\anaconda3\\envs\\TL_GP\\lib\\site-packages\\botorch\\optim\\optimize.py:367: RuntimeWarning: Optimization failed in `gen_candidates_scipy` with the following warning(s):\n",
      "[NumericalWarning('A not p.d., added jitter of 1.0e-08 to the diagonal'), NumericalWarning('A not p.d., added jitter of 1.0e-08 to the diagonal'), OptimizationWarning('Optimization failed within `scipy.optimize.minimize` with status 2 and message ABNORMAL_TERMINATION_IN_LNSRCH.'), NumericalWarning('A not p.d., added jitter of 1.0e-08 to the diagonal')]\n",
      "Trying again with a new set of initial conditions.\n",
      "  warnings.warn(first_warn_msg, RuntimeWarning)\n"
     ]
    },
    {
     "name": "stdout",
     "output_type": "stream",
     "text": [
      "Acquisition function value: -3.534681759091437\n",
      "Next point to sample: tensor([[1.0000, 1.0000, 1.0000, 1.4330, 3.0000]])\n",
      "Training data shapes: torch.Size([201, 6]), torch.Size([201, 1]), torch.Size([201, 1]), torch.Size([201, 1])\n"
     ]
    }
   ],
   "source": [
    "train_X, train_Y1, train_Y2, train_Y3 = optimize_vehicle_safety(new_modellist, train_X, train_Y1, train_Y2, train_Y3, bounds)"
   ]
  },
  {
   "cell_type": "code",
   "execution_count": 16,
   "metadata": {},
   "outputs": [
    {
     "name": "stdout",
     "output_type": "stream",
     "text": [
      "torch.Size([201, 1])\n"
     ]
    }
   ],
   "source": [
    "print(train_Y1.shape)"
   ]
  },
  {
   "cell_type": "code",
   "execution_count": 17,
   "metadata": {},
   "outputs": [],
   "source": [
    "train_Y = torch.cat([train_Y1, train_Y2, train_Y3], dim=1)"
   ]
  },
  {
   "cell_type": "code",
   "execution_count": 18,
   "metadata": {},
   "outputs": [
    {
     "name": "stdout",
     "output_type": "stream",
     "text": [
      "torch.Size([201, 3])\n"
     ]
    }
   ],
   "source": [
    "print(train_Y.shape)"
   ]
  },
  {
   "cell_type": "code",
   "execution_count": 19,
   "metadata": {},
   "outputs": [
    {
     "name": "stdout",
     "output_type": "stream",
     "text": [
      "tensor([[1.6151, 2.0840, 1.5571, 1.0127, 2.8532, 0.0000],\n",
      "        [2.5334, 2.3375, 1.9577, 2.1742, 1.3223, 0.0000],\n",
      "        [2.3148, 2.0759, 2.3564, 2.5278, 2.2090, 0.0000],\n",
      "        ...,\n",
      "        [1.8892, 3.0000, 1.0000, 1.0000, 3.0000, 2.0000],\n",
      "        [1.7348, 3.0000, 1.0000, 2.2652, 1.7348, 2.0000],\n",
      "        [1.0000, 1.0000, 1.0000, 1.4330, 3.0000, 2.0000]], dtype=torch.float64)\n",
      "torch.Size([201, 6])\n"
     ]
    }
   ],
   "source": [
    "train_X\n",
    "print(train_X)\n",
    "print(train_X.shape)"
   ]
  },
  {
   "cell_type": "code",
   "execution_count": 20,
   "metadata": {},
   "outputs": [
    {
     "name": "stdout",
     "output_type": "stream",
     "text": [
      "tensor([[1.9513, 1.9903, 2.2015, 2.5421, 2.9619],\n",
      "        [1.0000, 3.0000, 3.0000, 1.0000, 1.0000],\n",
      "        [1.0000, 3.0000, 1.0000, 1.0000, 1.9622],\n",
      "        [1.3201, 3.0000, 1.0000, 1.6333, 2.7671],\n",
      "        [1.0000, 1.0000, 1.0000, 1.0000, 1.0000],\n",
      "        [1.0000, 3.0000, 3.0000, 1.0000, 3.0000],\n",
      "        [2.1457, 3.0000, 1.0000, 2.0286, 2.5711],\n",
      "        [1.0000, 1.0000, 1.0000, 1.3667, 2.3094],\n",
      "        [1.0000, 3.0000, 1.0000, 1.0000, 1.0000],\n",
      "        [1.0000, 3.0000, 1.0000, 1.1486, 3.0000],\n",
      "        [1.0000, 1.0000, 1.6194, 1.9232, 3.0000],\n",
      "        [1.0000, 1.0000, 1.0000, 1.0000, 3.0000],\n",
      "        [1.0000, 1.0000, 1.0000, 1.6095, 3.0000],\n",
      "        [1.0000, 3.0000, 1.0000, 1.4059, 2.6801],\n",
      "        [2.9025, 3.0000, 1.0000, 2.2145, 3.0000],\n",
      "        [1.9486, 3.0000, 1.0000, 2.3034, 3.0000],\n",
      "        [2.3664, 3.0000, 1.0000, 1.6966, 3.0000],\n",
      "        [2.9763, 3.0000, 1.0000, 2.4595, 2.2941],\n",
      "        [1.0000, 3.0000, 1.0000, 1.0000, 3.0000],\n",
      "        [1.0000, 1.0000, 1.0000, 1.0000, 2.0341],\n",
      "        [1.5270, 3.0000, 1.0000, 1.3183, 3.0000],\n",
      "        [2.0897, 3.0000, 1.0000, 1.9986, 2.3687],\n",
      "        [1.0798, 3.0000, 1.0000, 2.2423, 3.0000],\n",
      "        [2.3874, 3.0000, 1.0000, 2.5596, 2.8124],\n",
      "        [2.2150, 3.0000, 1.0000, 2.0274, 3.0000],\n",
      "        [2.8463, 3.0000, 1.0000, 1.8214, 2.7164],\n",
      "        [1.0000, 1.9972, 1.0000, 1.0000, 1.0000],\n",
      "        [1.0000, 3.0000, 1.0000, 1.2886, 3.0000],\n",
      "        [2.9683, 3.0000, 1.0000, 1.9149, 3.0000],\n",
      "        [1.0000, 1.0000, 1.0000, 2.0966, 3.0000],\n",
      "        [3.0000, 3.0000, 1.0000, 2.5480, 3.0000],\n",
      "        [1.0000, 3.0000, 1.0000, 1.8540, 3.0000],\n",
      "        [1.0000, 1.0000, 2.6023, 2.8553, 3.0000],\n",
      "        [1.0000, 1.0000, 1.0000, 1.1552, 2.1719],\n",
      "        [1.0000, 1.0000, 2.8120, 2.4390, 3.0000],\n",
      "        [2.0162, 1.0000, 1.0000, 1.0000, 3.0000],\n",
      "        [1.0000, 1.0000, 1.0000, 1.2358, 3.0000],\n",
      "        [1.0000, 3.0000, 3.0000, 1.0000, 2.6384],\n",
      "        [1.0000, 1.0000, 2.2550, 2.2630, 3.0000],\n",
      "        [1.0000, 1.0000, 1.0000, 1.7373, 1.9927],\n",
      "        [1.0000, 1.2906, 1.0000, 1.0000, 1.8498],\n",
      "        [1.0000, 3.0000, 1.0000, 2.8242, 3.0000],\n",
      "        [1.0000, 3.0000, 1.9586, 1.0000, 1.0000],\n",
      "        [1.0000, 1.0000, 3.0000, 2.7992, 3.0000],\n",
      "        [1.0000, 3.0000, 1.0000, 1.5317, 3.0000],\n",
      "        [1.0000, 1.0000, 1.3566, 1.3811, 3.0000],\n",
      "        [1.0000, 3.0000, 3.0000, 1.0000, 2.0881],\n",
      "        [1.4406, 1.0000, 3.0000, 3.0000, 3.0000],\n",
      "        [1.8892, 3.0000, 1.0000, 1.0000, 3.0000],\n",
      "        [1.7348, 3.0000, 1.0000, 2.2652, 1.7348],\n",
      "        [1.0000, 1.0000, 1.0000, 1.4330, 3.0000]], dtype=torch.float64)\n",
      "torch.Size([51, 5])\n",
      "tensor([[-1.6924e+03, -1.0578e+01, -1.0246e-01],\n",
      "        [-1.6755e+03, -6.1428e+00, -2.6400e-01],\n",
      "        [-1.6706e+03, -7.0276e+00, -8.4902e-02],\n",
      "        [-1.6799e+03, -8.5452e+00, -6.0086e-02],\n",
      "        [-1.6617e+03, -8.3046e+00, -7.0800e-02],\n",
      "        [-1.6844e+03, -6.3150e+00, -2.1600e-01],\n",
      "        [-1.6840e+03, -9.5432e+00, -5.2238e-02],\n",
      "        [-1.6704e+03, -8.8746e+00, -5.7977e-02],\n",
      "        [-1.6664e+03, -6.9448e+00, -9.2600e-02],\n",
      "        [-1.6764e+03, -7.4045e+00, -7.1788e-02],\n",
      "        [-1.6806e+03, -9.7644e+00, -5.6264e-02],\n",
      "        [-1.6706e+03, -8.4768e+00, -5.4800e-02],\n",
      "        [-1.6753e+03, -9.2631e+00, -5.2510e-02],\n",
      "        [-1.6770e+03, -7.8929e+00, -6.7155e-02],\n",
      "        [-1.6891e+03, -9.9960e+00, -4.4155e-02],\n",
      "        [-1.6876e+03, -1.0123e+01, -4.7197e-02],\n",
      "        [-1.6839e+03, -9.0908e+00, -5.3012e-02],\n",
      "        [-1.6880e+03, -1.0215e+01, -4.8332e-02],\n",
      "        [-1.6753e+03, -7.1170e+00, -7.6600e-02],\n",
      "        [-1.6663e+03, -8.3936e+00, -6.2527e-02],\n",
      "        [-1.6790e+03, -8.0804e+00, -6.4879e-02],\n",
      "        [-1.6827e+03, -9.4423e+00, -5.4426e-02],\n",
      "        [-1.6850e+03, -9.7876e+00, -5.0881e-02],\n",
      "        [-1.6897e+03, -1.0605e+01, -4.6315e-02],\n",
      "        [-1.6861e+03, -9.6325e+00, -4.8557e-02],\n",
      "        [-1.6847e+03, -9.3060e+00, -5.1279e-02],\n",
      "        [-1.6640e+03, -7.6266e+00, -1.0577e-01],\n",
      "        [-1.6775e+03, -7.6823e+00, -6.7696e-02],\n",
      "        [-1.6870e+03, -9.5258e+00, -4.7138e-02],\n",
      "        [-1.6791e+03, -9.9856e+00, -5.6503e-02],\n",
      "        [-1.6919e+03, -1.0542e+01, -4.2488e-02],\n",
      "        [-1.6819e+03, -8.8751e+00, -5.5514e-02],\n",
      "        [-1.6923e+03, -1.0854e+01, -4.7150e-02],\n",
      "        [-1.6681e+03, -8.5933e+00, -6.0073e-02],\n",
      "        [-1.6900e+03, -9.9343e+00, -4.8533e-02],\n",
      "        [-1.6730e+03, -9.1934e+00, -6.5775e-02],\n",
      "        [-1.6724e+03, -8.7654e+00, -5.2954e-02],\n",
      "        [-1.6828e+03, -6.2839e+00, -2.2468e-01],\n",
      "        [-1.6861e+03, -1.0070e+01, -5.3950e-02],\n",
      "        [-1.6718e+03, -9.3578e+00, -6.1116e-02],\n",
      "        [-1.6662e+03, -8.1802e+00, -7.9143e-02],\n",
      "        [-1.6893e+03, -1.1185e+01, -5.0849e-02],\n",
      "        [-1.6707e+03, -6.9035e+00, -1.7475e-01],\n",
      "        [-1.6936e+03, -1.0373e+01, -4.1365e-02],\n",
      "        [-1.6794e+03, -8.1814e+00, -6.1604e-02],\n",
      "        [-1.6752e+03, -9.0115e+00, -5.7386e-02],\n",
      "        [-1.6803e+03, -6.2365e+00, -2.3789e-01],\n",
      "        [-1.6962e+03, -1.0759e+01, -4.4158e-02],\n",
      "        [-1.6774e+03, -7.7566e+00, -7.3221e-02],\n",
      "        [-1.6811e+03, -9.8220e+00, -5.8360e-02],\n",
      "        [-1.6740e+03, -9.0219e+00, -5.2340e-02]], dtype=torch.float64)\n",
      "torch.Size([51, 3])\n"
     ]
    }
   ],
   "source": [
    "indices = train_X[:, -1]\n",
    "\n",
    "mask = indices == 2\n",
    "\n",
    "filtered_train_Y = train_Y[mask]\n",
    "\n",
    "filtered_train_X = train_X[mask]\n",
    "\n",
    "filtered_train_X_new = X_baseline_no_task = filtered_train_X[:, :-1]\n",
    "\n",
    "\n",
    "print(filtered_train_X_new)\n",
    "print(filtered_train_X_new.shape)\n",
    "print(filtered_train_Y)\n",
    "print(filtered_train_Y.shape)"
   ]
  },
  {
   "cell_type": "code",
   "execution_count": 21,
   "metadata": {},
   "outputs": [
    {
     "name": "stdout",
     "output_type": "stream",
     "text": [
      "tensor([[-1.6924e+03, -1.0578e+01, -1.0246e-01],\n",
      "        [-1.6755e+03, -6.1428e+00, -2.6400e-01],\n",
      "        [-1.6706e+03, -7.0276e+00, -8.4902e-02],\n",
      "        [-1.6799e+03, -8.5452e+00, -6.0086e-02],\n",
      "        [-1.6617e+03, -8.3046e+00, -7.0800e-02],\n",
      "        [-1.6844e+03, -6.3150e+00, -2.1600e-01],\n",
      "        [-1.6840e+03, -9.5432e+00, -5.2238e-02],\n",
      "        [-1.6704e+03, -8.8746e+00, -5.7977e-02],\n",
      "        [-1.6664e+03, -6.9448e+00, -9.2600e-02],\n",
      "        [-1.6764e+03, -7.4045e+00, -7.1788e-02],\n",
      "        [-1.6806e+03, -9.7644e+00, -5.6264e-02],\n",
      "        [-1.6706e+03, -8.4768e+00, -5.4800e-02],\n",
      "        [-1.6753e+03, -9.2631e+00, -5.2510e-02],\n",
      "        [-1.6770e+03, -7.8929e+00, -6.7155e-02],\n",
      "        [-1.6891e+03, -9.9960e+00, -4.4155e-02],\n",
      "        [-1.6876e+03, -1.0123e+01, -4.7197e-02],\n",
      "        [-1.6839e+03, -9.0908e+00, -5.3012e-02],\n",
      "        [-1.6880e+03, -1.0215e+01, -4.8333e-02],\n",
      "        [-1.6753e+03, -7.1170e+00, -7.6600e-02],\n",
      "        [-1.6663e+03, -8.3936e+00, -6.2527e-02],\n",
      "        [-1.6790e+03, -8.0804e+00, -6.4879e-02],\n",
      "        [-1.6827e+03, -9.4423e+00, -5.4426e-02],\n",
      "        [-1.6850e+03, -9.7876e+00, -5.0881e-02],\n",
      "        [-1.6897e+03, -1.0605e+01, -4.6315e-02],\n",
      "        [-1.6861e+03, -9.6325e+00, -4.8557e-02],\n",
      "        [-1.6847e+03, -9.3060e+00, -5.1279e-02],\n",
      "        [-1.6640e+03, -7.6266e+00, -1.0577e-01],\n",
      "        [-1.6775e+03, -7.6823e+00, -6.7696e-02],\n",
      "        [-1.6870e+03, -9.5258e+00, -4.7138e-02],\n",
      "        [-1.6791e+03, -9.9856e+00, -5.6503e-02],\n",
      "        [-1.6919e+03, -1.0542e+01, -4.2488e-02],\n",
      "        [-1.6819e+03, -8.8751e+00, -5.5514e-02],\n",
      "        [-1.6923e+03, -1.0854e+01, -4.7150e-02],\n",
      "        [-1.6681e+03, -8.5933e+00, -6.0073e-02],\n",
      "        [-1.6900e+03, -9.9343e+00, -4.8533e-02],\n",
      "        [-1.6730e+03, -9.1934e+00, -6.5775e-02],\n",
      "        [-1.6724e+03, -8.7654e+00, -5.2954e-02],\n",
      "        [-1.6828e+03, -6.2839e+00, -2.2468e-01],\n",
      "        [-1.6861e+03, -1.0070e+01, -5.3950e-02],\n",
      "        [-1.6718e+03, -9.3578e+00, -6.1116e-02],\n",
      "        [-1.6662e+03, -8.1802e+00, -7.9143e-02],\n",
      "        [-1.6893e+03, -1.1185e+01, -5.0849e-02],\n",
      "        [-1.6707e+03, -6.9035e+00, -1.7475e-01],\n",
      "        [-1.6936e+03, -1.0373e+01, -4.1365e-02],\n",
      "        [-1.6794e+03, -8.1814e+00, -6.1604e-02],\n",
      "        [-1.6752e+03, -9.0115e+00, -5.7386e-02],\n",
      "        [-1.6803e+03, -6.2365e+00, -2.3789e-01],\n",
      "        [-1.6962e+03, -1.0759e+01, -4.4158e-02],\n",
      "        [-1.6774e+03, -7.7566e+00, -7.3221e-02],\n",
      "        [-1.6811e+03, -9.8220e+00, -5.8360e-02],\n",
      "        [-1.6740e+03, -9.0219e+00, -5.2340e-02]], dtype=torch.float64)\n"
     ]
    }
   ],
   "source": [
    "test_XX, exp = generate_car_crash_synthetic_data(filtered_train_X_new, 0.0)\n",
    "\n",
    "print(test_XX)"
   ]
  },
  {
   "cell_type": "code",
   "execution_count": 22,
   "metadata": {},
   "outputs": [
    {
     "name": "stdout",
     "output_type": "stream",
     "text": [
      "non_dominated points: tensor([[-1.6755e+03, -6.1428e+00, -2.6400e-01],\n",
      "        [-1.6706e+03, -7.0276e+00, -8.4902e-02],\n",
      "        [-1.6617e+03, -8.3046e+00, -7.0800e-02],\n",
      "        [-1.6844e+03, -6.3150e+00, -2.1600e-01],\n",
      "        [-1.6840e+03, -9.5432e+00, -5.2238e-02],\n",
      "        [-1.6704e+03, -8.8746e+00, -5.7977e-02],\n",
      "        [-1.6664e+03, -6.9448e+00, -9.2600e-02],\n",
      "        [-1.6764e+03, -7.4045e+00, -7.1788e-02],\n",
      "        [-1.6706e+03, -8.4768e+00, -5.4800e-02],\n",
      "        [-1.6770e+03, -7.8929e+00, -6.7155e-02],\n",
      "        [-1.6891e+03, -9.9960e+00, -4.4155e-02],\n",
      "        [-1.6753e+03, -7.1170e+00, -7.6600e-02],\n",
      "        [-1.6663e+03, -8.3936e+00, -6.2527e-02],\n",
      "        [-1.6790e+03, -8.0804e+00, -6.4879e-02],\n",
      "        [-1.6850e+03, -9.7876e+00, -5.0881e-02],\n",
      "        [-1.6861e+03, -9.6325e+00, -4.8557e-02],\n",
      "        [-1.6847e+03, -9.3060e+00, -5.1279e-02],\n",
      "        [-1.6640e+03, -7.6266e+00, -1.0577e-01],\n",
      "        [-1.6775e+03, -7.6823e+00, -6.7696e-02],\n",
      "        [-1.6870e+03, -9.5258e+00, -4.7138e-02],\n",
      "        [-1.6919e+03, -1.0542e+01, -4.2488e-02],\n",
      "        [-1.6681e+03, -8.5933e+00, -6.0073e-02],\n",
      "        [-1.6724e+03, -8.7654e+00, -5.2954e-02],\n",
      "        [-1.6828e+03, -6.2839e+00, -2.2468e-01],\n",
      "        [-1.6662e+03, -8.1802e+00, -7.9143e-02],\n",
      "        [-1.6707e+03, -6.9035e+00, -1.7475e-01],\n",
      "        [-1.6936e+03, -1.0373e+01, -4.1365e-02],\n",
      "        [-1.6794e+03, -8.1814e+00, -6.1604e-02],\n",
      "        [-1.6803e+03, -6.2365e+00, -2.3789e-01],\n",
      "        [-1.6740e+03, -9.0219e+00, -5.2340e-02]], dtype=torch.float64)\n",
      "tensor([-1.8647e+03, -1.1820e+01, -2.9040e-01], dtype=torch.float64)\n",
      "Final Hypervolume: 242.06782513945595\n"
     ]
    }
   ],
   "source": [
    "import torch\n",
    "from botorch.utils.multi_objective.box_decompositions.dominated import DominatedPartitioning\n",
    "from botorch.utils.multi_objective.pareto import is_non_dominated\n",
    "\n",
    "def calculate_final_hypervolume(train_Y_points, ref_point):\n",
    "    # Ensure train_Y is a 2D tensor and convert to float64 type\n",
    "    if train_Y_points.dim() == 1:\n",
    "        train_Y_points = train_Y_points.unsqueeze(0)\n",
    "    \n",
    "    train_Y_points = train_Y_points.to(torch.float64)\n",
    "    ref_point = ref_point.to(torch.float64)\n",
    "\n",
    "    # Filter out the non-dominated points\n",
    "    is_non_dominated_mask = is_non_dominated(train_Y_points)\n",
    "    non_dominated_points = train_Y_points[is_non_dominated_mask]\n",
    "\n",
    "    print(f\"non_dominated points: {non_dominated_points}\")\n",
    "    print(ref_point)\n",
    "    \n",
    "    # Compute the hypervolume\n",
    "    bd = DominatedPartitioning(ref_point=ref_point, Y=non_dominated_points)\n",
    "    hypervolume = bd.compute_hypervolume().item()\n",
    "    \n",
    "    return hypervolume, non_dominated_points\n",
    "\n",
    "# Example usage:\n",
    "ref_point = torch.tensor([-1864.72022, -11.81993945, -0.2903999384], dtype=torch.float64)\n",
    "\n",
    "\n",
    "final_hypervolume, non_dom_points = calculate_final_hypervolume(filtered_train_Y, ref_point)\n",
    "print(f\"Final Hypervolume: {final_hypervolume}\")"
   ]
  },
  {
   "cell_type": "code",
   "execution_count": 23,
   "metadata": {},
   "outputs": [],
   "source": [
    "import torch\n",
    "import matplotlib.pyplot as plt\n",
    "import seaborn as sns\n",
    "import pandas as pd\n",
    "\n",
    "def create_pairplots(tensor):\n",
    "    \"\"\"\n",
    "    Creates pair plots for the three dimensions of the input tensor.\n",
    "\n",
    "    Args:\n",
    "    tensor (torch.Tensor): A tensor of shape [n, 3]\n",
    "\n",
    "    Returns:\n",
    "    None: Displays the pair plots.\n",
    "    \"\"\"\n",
    "    # Convert the tensor to a Pandas DataFrame for easier plotting with Seaborn\n",
    "    df = pd.DataFrame(tensor.numpy(), columns=['Dim1', 'Dim2', 'Dim3'])\n",
    "    \n",
    "    # Create pair plots for each pair of dimensions\n",
    "    sns.pairplot(df)\n",
    "    plt.show()"
   ]
  },
  {
   "cell_type": "code",
   "execution_count": 24,
   "metadata": {},
   "outputs": [
    {
     "data": {
      "image/png": "[encoded data removed]",
      "text/plain": [
       "<Figure size 750x750 with 12 Axes>"
      ]
     },
     "metadata": {},
     "output_type": "display_data"
    }
   ],
   "source": [
    "non_dom_points = -non_dom_points\n",
    "create_pairplots(non_dom_points)"
   ]
  },
  {
   "cell_type": "code",
   "execution_count": 22,
   "metadata": {},
   "outputs": [
    {
     "name": "stdout",
     "output_type": "stream",
     "text": [
      "tensor([[2.9247, 0.6232, 2.7569, 1.7187, 2.3613, 0.0000],\n",
      "        [2.1386, 1.0810, 2.0433, 1.0326, 2.8096, 0.0000],\n",
      "        [1.9198, 0.0873, 2.3361, 1.2222, 2.4713, 0.0000],\n",
      "        [2.5457, 1.6820, 0.3760, 0.3295, 2.3937, 0.0000],\n",
      "        [1.0364, 2.2293, 1.4836, 0.9493, 1.9669, 0.0000],\n",
      "        [1.7101, 0.6485, 2.4573, 2.2737, 0.0276, 0.0000],\n",
      "        [1.1502, 2.9806, 1.9923, 1.0980, 1.0318, 0.0000],\n",
      "        [2.2174, 2.8534, 2.4883, 1.2107, 0.9697, 0.0000],\n",
      "        [0.4827, 2.4407, 1.6537, 0.1218, 2.8277, 0.0000],\n",
      "        [2.3530, 1.6258, 1.7168, 2.1694, 0.9787, 0.0000],\n",
      "        [2.4652, 0.2077, 2.8203, 1.6549, 2.4798, 0.0000],\n",
      "        [2.6177, 1.0288, 2.8193, 0.5612, 1.6197, 0.0000],\n",
      "        [2.4013, 0.7797, 0.4519, 2.5350, 2.0968, 0.0000],\n",
      "        [2.7104, 2.7646, 2.3751, 0.0652, 0.5833, 0.0000],\n",
      "        [2.5060, 0.5138, 2.4884, 2.6837, 1.8664, 0.0000],\n",
      "        [1.3624, 0.3832, 1.2960, 1.3035, 1.6263, 0.0000],\n",
      "        [1.7419, 2.5283, 0.7952, 1.6990, 2.6775, 0.0000],\n",
      "        [1.2433, 0.7719, 2.5990, 0.0054, 2.1716, 0.0000],\n",
      "        [2.2666, 1.4192, 0.2921, 1.9433, 2.4494, 0.0000],\n",
      "        [2.6712, 1.2617, 0.2701, 2.2349, 1.6257, 0.0000],\n",
      "        [0.2888, 2.4603, 2.2945, 1.7029, 1.8512, 0.0000],\n",
      "        [2.2564, 1.3512, 1.5010, 1.3993, 0.6689, 0.0000],\n",
      "        [1.5567, 0.2841, 0.6933, 0.4740, 2.8847, 0.0000],\n",
      "        [0.6666, 0.6410, 1.5768, 2.8422, 2.1764, 0.0000],\n",
      "        [2.5082, 0.9160, 2.0756, 1.8821, 2.1094, 0.0000],\n",
      "        [1.6948, 1.9519, 0.6984, 1.9703, 0.0926, 0.0000],\n",
      "        [1.6491, 2.6673, 2.3911, 0.2964, 1.9873, 0.0000],\n",
      "        [0.8714, 1.9122, 0.0331, 1.9111, 2.6276, 0.0000],\n",
      "        [0.2598, 0.3851, 0.8277, 1.7129, 2.0364, 0.0000],\n",
      "        [0.7719, 2.3460, 1.7379, 1.3322, 2.8577, 0.0000],\n",
      "        [1.4134, 1.5322, 2.9828, 2.7446, 2.5307, 0.0000],\n",
      "        [0.6010, 0.0861, 2.0216, 2.3900, 0.6593, 0.0000],\n",
      "        [2.8942, 1.9641, 2.7865, 2.8148, 0.4511, 0.0000],\n",
      "        [1.8141, 0.0810, 0.5746, 0.8852, 2.7956, 0.0000],\n",
      "        [0.5536, 2.9582, 2.1394, 1.8497, 1.8321, 0.0000],\n",
      "        [0.7637, 2.0073, 0.7717, 1.9103, 2.2529, 0.0000],\n",
      "        [0.1199, 1.2493, 2.7325, 2.8775, 0.7080, 0.0000],\n",
      "        [0.7183, 1.5011, 2.1317, 2.6998, 1.7263, 0.0000],\n",
      "        [2.0639, 0.1107, 1.7923, 0.3758, 1.4931, 0.0000],\n",
      "        [2.7457, 2.8356, 0.8523, 0.1634, 0.5242, 0.0000],\n",
      "        [0.9041, 0.1727, 0.5628, 1.3509, 0.6867, 0.0000],\n",
      "        [2.0709, 1.1288, 0.2245, 0.1308, 2.0299, 0.0000],\n",
      "        [1.8521, 0.6389, 0.9581, 1.0810, 2.2581, 0.0000],\n",
      "        [1.1080, 2.1728, 1.5665, 1.3340, 2.2248, 0.0000],\n",
      "        [2.7137, 0.4441, 1.7086, 2.9272, 1.5145, 0.0000],\n",
      "        [1.0317, 0.8633, 0.8518, 1.9410, 2.0843, 0.0000],\n",
      "        [0.7044, 1.1861, 2.8456, 2.6602, 2.8009, 0.0000],\n",
      "        [2.6683, 1.7955, 2.4007, 1.4944, 1.1793, 0.0000],\n",
      "        [0.8782, 0.9222, 2.3675, 2.5441, 2.9553, 0.0000],\n",
      "        [2.9709, 2.8388, 1.3147, 2.2251, 1.2911, 0.0000],\n",
      "        [2.9387, 2.2457, 2.1179, 2.4674, 1.9834, 1.0000],\n",
      "        [1.2853, 1.8067, 1.7360, 0.2942, 0.1926, 1.0000],\n",
      "        [1.6443, 0.9954, 1.5407, 1.6713, 2.3505, 1.0000],\n",
      "        [1.8001, 1.7733, 1.9449, 0.4176, 2.0102, 1.0000],\n",
      "        [0.9233, 0.4677, 2.1473, 1.6056, 0.6799, 1.0000],\n",
      "        [2.8221, 0.2918, 2.2495, 1.7590, 0.6282, 1.0000],\n",
      "        [1.7075, 0.8019, 0.1019, 1.3023, 0.1969, 1.0000],\n",
      "        [0.4592, 0.0756, 0.1332, 0.8099, 0.8521, 1.0000],\n",
      "        [2.9699, 1.1820, 2.4070, 1.2192, 0.5742, 1.0000],\n",
      "        [2.7338, 1.3998, 2.3278, 2.1584, 1.7991, 1.0000],\n",
      "        [2.9767, 0.0253, 0.1726, 2.5013, 2.8127, 1.0000],\n",
      "        [0.4579, 0.2419, 0.5252, 1.9721, 1.0639, 1.0000],\n",
      "        [1.9879, 0.2678, 0.5983, 2.1829, 0.3294, 1.0000],\n",
      "        [1.2297, 1.7528, 2.6919, 2.9543, 0.8810, 1.0000],\n",
      "        [1.9174, 1.9398, 2.2125, 1.0109, 0.4855, 1.0000],\n",
      "        [0.8197, 0.9423, 0.7988, 1.7639, 1.3018, 1.0000],\n",
      "        [2.3352, 2.8943, 0.0232, 1.4688, 2.2367, 1.0000],\n",
      "        [2.2334, 2.9740, 1.7463, 2.8093, 2.9897, 1.0000],\n",
      "        [1.4371, 0.0923, 2.2157, 0.9469, 0.7705, 1.0000],\n",
      "        [1.6771, 0.0825, 0.5703, 1.0250, 2.2397, 1.0000],\n",
      "        [0.3235, 1.1626, 0.7955, 2.0866, 1.0704, 1.0000],\n",
      "        [2.2055, 0.5756, 0.2549, 1.2424, 1.5187, 1.0000],\n",
      "        [1.4550, 0.0930, 0.4994, 2.7069, 1.1638, 1.0000],\n",
      "        [1.9551, 1.5078, 1.7606, 0.9486, 1.1513, 1.0000],\n",
      "        [2.6115, 0.4206, 1.9410, 0.2945, 1.3302, 1.0000],\n",
      "        [2.4844, 1.0416, 2.9865, 0.1955, 1.9167, 1.0000],\n",
      "        [2.4511, 2.2616, 1.0593, 2.4018, 2.4142, 1.0000],\n",
      "        [2.8952, 1.7362, 0.8639, 0.2605, 0.1852, 1.0000],\n",
      "        [1.0619, 0.4211, 2.7687, 2.3809, 1.2063, 1.0000],\n",
      "        [0.9537, 2.2423, 2.3674, 2.4737, 1.9903, 1.0000],\n",
      "        [1.7004, 1.7222, 0.7595, 1.0605, 0.4342, 1.0000],\n",
      "        [0.5750, 2.6975, 2.4301, 0.9348, 1.9815, 1.0000],\n",
      "        [1.5844, 2.8226, 1.7904, 0.4380, 2.8464, 1.0000],\n",
      "        [2.9414, 2.8440, 2.6082, 2.4075, 2.4714, 1.0000],\n",
      "        [1.8562, 1.7602, 2.1291, 1.2327, 0.8284, 1.0000],\n",
      "        [0.4599, 2.4306, 1.9476, 1.6520, 1.5975, 1.0000],\n",
      "        [0.0151, 1.0882, 0.3513, 2.2656, 2.5461, 1.0000],\n",
      "        [0.0175, 1.1173, 1.5152, 0.8470, 0.5992, 1.0000],\n",
      "        [1.0635, 1.6566, 0.2858, 2.7093, 0.1242, 1.0000],\n",
      "        [0.0375, 1.8399, 0.9602, 1.1943, 2.7061, 1.0000],\n",
      "        [1.7015, 0.1309, 0.5498, 2.0332, 2.3989, 1.0000],\n",
      "        [0.0092, 1.6105, 1.2784, 0.1634, 2.0131, 1.0000],\n",
      "        [0.4677, 1.1459, 2.2658, 0.7614, 2.5971, 1.0000],\n",
      "        [0.3968, 0.6651, 0.8267, 0.1729, 2.8869, 1.0000],\n",
      "        [2.3386, 2.9320, 1.7193, 2.2269, 1.8073, 1.0000],\n",
      "        [2.6459, 0.0437, 1.0168, 2.6461, 2.5211, 1.0000],\n",
      "        [0.9757, 0.2520, 1.8953, 0.7888, 0.4404, 1.0000],\n",
      "        [0.6936, 1.4429, 0.8114, 1.8530, 2.7106, 1.0000],\n",
      "        [0.1017, 2.7425, 1.2163, 0.3269, 0.0949, 1.0000],\n",
      "        [1.9714, 1.6501, 1.7658, 2.0419, 0.4935, 1.0000],\n",
      "        [1.7312, 2.5138, 2.8308, 2.1087, 0.2277, 1.0000],\n",
      "        [2.8044, 2.6459, 0.4620, 0.5275, 2.9940, 1.0000],\n",
      "        [0.9938, 0.0245, 1.6207, 0.9531, 2.6762, 1.0000],\n",
      "        [0.4955, 0.3402, 2.5529, 0.8788, 0.5644, 1.0000],\n",
      "        [2.2905, 0.4135, 1.9345, 2.6202, 0.7305, 1.0000],\n",
      "        [0.9332, 1.6881, 1.9629, 0.3182, 2.2449, 1.0000],\n",
      "        [0.5793, 2.6090, 2.2068, 0.1924, 0.7752, 1.0000],\n",
      "        [0.0322, 1.0451, 1.2725, 0.7784, 2.5218, 1.0000],\n",
      "        [0.1538, 1.0091, 0.7481, 2.1707, 0.8702, 1.0000],\n",
      "        [2.7746, 2.4861, 1.7910, 2.9528, 0.1673, 1.0000],\n",
      "        [2.6679, 1.8812, 0.3546, 0.6309, 1.7196, 1.0000],\n",
      "        [0.5442, 2.6016, 0.6929, 0.4916, 0.6875, 1.0000],\n",
      "        [1.5665, 1.8155, 1.2266, 1.0462, 1.4898, 1.0000],\n",
      "        [0.6867, 0.8301, 1.8949, 2.9810, 0.0219, 1.0000],\n",
      "        [1.3946, 2.0308, 1.9502, 1.7097, 0.2969, 1.0000],\n",
      "        [0.6090, 0.4912, 0.8665, 0.5652, 1.7059, 1.0000],\n",
      "        [1.2207, 2.2789, 0.5593, 2.8241, 1.9948, 1.0000],\n",
      "        [1.3083, 1.1933, 2.9793, 0.6332, 0.6446, 1.0000],\n",
      "        [1.9686, 2.3358, 0.8889, 2.5790, 2.3153, 1.0000],\n",
      "        [1.9711, 0.2781, 0.0460, 1.3715, 2.9204, 1.0000],\n",
      "        [1.0687, 2.7778, 0.2024, 0.0626, 1.1215, 1.0000],\n",
      "        [0.9689, 1.2458, 2.3249, 1.7954, 2.8959, 1.0000],\n",
      "        [0.0925, 2.8916, 0.6687, 0.4161, 1.0138, 1.0000],\n",
      "        [1.7268, 0.9484, 1.3941, 2.7720, 1.4776, 1.0000],\n",
      "        [0.2802, 2.9088, 1.7159, 0.9686, 1.3208, 1.0000],\n",
      "        [1.2215, 2.1254, 2.4236, 2.0474, 1.8693, 1.0000],\n",
      "        [1.7910, 2.7467, 1.8605, 1.8200, 1.0038, 1.0000],\n",
      "        [2.7707, 0.7464, 0.3956, 2.9604, 0.4831, 1.0000],\n",
      "        [2.0361, 0.7660, 1.2692, 2.7397, 1.4511, 1.0000],\n",
      "        [0.7705, 0.9290, 0.8114, 0.4994, 1.0531, 1.0000],\n",
      "        [2.4648, 0.9108, 1.6459, 0.6873, 1.5663, 1.0000],\n",
      "        [1.5492, 1.3044, 1.5675, 2.7918, 1.7924, 1.0000],\n",
      "        [1.3554, 1.4428, 1.3718, 0.3499, 1.6733, 1.0000],\n",
      "        [2.1745, 0.8824, 1.6612, 1.7742, 0.2032, 1.0000],\n",
      "        [2.6483, 2.3873, 2.4791, 2.3647, 0.9152, 1.0000],\n",
      "        [1.1956, 2.6673, 0.5074, 0.0197, 0.8022, 1.0000],\n",
      "        [0.1973, 0.6510, 2.1544, 1.5274, 0.7199, 1.0000],\n",
      "        [0.1919, 2.7801, 0.6494, 0.6937, 2.6265, 1.0000],\n",
      "        [1.7708, 0.5007, 2.1753, 1.6965, 1.4043, 1.0000],\n",
      "        [0.3417, 1.9181, 1.2739, 1.7742, 0.8458, 1.0000],\n",
      "        [1.5731, 2.8811, 0.2149, 2.9478, 1.2221, 1.0000],\n",
      "        [2.5527, 0.1605, 0.5596, 0.9591, 0.2893, 1.0000],\n",
      "        [1.8434, 0.5505, 2.8127, 2.2330, 2.8284, 1.0000],\n",
      "        [1.4384, 0.1221, 1.0275, 1.7847, 1.6332, 1.0000],\n",
      "        [2.9393, 1.3699, 0.6195, 2.4514, 0.3009, 1.0000],\n",
      "        [0.1272, 0.2933, 2.4958, 0.4260, 2.8990, 1.0000],\n",
      "        [0.0667, 2.8030, 2.7474, 2.1415, 0.6911, 1.0000],\n",
      "        [2.4032, 0.5506, 2.4817, 1.5117, 0.8227, 1.0000],\n",
      "        [2.8090, 0.9623, 2.8930, 2.0974, 1.6554, 1.0000],\n",
      "        [1.4280, 1.6841, 2.9880, 0.0534, 1.3107, 1.0000],\n",
      "        [0.4497, 1.4697, 0.6582, 2.1464, 1.0634, 2.0000],\n",
      "        [0.0000, 3.0000, 0.0000, 0.0000, 2.0111, 2.0000],\n",
      "        [0.0000, 0.0000, 0.0000, 0.0000, 0.0000, 2.0000],\n",
      "        [0.0000, 0.0000, 0.0000, 0.4919, 1.5264, 2.0000],\n",
      "        [0.0000, 3.0000, 0.0000, 0.0000, 0.0000, 2.0000],\n",
      "        [0.0000, 0.6852, 0.0000, 0.0000, 0.0000, 2.0000],\n",
      "        [0.0000, 0.0000, 2.1814, 1.5390, 3.0000, 2.0000],\n",
      "        [0.0000, 3.0000, 0.0000, 0.6087, 1.3285, 2.0000],\n",
      "        [0.0000, 0.0000, 0.0000, 0.6452, 0.2243, 2.0000],\n",
      "        [0.0000, 3.0000, 0.0000, 0.0000, 1.0122, 2.0000],\n",
      "        [0.0000, 0.0000, 0.0000, 0.0000, 1.0459, 2.0000]], dtype=torch.float64)\n"
     ]
    }
   ],
   "source": [
    "print(train_X)"
   ]
  },
  {
   "cell_type": "code",
   "execution_count": 21,
   "metadata": {},
   "outputs": [
    {
     "name": "stdout",
     "output_type": "stream",
     "text": [
      "tensor([[-1.8535e+03, -1.0461e+01, -7.3818e-02],\n",
      "        [-1.8454e+03, -1.0037e+01, -1.0756e-01],\n",
      "        [-1.8437e+03, -1.0516e+01, -1.1253e-03],\n",
      "        [-1.8316e+03, -8.8778e+00, -8.7670e-02],\n",
      "        [-1.8379e+03, -8.3106e+00, -1.4290e-01],\n",
      "        [-1.8422e+03, -1.0765e+01, -9.9174e-02],\n",
      "        [-1.8393e+03, -7.9024e+00, -1.8882e-01],\n",
      "        [-1.8449e+03, -8.3922e+00, -2.2488e-01],\n",
      "        [-1.8350e+03, -6.1035e+00, -1.9033e-01],\n",
      "        [-1.8464e+03, -1.0867e+01, -1.3405e-01],\n",
      "        [-1.8516e+03, -1.0511e+01, -1.4777e-02],\n",
      "        [-1.8406e+03, -9.1690e+00, -1.8544e-01],\n",
      "        [-1.8466e+03, -1.1464e+01, -9.1454e-02],\n",
      "        [-1.8337e+03, -7.2303e+00, -3.0736e-01],\n",
      "        [-1.8566e+03, -1.1512e+01, -5.6539e-02],\n",
      "        [-1.8344e+03, -1.0272e+01, -3.2158e-02],\n",
      "        [-1.8468e+03, -9.8677e+00, -7.3741e-02],\n",
      "        [-1.8333e+03, -8.2333e+00, -1.5087e-01],\n",
      "        [-1.8438e+03, -1.0496e+01, -8.0070e-02],\n",
      "        [-1.8428e+03, -1.0705e+01, -9.2809e-02],\n",
      "        [-1.8464e+03, -8.8970e+00, -1.6671e-01],\n",
      "        [-1.8363e+03, -9.9669e+00, -1.2965e-01],\n",
      "        [-1.8307e+03, -9.8124e+00, -9.9684e-03],\n",
      "        [-1.8504e+03, -1.2324e+01, -5.2687e-02],\n",
      "        [-1.8499e+03, -1.0885e+01, -9.2035e-02],\n",
      "        [-1.8344e+03, -1.0122e+01, -9.8943e-02],\n",
      "        [-1.8397e+03, -7.0568e+00, -2.6092e-01],\n",
      "        [-1.8407e+03, -9.5613e+00, -5.9192e-02],\n",
      "        [-1.8347e+03, -1.0028e+01, -9.9211e-03],\n",
      "        [-1.8464e+03, -8.7852e+00, -1.3174e-01],\n",
      "        [-1.8626e+03, -1.1290e+01, -1.0488e-01],\n",
      "        [-1.8398e+03, -1.1325e+01, -4.3252e-03],\n",
      "        [-1.8570e+03, -1.0829e+01, -1.8003e-01],\n",
      "        [-1.8333e+03, -1.0359e+01,  5.9689e-03],\n",
      "        [-1.8487e+03, -9.3047e+00, -1.5135e-01],\n",
      "        [-1.8426e+03, -1.0004e+01, -8.3808e-02],\n",
      "        [-1.8495e+03, -1.1622e+01, -1.1574e-01],\n",
      "        [-1.8521e+03, -1.1779e+01, -1.1084e-01],\n",
      "        [-1.8295e+03, -1.0282e+01, -4.1524e-02],\n",
      "        [-1.8269e+03, -7.4807e+00, -1.2831e-01],\n",
      "        [-1.8248e+03, -9.8259e+00, -1.8185e-03],\n",
      "        [-1.8248e+03, -8.7394e+00, -6.5922e-02],\n",
      "        [-1.8358e+03, -1.0196e+01, -5.1204e-02],\n",
      "        [-1.8428e+03, -9.1167e+00, -1.3026e-01],\n",
      "        [-1.8534e+03, -1.2033e+01, -7.8549e-02],\n",
      "        [-1.8402e+03, -1.0643e+01, -5.9823e-02],\n",
      "        [-1.8598e+03, -1.1206e+01, -6.7785e-02],\n",
      "        [-1.8464e+03, -9.6430e+00, -1.8232e-01],\n",
      "        [-1.8569e+03, -1.1491e+01, -4.9404e-02],\n",
      "        [-1.8511e+03, -1.0632e+01, -9.3148e-02],\n",
      "        [-2.0280e+03, -1.2192e+01, -1.4689e-01],\n",
      "        [-1.9903e+03, -8.3851e+00, -2.2499e-01],\n",
      "        [-2.0123e+03, -1.1563e+01, -8.6099e-02],\n",
      "        [-2.0037e+03, -9.2696e+00, -2.0395e-01],\n",
      "        [-2.0025e+03, -1.0978e+01, -6.3375e-02],\n",
      "        [-2.0091e+03, -1.1543e+01, -7.6676e-02],\n",
      "        [-1.9891e+03, -1.0153e+01, -5.0366e-02],\n",
      "        [-1.9826e+03, -9.4162e+00,  3.6325e-02],\n",
      "        [-2.0076e+03, -1.0511e+01, -1.8994e-01],\n",
      "        [-2.0224e+03, -1.1777e+01, -1.4147e-01],\n",
      "        [-2.0160e+03, -1.2418e+01, -7.5519e-02],\n",
      "        [-1.9971e+03, -1.1364e+01, -1.4475e-02],\n",
      "        [-2.0000e+03, -1.1936e+01, -5.8256e-02],\n",
      "        [-2.0235e+03, -1.2931e+01, -1.6351e-01],\n",
      "        [-2.0033e+03, -9.5215e+00, -2.2840e-01],\n",
      "        [-2.0010e+03, -1.1058e+01, -6.9744e-02],\n",
      "        [-2.0087e+03, -9.6076e+00, -8.5833e-03],\n",
      "        [-2.0345e+03, -1.3420e+01, -8.6365e-02],\n",
      "        [-1.9977e+03, -1.0750e+01, -3.5602e-02],\n",
      "        [-1.9979e+03, -1.1187e+01,  4.8253e-03],\n",
      "        [-2.0019e+03, -1.1358e+01, -8.1994e-02],\n",
      "        [-1.9972e+03, -1.0868e+01, -4.7506e-02],\n",
      "        [-2.0068e+03, -1.2800e+01, -5.5650e-02],\n",
      "        [-2.0027e+03, -1.0161e+01, -1.6662e-01],\n",
      "        [-1.9974e+03, -1.1175e+01, -1.0972e-01],\n",
      "        [-2.0067e+03, -9.5896e+00, -2.3063e-01],\n",
      "        [-2.0225e+03, -1.2431e+01, -1.0276e-01],\n",
      "        [-1.9895e+03, -9.5086e+00, -1.5318e-01],\n",
      "        [-2.0162e+03, -1.1803e+01, -3.9610e-02],\n",
      "        [-2.0238e+03, -1.2090e+01, -1.5137e-01],\n",
      "        [-1.9943e+03, -9.7346e+00, -1.1301e-01],\n",
      "        [-2.0101e+03, -7.7815e+00, -2.3926e-01],\n",
      "        [-2.0098e+03, -8.1712e+00, -1.9842e-01],\n",
      "        [-2.0344e+03, -1.1732e+01, -1.4870e-01],\n",
      "        [-2.0060e+03, -1.0071e+01, -1.9573e-01],\n",
      "        [-2.0109e+03, -9.9024e+00, -1.6683e-01],\n",
      "        [-2.0079e+03, -1.1344e+01, -6.6452e-02],\n",
      "        [-1.9909e+03, -8.7611e+00, -1.1643e-01],\n",
      "        [-2.0033e+03, -1.2411e+01, -1.0698e-01],\n",
      "        [-2.0044e+03, -8.8418e+00, -9.6187e-02],\n",
      "        [-2.0082e+03, -1.2140e+01, -2.4596e-02],\n",
      "        [-1.9921e+03, -7.0056e+00, -1.4752e-01],\n",
      "        [-2.0062e+03, -8.8499e+00, -1.2793e-01],\n",
      "        [-1.9929e+03, -8.5993e+00, -3.9070e-02],\n",
      "        [-2.0228e+03, -1.1780e+01, -1.1717e-01],\n",
      "        [-2.0195e+03, -1.3105e+01, -4.7772e-02],\n",
      "        [-1.9919e+03, -1.0254e+01, -5.2270e-02],\n",
      "        [-2.0104e+03, -1.1042e+01, -8.1114e-02],\n",
      "        [-1.9865e+03, -6.1487e+00, -1.8850e-01],\n",
      "        [-2.0098e+03, -1.1535e+01, -1.5554e-01],\n",
      "        [-2.0165e+03, -1.0539e+01, -2.3824e-01],\n",
      "        [-2.0071e+03, -9.2777e+00, -7.5629e-02],\n",
      "        [-2.0032e+03, -1.0937e+01,  2.6638e-02],\n",
      "        [-1.9958e+03, -9.4351e+00, -7.2716e-02],\n",
      "        [-2.0148e+03, -1.2634e+01, -7.8776e-02],\n",
      "        [-2.0014e+03, -8.3267e+00, -1.9610e-01],\n",
      "        [-1.9953e+03, -6.3799e+00, -3.0082e-01],\n",
      "        [-1.9990e+03, -8.7194e+00, -7.5065e-02],\n",
      "        [-2.0005e+03, -1.1488e+01, -7.4559e-02],\n",
      "        [-2.0212e+03, -1.2790e+01, -1.5694e-01],\n",
      "        [-1.9981e+03, -9.6104e+00, -9.0878e-02],\n",
      "        [-1.9892e+03, -6.9924e+00, -1.1630e-01],\n",
      "        [-2.0022e+03, -9.9030e+00, -1.3532e-01],\n",
      "        [-2.0107e+03, -1.3527e+01, -1.0942e-01],\n",
      "        [-2.0061e+03, -1.0570e+01, -1.8411e-01],\n",
      "        [-1.9905e+03, -9.4927e+00, -2.7973e-02],\n",
      "        [-2.0180e+03, -1.3110e+01, -9.4636e-02],\n",
      "        [-2.0010e+03, -8.5776e+00, -2.3690e-01],\n",
      "        [-2.0216e+03, -1.2734e+01, -9.6122e-02],\n",
      "        [-2.0033e+03, -1.1149e+01, -2.2885e-02],\n",
      "        [-1.9868e+03, -6.2034e+00, -7.0791e-02],\n",
      "        [-2.0194e+03, -1.1021e+01, -9.7096e-02],\n",
      "        [-1.9896e+03, -5.9788e+00, -1.0844e-01],\n",
      "        [-2.0171e+03, -1.3225e+01, -1.0498e-01],\n",
      "        [-2.0027e+03, -7.7454e+00, -1.8594e-01],\n",
      "        [-2.0200e+03, -1.1104e+01, -1.6724e-01],\n",
      "        [-2.0135e+03, -1.0703e+01, -1.6191e-01],\n",
      "        [-2.0104e+03, -1.2461e+01, -1.3288e-01],\n",
      "        [-2.0163e+03, -1.3107e+01, -9.9379e-02],\n",
      "        [-1.9878e+03, -9.0708e+00, -7.4810e-02],\n",
      "        [-2.0016e+03, -1.0874e+01, -1.2688e-01],\n",
      "        [-2.0204e+03, -1.3315e+01, -1.1526e-01],\n",
      "        [-1.9959e+03, -9.1718e+00, -1.5025e-01],\n",
      "        [-2.0036e+03, -1.1439e+01, -1.1997e-01],\n",
      "        [-2.0229e+03, -1.1490e+01, -1.8815e-01],\n",
      "        [-1.9864e+03, -6.6436e+00, -1.1364e-01],\n",
      "        [-2.0005e+03, -1.0299e+01, -7.5001e-02],\n",
      "        [-2.0007e+03, -6.8998e+00, -8.7863e-02],\n",
      "        [-2.0099e+03, -1.1501e+01, -6.6069e-02],\n",
      "        [-2.0026e+03, -1.0468e+01, -1.2690e-01],\n",
      "        [-2.0158e+03, -1.3010e+01, -4.6380e-02],\n",
      "        [-1.9895e+03, -1.1100e+01, -3.0731e-02],\n",
      "        [-2.0263e+03, -1.1876e+01, -2.8289e-02],\n",
      "        [-2.0037e+03, -1.1890e+01, -1.1252e-02],\n",
      "        [-2.0082e+03, -1.1755e+01, -1.2433e-01],\n",
      "        [-2.0026e+03, -8.5909e+00, -2.2162e-02],\n",
      "        [-2.0149e+03, -1.0259e+01, -2.2422e-01],\n",
      "        [-2.0087e+03, -1.1080e+01, -1.0477e-01],\n",
      "        [-2.0231e+03, -1.1240e+01, -1.2346e-01],\n",
      "        [-2.0010e+03, -7.5577e+00, -3.2189e-01],\n",
      "        [-1.6691e+03, -9.4769e+00, -7.6155e-02],\n",
      "        [-1.6562e+03, -3.4575e+00, -3.5200e-02],\n",
      "        [-1.6403e+03, -6.5856e+00,  5.5100e-02],\n",
      "        [-1.6509e+03, -7.0397e+00,  5.2462e-02],\n",
      "        [-1.6472e+03, -3.4575e+00, -3.5200e-02],\n",
      "        [-1.6419e+03, -5.8711e+00, -3.7522e-03],\n",
      "        [-1.6755e+03, -8.7794e+00,  5.8287e-02],\n",
      "        [-1.6579e+03, -4.6946e+00, -1.7690e-02],\n",
      "        [-1.6463e+03, -7.1987e+00,  5.0562e-02],\n",
      "        [-1.6518e+03, -3.4575e+00, -3.5200e-02],\n",
      "        [-1.6449e+03, -6.5856e+00,  5.5100e-02]], dtype=torch.float64)\n"
     ]
    }
   ],
   "source": [
    "print(train_Y)"
   ]
  },
  {
   "cell_type": "code",
   "execution_count": 55,
   "metadata": {},
   "outputs": [
    {
     "name": "stderr",
     "output_type": "stream",
     "text": [
      "c:\\Users\\Moritz\\anaconda3\\envs\\TL_GP\\lib\\site-packages\\botorch\\acquisition\\cached_cholesky.py:89: RuntimeWarning: `cache_root` is only supported for GPyTorchModels that are not MultiTask models and don't produce a TransformedPosterior. Got a model of type <class 'botorch.models.model.ModelList'>. Setting `cache_root = False`.\n",
      "  warnings.warn(\n"
     ]
    }
   ],
   "source": [
    "# Create the qNEHVI acquisition function using the modified X_baseline\n",
    "qNEHVI = qLogNoisyExpectedHypervolumeImprovement(\n",
    "    model=new_modellist,\n",
    "    X_baseline=X_baseline_no_task,\n",
    "    ref_point=torch.tensor([-1864.72022, -11.81993945, -0.2903999384]),\n",
    "    prune_baseline=True\n",
    ")"
   ]
  },
  {
   "cell_type": "code",
   "execution_count": 56,
   "metadata": {},
   "outputs": [],
   "source": [
    "from botorch.optim import optimize_acqf\n",
    "\n",
    "new_X, acq_func_value = optimize_acqf(\n",
    "        acq_function=qNEHVI,\n",
    "        bounds=bounds,\n",
    "        q=1,\n",
    "        num_restarts=10,\n",
    "        raw_samples=512,\n",
    "    )"
   ]
  },
  {
   "cell_type": "code",
   "execution_count": 68,
   "metadata": {},
   "outputs": [],
   "source": [
    "new_Y , exp_ = generate_car_crash_synthetic_data(new_X, 0.0)"
   ]
  },
  {
   "cell_type": "code",
   "execution_count": null,
   "metadata": {},
   "outputs": [],
   "source": []
  },
  {
   "cell_type": "code",
   "execution_count": 70,
   "metadata": {},
   "outputs": [
    {
     "name": "stdout",
     "output_type": "stream",
     "text": [
      "torch.Size([1, 3])\n"
     ]
    }
   ],
   "source": [
    "print(new_Y.shape)"
   ]
  },
  {
   "cell_type": "code",
   "execution_count": 57,
   "metadata": {},
   "outputs": [
    {
     "name": "stdout",
     "output_type": "stream",
     "text": [
      "tensor([[2.0428, 2.7625, 3.0000, 0.0000, 0.6162]])\n"
     ]
    }
   ],
   "source": [
    "print(new_X)"
   ]
  },
  {
   "cell_type": "code",
   "execution_count": 60,
   "metadata": {},
   "outputs": [
    {
     "name": "stdout",
     "output_type": "stream",
     "text": [
      "tensor([[2.1095e+00, 4.7438e-01, 1.1849e+00, 1.1346e+00, 9.2231e-01, 0.0000e+00],\n",
      "        [1.9544e+00, 8.8923e-01, 2.9239e+00, 1.2207e+00, 2.3603e+00, 0.0000e+00],\n",
      "        [1.1821e+00, 1.4144e+00, 1.9060e+00, 1.4549e+00, 2.1148e+00, 0.0000e+00],\n",
      "        [2.4778e+00, 1.6518e+00, 2.9498e-01, 2.0014e+00, 1.8411e+00, 0.0000e+00],\n",
      "        [2.7775e+00, 1.4986e+00, 1.2764e+00, 2.2276e+00, 1.9990e+00, 0.0000e+00],\n",
      "        [6.7216e-01, 2.0316e+00, 7.6085e-01, 5.1144e-01, 1.7983e+00, 0.0000e+00],\n",
      "        [2.9586e-02, 2.6612e-01, 1.1861e+00, 7.8961e-01, 2.5484e+00, 0.0000e+00],\n",
      "        [7.9050e-01, 1.7441e+00, 2.8862e+00, 2.0452e+00, 3.4542e-01, 0.0000e+00],\n",
      "        [2.9570e+00, 4.5597e-01, 2.9142e+00, 1.1441e+00, 2.7106e+00, 0.0000e+00],\n",
      "        [2.1601e-01, 2.2784e+00, 2.1023e+00, 2.1226e+00, 1.6035e+00, 0.0000e+00],\n",
      "        [1.4925e+00, 2.3871e+00, 5.6532e-01, 1.6936e+00, 2.6634e+00, 0.0000e+00],\n",
      "        [2.9840e+00, 1.4505e+00, 1.1742e+00, 2.2280e+00, 6.9904e-01, 0.0000e+00],\n",
      "        [2.2886e+00, 8.7753e-01, 1.2161e+00, 4.8886e-01, 1.5046e+00, 0.0000e+00],\n",
      "        [1.6843e+00, 6.9007e-01, 7.9141e-01, 2.3125e+00, 2.0217e+00, 0.0000e+00],\n",
      "        [5.1184e-01, 2.2573e-01, 9.1774e-02, 2.3004e+00, 1.1208e+00, 0.0000e+00],\n",
      "        [1.9600e+00, 9.9001e-01, 1.7316e+00, 2.4745e+00, 6.8754e-01, 0.0000e+00],\n",
      "        [2.9388e+00, 1.4816e+00, 3.3935e-01, 2.2718e+00, 2.8387e+00, 0.0000e+00],\n",
      "        [8.8817e-01, 5.9732e-01, 3.4796e-01, 8.7895e-02, 1.7491e+00, 0.0000e+00],\n",
      "        [5.4953e-01, 2.9201e+00, 1.5113e+00, 8.4104e-01, 1.3392e+00, 0.0000e+00],\n",
      "        [1.5407e+00, 2.3158e+00, 2.2233e+00, 1.1216e+00, 2.5921e+00, 0.0000e+00],\n",
      "        [2.0046e+00, 1.2412e+00, 2.6696e+00, 2.0846e+00, 1.9934e+00, 0.0000e+00],\n",
      "        [1.0821e+00, 8.8893e-01, 2.1580e-01, 1.4219e+00, 2.6992e+00, 0.0000e+00],\n",
      "        [7.9075e-02, 1.5490e+00, 2.9323e-01, 2.0884e+00, 2.2668e-01, 0.0000e+00],\n",
      "        [6.8464e-01, 2.3550e+00, 2.4933e+00, 1.3518e-01, 1.0620e+00, 0.0000e+00],\n",
      "        [1.4140e-01, 2.4172e+00, 2.4231e+00, 1.4839e+00, 2.3298e+00, 0.0000e+00],\n",
      "        [6.7668e-01, 7.6215e-01, 1.2966e+00, 6.6012e-01, 7.5970e-01, 0.0000e+00],\n",
      "        [1.3927e+00, 1.0236e+00, 9.3459e-02, 5.0839e-01, 2.7074e-01, 0.0000e+00],\n",
      "        [1.4904e+00, 2.3760e+00, 1.8303e+00, 4.1294e-01, 1.6843e-01, 0.0000e+00],\n",
      "        [7.7866e-01, 2.0538e+00, 1.0149e+00, 6.3521e-01, 1.6430e+00, 0.0000e+00],\n",
      "        [2.9510e+00, 2.6702e+00, 7.5484e-01, 2.2540e+00, 2.2297e+00, 0.0000e+00],\n",
      "        [6.7048e-01, 2.1557e+00, 1.9471e+00, 6.0638e-01, 2.4355e+00, 0.0000e+00],\n",
      "        [2.4621e+00, 1.1999e+00, 2.1375e+00, 2.9831e+00, 1.1498e+00, 0.0000e+00],\n",
      "        [1.4482e+00, 4.7126e-01, 1.0248e+00, 1.4815e+00, 1.1080e+00, 0.0000e+00],\n",
      "        [6.7375e-01, 5.1623e-01, 1.3648e+00, 6.4599e-01, 3.7723e-01, 0.0000e+00],\n",
      "        [1.5195e+00, 1.0121e+00, 1.1112e+00, 6.7759e-01, 1.4099e+00, 0.0000e+00],\n",
      "        [2.2523e+00, 1.0457e+00, 2.5606e+00, 1.8573e+00, 1.8587e+00, 0.0000e+00],\n",
      "        [4.1105e-01, 1.5344e+00, 2.7060e+00, 2.7352e+00, 2.0126e+00, 0.0000e+00],\n",
      "        [1.4704e+00, 1.5549e+00, 2.6425e+00, 2.6170e+00, 2.7361e+00, 0.0000e+00],\n",
      "        [2.3730e+00, 1.8845e-01, 4.3406e-01, 2.5862e+00, 7.7442e-01, 0.0000e+00],\n",
      "        [1.3322e+00, 2.0385e+00, 3.3474e-04, 1.9608e+00, 1.0268e+00, 0.0000e+00],\n",
      "        [2.3399e+00, 2.3606e+00, 8.7402e-01, 1.3272e+00, 2.4534e+00, 0.0000e+00],\n",
      "        [4.0843e-01, 7.7788e-01, 1.3403e+00, 2.4814e-03, 2.1503e+00, 0.0000e+00],\n",
      "        [1.5974e+00, 2.5476e+00, 1.7845e+00, 2.5581e+00, 1.1577e+00, 0.0000e+00],\n",
      "        [2.3930e+00, 3.7347e-01, 1.6669e+00, 2.1516e+00, 1.3323e+00, 0.0000e+00],\n",
      "        [1.8997e+00, 1.0976e+00, 1.3622e+00, 7.5407e-01, 2.0034e+00, 0.0000e+00],\n",
      "        [2.6343e-01, 1.6843e+00, 2.3582e+00, 1.8659e+00, 5.1078e-01, 0.0000e+00],\n",
      "        [2.0311e-01, 1.8899e+00, 2.0633e+00, 6.5203e-01, 1.1316e+00, 0.0000e+00],\n",
      "        [1.3192e+00, 1.1821e+00, 3.3569e-01, 1.1726e+00, 7.2604e-01, 0.0000e+00],\n",
      "        [9.3907e-01, 4.8929e-01, 1.8089e+00, 1.5896e+00, 2.7438e+00, 0.0000e+00],\n",
      "        [1.1180e+00, 8.0039e-01, 1.1121e+00, 1.2126e+00, 2.0456e+00, 0.0000e+00],\n",
      "        [1.7371e+00, 2.1816e+00, 1.4036e+00, 2.1417e+00, 1.0930e+00, 1.0000e+00],\n",
      "        [7.2343e-01, 1.7432e+00, 2.4930e+00, 2.6765e+00, 1.6683e-01, 1.0000e+00],\n",
      "        [7.2778e-01, 9.3275e-01, 1.9012e+00, 1.8060e-02, 1.2720e+00, 1.0000e+00],\n",
      "        [2.5371e+00, 1.4752e+00, 8.0985e-01, 2.7472e+00, 2.2741e+00, 1.0000e+00],\n",
      "        [2.3149e+00, 1.7756e+00, 3.4527e-01, 2.4354e-01, 2.1119e+00, 1.0000e+00],\n",
      "        [2.0229e+00, 2.1903e+00, 2.7554e+00, 1.7451e+00, 2.2070e+00, 1.0000e+00],\n",
      "        [1.7497e+00, 1.3751e+00, 1.9027e-01, 2.8235e+00, 8.3824e-01, 1.0000e+00],\n",
      "        [2.2147e-01, 5.2363e-01, 1.2312e+00, 1.8664e+00, 1.1926e-01, 1.0000e+00],\n",
      "        [6.6818e-01, 1.0227e+00, 3.6907e-01, 9.5468e-01, 1.6347e+00, 1.0000e+00],\n",
      "        [2.9150e+00, 2.0728e+00, 1.1627e-01, 2.0893e+00, 1.8006e+00, 1.0000e+00],\n",
      "        [1.5446e+00, 1.2252e+00, 5.7008e-01, 1.7337e+00, 2.7282e+00, 1.0000e+00],\n",
      "        [2.6337e+00, 2.9522e+00, 2.6929e+00, 1.2091e-01, 6.5446e-01, 1.0000e+00],\n",
      "        [2.4618e-01, 1.5306e+00, 9.2099e-01, 1.0494e+00, 1.3195e-01, 1.0000e+00],\n",
      "        [5.0541e-01, 7.1441e-01, 2.1399e+00, 1.1461e+00, 1.9115e+00, 1.0000e+00],\n",
      "        [2.2830e+00, 2.6434e+00, 9.7919e-01, 2.7777e+00, 1.4599e+00, 1.0000e+00],\n",
      "        [2.0730e+00, 2.9947e+00, 2.4353e+00, 2.8934e+00, 1.2480e+00, 1.0000e+00],\n",
      "        [1.9241e+00, 1.1053e+00, 7.5941e-01, 1.4742e+00, 2.8364e+00, 1.0000e+00],\n",
      "        [1.2317e+00, 1.9205e+00, 7.6503e-01, 4.3472e-01, 1.8933e+00, 1.0000e+00],\n",
      "        [6.5522e-01, 2.5844e+00, 2.3094e+00, 1.2115e+00, 2.6259e+00, 1.0000e+00],\n",
      "        [1.6321e+00, 2.4340e+00, 1.0529e+00, 4.0903e-01, 1.0078e+00, 1.0000e+00],\n",
      "        [1.1687e+00, 2.8802e+00, 6.5431e-01, 2.4759e+00, 8.7257e-01, 1.0000e+00],\n",
      "        [2.4314e+00, 8.0831e-01, 5.6305e-01, 9.2399e-01, 9.6092e-01, 1.0000e+00],\n",
      "        [1.4884e+00, 1.6454e+00, 7.2084e-01, 6.6568e-01, 1.9992e+00, 1.0000e+00],\n",
      "        [2.5202e+00, 2.9421e+00, 2.5442e+00, 1.4537e+00, 2.9334e+00, 1.0000e+00],\n",
      "        [2.7165e+00, 1.1037e+00, 1.9406e-01, 2.7872e+00, 1.3867e+00, 1.0000e+00],\n",
      "        [2.4742e+00, 1.7420e+00, 2.3043e+00, 1.8954e+00, 2.1625e+00, 1.0000e+00],\n",
      "        [1.9920e-01, 1.6025e+00, 5.0787e-01, 1.4836e+00, 2.9079e+00, 1.0000e+00],\n",
      "        [2.7594e+00, 1.2526e+00, 1.3351e+00, 1.0908e+00, 2.9177e+00, 1.0000e+00],\n",
      "        [3.7702e-01, 1.0594e+00, 1.8422e+00, 2.7977e+00, 6.5636e-01, 1.0000e+00],\n",
      "        [9.8652e-01, 1.7806e+00, 6.0428e-01, 2.8535e-01, 4.7529e-01, 1.0000e+00],\n",
      "        [2.6991e+00, 3.5814e-01, 1.4579e+00, 4.7755e-01, 1.2927e+00, 1.0000e+00],\n",
      "        [9.4537e-01, 1.0528e+00, 8.8569e-01, 5.1367e-01, 1.2763e+00, 1.0000e+00],\n",
      "        [6.2218e-01, 1.0194e+00, 5.0725e-02, 5.2751e-01, 1.6326e+00, 1.0000e+00],\n",
      "        [1.6782e+00, 2.4933e+00, 8.9725e-01, 1.0262e+00, 2.7166e+00, 1.0000e+00],\n",
      "        [2.7913e+00, 2.4538e+00, 8.3240e-01, 2.1202e+00, 1.3464e+00, 1.0000e+00],\n",
      "        [1.1147e+00, 4.7743e-01, 1.6375e+00, 5.7504e-01, 2.3773e+00, 1.0000e+00],\n",
      "        [2.2530e-01, 2.3843e+00, 5.8252e-01, 1.3843e+00, 1.0363e+00, 1.0000e+00],\n",
      "        [2.5734e+00, 2.7322e+00, 1.1164e+00, 1.3684e+00, 2.1031e-01, 1.0000e+00],\n",
      "        [3.1096e-01, 3.6204e-01, 9.6047e-01, 2.6251e-02, 1.0320e+00, 1.0000e+00],\n",
      "        [8.9296e-01, 1.2575e-01, 9.1309e-01, 2.2314e+00, 2.7652e+00, 1.0000e+00],\n",
      "        [1.9922e-01, 1.7069e+00, 1.4556e+00, 2.8672e+00, 9.6861e-01, 1.0000e+00],\n",
      "        [1.5800e+00, 1.1480e-01, 5.4661e-01, 1.2437e+00, 1.3102e+00, 1.0000e+00],\n",
      "        [2.3264e+00, 2.7639e+00, 1.7689e+00, 2.3803e+00, 2.8699e+00, 1.0000e+00],\n",
      "        [2.5107e+00, 2.5364e+00, 2.8883e+00, 9.7850e-01, 6.5246e-01, 1.0000e+00],\n",
      "        [1.4799e-03, 1.1656e+00, 2.7512e+00, 2.3877e+00, 2.1247e+00, 1.0000e+00],\n",
      "        [1.7224e+00, 1.8691e+00, 1.8407e+00, 1.1706e+00, 2.7444e+00, 1.0000e+00],\n",
      "        [1.1240e+00, 1.8312e+00, 1.1199e+00, 2.0186e+00, 2.6656e+00, 1.0000e+00],\n",
      "        [2.2166e+00, 1.3216e+00, 2.1943e+00, 1.7915e+00, 4.5079e-01, 1.0000e+00],\n",
      "        [1.6891e+00, 2.7075e+00, 2.2014e+00, 5.7290e-01, 1.0821e+00, 1.0000e+00],\n",
      "        [2.4456e-01, 1.9768e+00, 1.7879e+00, 7.7462e-02, 1.0145e+00, 1.0000e+00],\n",
      "        [1.6069e+00, 2.2776e+00, 6.9906e-01, 2.9194e+00, 2.4635e+00, 1.0000e+00],\n",
      "        [2.0675e+00, 5.9270e-01, 4.5986e-01, 2.3539e+00, 1.9606e+00, 1.0000e+00],\n",
      "        [1.5347e+00, 2.9477e+00, 1.9736e+00, 1.9263e+00, 1.8765e+00, 1.0000e+00],\n",
      "        [1.9510e+00, 4.5297e-01, 1.1450e+00, 1.2498e+00, 2.3232e+00, 1.0000e+00],\n",
      "        [1.3733e+00, 7.7238e-01, 1.5250e+00, 1.0630e+00, 2.9335e+00, 1.0000e+00],\n",
      "        [2.6407e+00, 3.4660e-01, 2.1953e+00, 1.0950e+00, 2.3728e+00, 1.0000e+00],\n",
      "        [2.6483e+00, 4.7349e-01, 1.3407e+00, 1.5866e+00, 1.7220e+00, 1.0000e+00],\n",
      "        [8.3921e-01, 1.0887e+00, 2.0260e+00, 8.2913e-01, 2.3550e+00, 1.0000e+00],\n",
      "        [8.5527e-01, 1.4275e-01, 1.9713e+00, 2.7941e+00, 2.9941e+00, 1.0000e+00],\n",
      "        [7.8421e-01, 1.0655e+00, 2.8525e+00, 2.6525e+00, 8.4611e-01, 1.0000e+00],\n",
      "        [1.6769e+00, 1.5892e+00, 1.2064e+00, 1.0887e-01, 6.1976e-01, 1.0000e+00],\n",
      "        [1.2102e+00, 5.9493e-01, 9.0377e-01, 1.2043e+00, 1.4528e+00, 1.0000e+00],\n",
      "        [2.2659e+00, 1.1219e+00, 2.9973e-01, 7.1424e-01, 8.1304e-01, 1.0000e+00],\n",
      "        [5.3694e-01, 1.8897e+00, 3.6001e-01, 9.7145e-01, 2.5285e-01, 1.0000e+00],\n",
      "        [8.0275e-01, 1.0154e+00, 2.2179e+00, 1.8410e+00, 2.7611e+00, 1.0000e+00],\n",
      "        [1.3869e+00, 2.3544e+00, 1.6736e+00, 2.2131e+00, 1.9660e+00, 1.0000e+00],\n",
      "        [1.1523e+00, 2.9404e-01, 6.6261e-01, 2.6023e+00, 1.8618e+00, 1.0000e+00],\n",
      "        [5.0062e-01, 3.6599e-02, 2.7008e+00, 2.4632e+00, 1.0260e+00, 1.0000e+00],\n",
      "        [2.7031e+00, 2.5823e+00, 8.1651e-01, 2.3708e-02, 1.5901e+00, 1.0000e+00],\n",
      "        [7.2440e-01, 1.7925e+00, 1.0907e+00, 1.3922e+00, 2.8885e+00, 1.0000e+00],\n",
      "        [2.5889e+00, 1.5687e+00, 1.2595e+00, 3.9236e-01, 2.3423e+00, 1.0000e+00],\n",
      "        [5.9518e-01, 1.4913e+00, 9.5298e-01, 7.3678e-01, 1.5113e+00, 1.0000e+00],\n",
      "        [2.3455e-01, 2.5704e+00, 2.7571e+00, 3.6704e-01, 2.8797e+00, 1.0000e+00],\n",
      "        [5.4168e-01, 9.5958e-01, 2.0712e+00, 2.4199e+00, 2.8881e+00, 1.0000e+00],\n",
      "        [9.0561e-01, 1.2511e+00, 5.9562e-01, 1.9656e-02, 1.9944e+00, 1.0000e+00],\n",
      "        [2.6232e+00, 1.3485e+00, 2.3257e+00, 1.1255e+00, 2.3785e+00, 1.0000e+00],\n",
      "        [2.4580e+00, 6.0705e-01, 6.0524e-01, 2.9745e+00, 1.3674e+00, 1.0000e+00],\n",
      "        [2.3027e+00, 2.8116e+00, 1.1106e-01, 1.7462e-01, 1.5586e+00, 1.0000e+00],\n",
      "        [2.5260e+00, 1.7956e+00, 1.4556e+00, 1.0243e+00, 2.9286e+00, 1.0000e+00],\n",
      "        [2.6615e+00, 1.5526e+00, 2.4367e-01, 2.1188e+00, 2.8461e+00, 1.0000e+00],\n",
      "        [2.5980e+00, 4.9608e-01, 1.3966e+00, 1.2458e+00, 2.1387e+00, 1.0000e+00],\n",
      "        [1.8435e+00, 1.9494e+00, 1.4865e-01, 2.6765e+00, 2.1067e-01, 1.0000e+00],\n",
      "        [2.7325e+00, 7.0206e-02, 1.2652e+00, 2.1662e+00, 1.3290e+00, 1.0000e+00],\n",
      "        [3.2076e-01, 1.9430e-02, 1.3884e+00, 2.0140e+00, 6.6447e-01, 1.0000e+00],\n",
      "        [1.7707e+00, 1.4620e-01, 2.6354e+00, 7.4466e-01, 2.8126e+00, 1.0000e+00],\n",
      "        [1.1099e+00, 4.5251e-01, 1.7716e+00, 2.2710e+00, 1.2096e+00, 1.0000e+00],\n",
      "        [2.5341e+00, 1.6510e+00, 1.4159e+00, 2.7051e+00, 9.7369e-01, 1.0000e+00],\n",
      "        [1.9388e+00, 4.8090e-01, 5.5759e-02, 6.0301e-01, 2.2740e+00, 1.0000e+00],\n",
      "        [1.6786e+00, 3.4804e-01, 5.7173e-01, 2.3067e+00, 4.5683e-01, 1.0000e+00],\n",
      "        [1.7835e+00, 1.2635e+00, 9.6761e-01, 6.1024e-01, 7.3255e-01, 1.0000e+00],\n",
      "        [1.6259e+00, 9.4117e-01, 8.7737e-01, 2.8549e+00, 4.5742e-01, 1.0000e+00],\n",
      "        [2.9726e+00, 2.4945e+00, 8.0483e-01, 1.3876e+00, 1.1474e+00, 1.0000e+00],\n",
      "        [6.7524e-01, 1.9940e+00, 1.5134e+00, 6.4185e-01, 2.0775e+00, 1.0000e+00],\n",
      "        [1.2910e+00, 2.6350e+00, 2.5383e+00, 2.6227e+00, 1.8079e+00, 1.0000e+00],\n",
      "        [2.0436e+00, 3.0367e-01, 1.7168e+00, 2.9225e+00, 1.2775e+00, 1.0000e+00],\n",
      "        [2.9817e+00, 9.6190e-01, 5.7945e-01, 1.6836e+00, 3.3916e-01, 1.0000e+00],\n",
      "        [1.8654e+00, 2.7972e+00, 1.0140e+00, 2.5209e+00, 2.1490e+00, 1.0000e+00],\n",
      "        [5.2776e-01, 7.6593e-01, 2.1458e+00, 2.7365e+00, 1.3080e+00, 1.0000e+00],\n",
      "        [2.9562e+00, 1.3421e+00, 1.8065e+00, 4.9768e-01, 1.0501e+00, 1.0000e+00],\n",
      "        [1.3414e-01, 2.0209e+00, 2.9772e+00, 9.5065e-01, 2.8751e+00, 1.0000e+00],\n",
      "        [2.2277e-01, 2.0879e+00, 2.2132e+00, 2.0463e+00, 1.3238e+00, 2.0000e+00]],\n",
      "       dtype=torch.float64)\n"
     ]
    }
   ],
   "source": [
    "print(train_X)"
   ]
  },
  {
   "cell_type": "code",
   "execution_count": 59,
   "metadata": {},
   "outputs": [
    {
     "name": "stdout",
     "output_type": "stream",
     "text": [
      "torch.Size([151, 6])\n"
     ]
    }
   ],
   "source": [
    "print(train_X.shape)"
   ]
  },
  {
   "cell_type": "code",
   "execution_count": 63,
   "metadata": {},
   "outputs": [
    {
     "name": "stdout",
     "output_type": "stream",
     "text": [
      "torch.Size([1, 5])\n"
     ]
    }
   ],
   "source": [
    "print(new_X.shape)"
   ]
  },
  {
   "cell_type": "code",
   "execution_count": 64,
   "metadata": {},
   "outputs": [
    {
     "name": "stdout",
     "output_type": "stream",
     "text": [
      "Updated train_X shape: torch.Size([152, 6])\n"
     ]
    }
   ],
   "source": [
    "task_feature = torch.tensor([[2.0]], dtype=torch.float64)  # Creating a tensor with value 2.0 and dtype float64\n",
    "new_X_with_task = torch.cat([new_X, task_feature], dim=-1)  # Concatenating along the last dimension\n",
    "\n",
    "# Concatenating new_X_with_task to train_X\n",
    "train_X = torch.cat([train_X, new_X_with_task], dim=0)  # Concatenating along the first dimension\n",
    "\n",
    "# Verify the shapes\n",
    "print(\"Updated train_X shape:\", train_X.shape)"
   ]
  },
  {
   "cell_type": "code",
   "execution_count": 65,
   "metadata": {},
   "outputs": [
    {
     "name": "stdout",
     "output_type": "stream",
     "text": [
      "tensor([[2.1095e+00, 4.7438e-01, 1.1849e+00, 1.1346e+00, 9.2231e-01, 0.0000e+00],\n",
      "        [1.9544e+00, 8.8923e-01, 2.9239e+00, 1.2207e+00, 2.3603e+00, 0.0000e+00],\n",
      "        [1.1821e+00, 1.4144e+00, 1.9060e+00, 1.4549e+00, 2.1148e+00, 0.0000e+00],\n",
      "        [2.4778e+00, 1.6518e+00, 2.9498e-01, 2.0014e+00, 1.8411e+00, 0.0000e+00],\n",
      "        [2.7775e+00, 1.4986e+00, 1.2764e+00, 2.2276e+00, 1.9990e+00, 0.0000e+00],\n",
      "        [6.7216e-01, 2.0316e+00, 7.6085e-01, 5.1144e-01, 1.7983e+00, 0.0000e+00],\n",
      "        [2.9586e-02, 2.6612e-01, 1.1861e+00, 7.8961e-01, 2.5484e+00, 0.0000e+00],\n",
      "        [7.9050e-01, 1.7441e+00, 2.8862e+00, 2.0452e+00, 3.4542e-01, 0.0000e+00],\n",
      "        [2.9570e+00, 4.5597e-01, 2.9142e+00, 1.1441e+00, 2.7106e+00, 0.0000e+00],\n",
      "        [2.1601e-01, 2.2784e+00, 2.1023e+00, 2.1226e+00, 1.6035e+00, 0.0000e+00],\n",
      "        [1.4925e+00, 2.3871e+00, 5.6532e-01, 1.6936e+00, 2.6634e+00, 0.0000e+00],\n",
      "        [2.9840e+00, 1.4505e+00, 1.1742e+00, 2.2280e+00, 6.9904e-01, 0.0000e+00],\n",
      "        [2.2886e+00, 8.7753e-01, 1.2161e+00, 4.8886e-01, 1.5046e+00, 0.0000e+00],\n",
      "        [1.6843e+00, 6.9007e-01, 7.9141e-01, 2.3125e+00, 2.0217e+00, 0.0000e+00],\n",
      "        [5.1184e-01, 2.2573e-01, 9.1774e-02, 2.3004e+00, 1.1208e+00, 0.0000e+00],\n",
      "        [1.9600e+00, 9.9001e-01, 1.7316e+00, 2.4745e+00, 6.8754e-01, 0.0000e+00],\n",
      "        [2.9388e+00, 1.4816e+00, 3.3935e-01, 2.2718e+00, 2.8387e+00, 0.0000e+00],\n",
      "        [8.8817e-01, 5.9732e-01, 3.4796e-01, 8.7895e-02, 1.7491e+00, 0.0000e+00],\n",
      "        [5.4953e-01, 2.9201e+00, 1.5113e+00, 8.4104e-01, 1.3392e+00, 0.0000e+00],\n",
      "        [1.5407e+00, 2.3158e+00, 2.2233e+00, 1.1216e+00, 2.5921e+00, 0.0000e+00],\n",
      "        [2.0046e+00, 1.2412e+00, 2.6696e+00, 2.0846e+00, 1.9934e+00, 0.0000e+00],\n",
      "        [1.0821e+00, 8.8893e-01, 2.1580e-01, 1.4219e+00, 2.6992e+00, 0.0000e+00],\n",
      "        [7.9075e-02, 1.5490e+00, 2.9323e-01, 2.0884e+00, 2.2668e-01, 0.0000e+00],\n",
      "        [6.8464e-01, 2.3550e+00, 2.4933e+00, 1.3518e-01, 1.0620e+00, 0.0000e+00],\n",
      "        [1.4140e-01, 2.4172e+00, 2.4231e+00, 1.4839e+00, 2.3298e+00, 0.0000e+00],\n",
      "        [6.7668e-01, 7.6215e-01, 1.2966e+00, 6.6012e-01, 7.5970e-01, 0.0000e+00],\n",
      "        [1.3927e+00, 1.0236e+00, 9.3459e-02, 5.0839e-01, 2.7074e-01, 0.0000e+00],\n",
      "        [1.4904e+00, 2.3760e+00, 1.8303e+00, 4.1294e-01, 1.6843e-01, 0.0000e+00],\n",
      "        [7.7866e-01, 2.0538e+00, 1.0149e+00, 6.3521e-01, 1.6430e+00, 0.0000e+00],\n",
      "        [2.9510e+00, 2.6702e+00, 7.5484e-01, 2.2540e+00, 2.2297e+00, 0.0000e+00],\n",
      "        [6.7048e-01, 2.1557e+00, 1.9471e+00, 6.0638e-01, 2.4355e+00, 0.0000e+00],\n",
      "        [2.4621e+00, 1.1999e+00, 2.1375e+00, 2.9831e+00, 1.1498e+00, 0.0000e+00],\n",
      "        [1.4482e+00, 4.7126e-01, 1.0248e+00, 1.4815e+00, 1.1080e+00, 0.0000e+00],\n",
      "        [6.7375e-01, 5.1623e-01, 1.3648e+00, 6.4599e-01, 3.7723e-01, 0.0000e+00],\n",
      "        [1.5195e+00, 1.0121e+00, 1.1112e+00, 6.7759e-01, 1.4099e+00, 0.0000e+00],\n",
      "        [2.2523e+00, 1.0457e+00, 2.5606e+00, 1.8573e+00, 1.8587e+00, 0.0000e+00],\n",
      "        [4.1105e-01, 1.5344e+00, 2.7060e+00, 2.7352e+00, 2.0126e+00, 0.0000e+00],\n",
      "        [1.4704e+00, 1.5549e+00, 2.6425e+00, 2.6170e+00, 2.7361e+00, 0.0000e+00],\n",
      "        [2.3730e+00, 1.8845e-01, 4.3406e-01, 2.5862e+00, 7.7442e-01, 0.0000e+00],\n",
      "        [1.3322e+00, 2.0385e+00, 3.3474e-04, 1.9608e+00, 1.0268e+00, 0.0000e+00],\n",
      "        [2.3399e+00, 2.3606e+00, 8.7402e-01, 1.3272e+00, 2.4534e+00, 0.0000e+00],\n",
      "        [4.0843e-01, 7.7788e-01, 1.3403e+00, 2.4814e-03, 2.1503e+00, 0.0000e+00],\n",
      "        [1.5974e+00, 2.5476e+00, 1.7845e+00, 2.5581e+00, 1.1577e+00, 0.0000e+00],\n",
      "        [2.3930e+00, 3.7347e-01, 1.6669e+00, 2.1516e+00, 1.3323e+00, 0.0000e+00],\n",
      "        [1.8997e+00, 1.0976e+00, 1.3622e+00, 7.5407e-01, 2.0034e+00, 0.0000e+00],\n",
      "        [2.6343e-01, 1.6843e+00, 2.3582e+00, 1.8659e+00, 5.1078e-01, 0.0000e+00],\n",
      "        [2.0311e-01, 1.8899e+00, 2.0633e+00, 6.5203e-01, 1.1316e+00, 0.0000e+00],\n",
      "        [1.3192e+00, 1.1821e+00, 3.3569e-01, 1.1726e+00, 7.2604e-01, 0.0000e+00],\n",
      "        [9.3907e-01, 4.8929e-01, 1.8089e+00, 1.5896e+00, 2.7438e+00, 0.0000e+00],\n",
      "        [1.1180e+00, 8.0039e-01, 1.1121e+00, 1.2126e+00, 2.0456e+00, 0.0000e+00],\n",
      "        [1.7371e+00, 2.1816e+00, 1.4036e+00, 2.1417e+00, 1.0930e+00, 1.0000e+00],\n",
      "        [7.2343e-01, 1.7432e+00, 2.4930e+00, 2.6765e+00, 1.6683e-01, 1.0000e+00],\n",
      "        [7.2778e-01, 9.3275e-01, 1.9012e+00, 1.8060e-02, 1.2720e+00, 1.0000e+00],\n",
      "        [2.5371e+00, 1.4752e+00, 8.0985e-01, 2.7472e+00, 2.2741e+00, 1.0000e+00],\n",
      "        [2.3149e+00, 1.7756e+00, 3.4527e-01, 2.4354e-01, 2.1119e+00, 1.0000e+00],\n",
      "        [2.0229e+00, 2.1903e+00, 2.7554e+00, 1.7451e+00, 2.2070e+00, 1.0000e+00],\n",
      "        [1.7497e+00, 1.3751e+00, 1.9027e-01, 2.8235e+00, 8.3824e-01, 1.0000e+00],\n",
      "        [2.2147e-01, 5.2363e-01, 1.2312e+00, 1.8664e+00, 1.1926e-01, 1.0000e+00],\n",
      "        [6.6818e-01, 1.0227e+00, 3.6907e-01, 9.5468e-01, 1.6347e+00, 1.0000e+00],\n",
      "        [2.9150e+00, 2.0728e+00, 1.1627e-01, 2.0893e+00, 1.8006e+00, 1.0000e+00],\n",
      "        [1.5446e+00, 1.2252e+00, 5.7008e-01, 1.7337e+00, 2.7282e+00, 1.0000e+00],\n",
      "        [2.6337e+00, 2.9522e+00, 2.6929e+00, 1.2091e-01, 6.5446e-01, 1.0000e+00],\n",
      "        [2.4618e-01, 1.5306e+00, 9.2099e-01, 1.0494e+00, 1.3195e-01, 1.0000e+00],\n",
      "        [5.0541e-01, 7.1441e-01, 2.1399e+00, 1.1461e+00, 1.9115e+00, 1.0000e+00],\n",
      "        [2.2830e+00, 2.6434e+00, 9.7919e-01, 2.7777e+00, 1.4599e+00, 1.0000e+00],\n",
      "        [2.0730e+00, 2.9947e+00, 2.4353e+00, 2.8934e+00, 1.2480e+00, 1.0000e+00],\n",
      "        [1.9241e+00, 1.1053e+00, 7.5941e-01, 1.4742e+00, 2.8364e+00, 1.0000e+00],\n",
      "        [1.2317e+00, 1.9205e+00, 7.6503e-01, 4.3472e-01, 1.8933e+00, 1.0000e+00],\n",
      "        [6.5522e-01, 2.5844e+00, 2.3094e+00, 1.2115e+00, 2.6259e+00, 1.0000e+00],\n",
      "        [1.6321e+00, 2.4340e+00, 1.0529e+00, 4.0903e-01, 1.0078e+00, 1.0000e+00],\n",
      "        [1.1687e+00, 2.8802e+00, 6.5431e-01, 2.4759e+00, 8.7257e-01, 1.0000e+00],\n",
      "        [2.4314e+00, 8.0831e-01, 5.6305e-01, 9.2399e-01, 9.6092e-01, 1.0000e+00],\n",
      "        [1.4884e+00, 1.6454e+00, 7.2084e-01, 6.6568e-01, 1.9992e+00, 1.0000e+00],\n",
      "        [2.5202e+00, 2.9421e+00, 2.5442e+00, 1.4537e+00, 2.9334e+00, 1.0000e+00],\n",
      "        [2.7165e+00, 1.1037e+00, 1.9406e-01, 2.7872e+00, 1.3867e+00, 1.0000e+00],\n",
      "        [2.4742e+00, 1.7420e+00, 2.3043e+00, 1.8954e+00, 2.1625e+00, 1.0000e+00],\n",
      "        [1.9920e-01, 1.6025e+00, 5.0787e-01, 1.4836e+00, 2.9079e+00, 1.0000e+00],\n",
      "        [2.7594e+00, 1.2526e+00, 1.3351e+00, 1.0908e+00, 2.9177e+00, 1.0000e+00],\n",
      "        [3.7702e-01, 1.0594e+00, 1.8422e+00, 2.7977e+00, 6.5636e-01, 1.0000e+00],\n",
      "        [9.8652e-01, 1.7806e+00, 6.0428e-01, 2.8535e-01, 4.7529e-01, 1.0000e+00],\n",
      "        [2.6991e+00, 3.5814e-01, 1.4579e+00, 4.7755e-01, 1.2927e+00, 1.0000e+00],\n",
      "        [9.4537e-01, 1.0528e+00, 8.8569e-01, 5.1367e-01, 1.2763e+00, 1.0000e+00],\n",
      "        [6.2218e-01, 1.0194e+00, 5.0725e-02, 5.2751e-01, 1.6326e+00, 1.0000e+00],\n",
      "        [1.6782e+00, 2.4933e+00, 8.9725e-01, 1.0262e+00, 2.7166e+00, 1.0000e+00],\n",
      "        [2.7913e+00, 2.4538e+00, 8.3240e-01, 2.1202e+00, 1.3464e+00, 1.0000e+00],\n",
      "        [1.1147e+00, 4.7743e-01, 1.6375e+00, 5.7504e-01, 2.3773e+00, 1.0000e+00],\n",
      "        [2.2530e-01, 2.3843e+00, 5.8252e-01, 1.3843e+00, 1.0363e+00, 1.0000e+00],\n",
      "        [2.5734e+00, 2.7322e+00, 1.1164e+00, 1.3684e+00, 2.1031e-01, 1.0000e+00],\n",
      "        [3.1096e-01, 3.6204e-01, 9.6047e-01, 2.6251e-02, 1.0320e+00, 1.0000e+00],\n",
      "        [8.9296e-01, 1.2575e-01, 9.1309e-01, 2.2314e+00, 2.7652e+00, 1.0000e+00],\n",
      "        [1.9922e-01, 1.7069e+00, 1.4556e+00, 2.8672e+00, 9.6861e-01, 1.0000e+00],\n",
      "        [1.5800e+00, 1.1480e-01, 5.4661e-01, 1.2437e+00, 1.3102e+00, 1.0000e+00],\n",
      "        [2.3264e+00, 2.7639e+00, 1.7689e+00, 2.3803e+00, 2.8699e+00, 1.0000e+00],\n",
      "        [2.5107e+00, 2.5364e+00, 2.8883e+00, 9.7850e-01, 6.5246e-01, 1.0000e+00],\n",
      "        [1.4799e-03, 1.1656e+00, 2.7512e+00, 2.3877e+00, 2.1247e+00, 1.0000e+00],\n",
      "        [1.7224e+00, 1.8691e+00, 1.8407e+00, 1.1706e+00, 2.7444e+00, 1.0000e+00],\n",
      "        [1.1240e+00, 1.8312e+00, 1.1199e+00, 2.0186e+00, 2.6656e+00, 1.0000e+00],\n",
      "        [2.2166e+00, 1.3216e+00, 2.1943e+00, 1.7915e+00, 4.5079e-01, 1.0000e+00],\n",
      "        [1.6891e+00, 2.7075e+00, 2.2014e+00, 5.7290e-01, 1.0821e+00, 1.0000e+00],\n",
      "        [2.4456e-01, 1.9768e+00, 1.7879e+00, 7.7462e-02, 1.0145e+00, 1.0000e+00],\n",
      "        [1.6069e+00, 2.2776e+00, 6.9906e-01, 2.9194e+00, 2.4635e+00, 1.0000e+00],\n",
      "        [2.0675e+00, 5.9270e-01, 4.5986e-01, 2.3539e+00, 1.9606e+00, 1.0000e+00],\n",
      "        [1.5347e+00, 2.9477e+00, 1.9736e+00, 1.9263e+00, 1.8765e+00, 1.0000e+00],\n",
      "        [1.9510e+00, 4.5297e-01, 1.1450e+00, 1.2498e+00, 2.3232e+00, 1.0000e+00],\n",
      "        [1.3733e+00, 7.7238e-01, 1.5250e+00, 1.0630e+00, 2.9335e+00, 1.0000e+00],\n",
      "        [2.6407e+00, 3.4660e-01, 2.1953e+00, 1.0950e+00, 2.3728e+00, 1.0000e+00],\n",
      "        [2.6483e+00, 4.7349e-01, 1.3407e+00, 1.5866e+00, 1.7220e+00, 1.0000e+00],\n",
      "        [8.3921e-01, 1.0887e+00, 2.0260e+00, 8.2913e-01, 2.3550e+00, 1.0000e+00],\n",
      "        [8.5527e-01, 1.4275e-01, 1.9713e+00, 2.7941e+00, 2.9941e+00, 1.0000e+00],\n",
      "        [7.8421e-01, 1.0655e+00, 2.8525e+00, 2.6525e+00, 8.4611e-01, 1.0000e+00],\n",
      "        [1.6769e+00, 1.5892e+00, 1.2064e+00, 1.0887e-01, 6.1976e-01, 1.0000e+00],\n",
      "        [1.2102e+00, 5.9493e-01, 9.0377e-01, 1.2043e+00, 1.4528e+00, 1.0000e+00],\n",
      "        [2.2659e+00, 1.1219e+00, 2.9973e-01, 7.1424e-01, 8.1304e-01, 1.0000e+00],\n",
      "        [5.3694e-01, 1.8897e+00, 3.6001e-01, 9.7145e-01, 2.5285e-01, 1.0000e+00],\n",
      "        [8.0275e-01, 1.0154e+00, 2.2179e+00, 1.8410e+00, 2.7611e+00, 1.0000e+00],\n",
      "        [1.3869e+00, 2.3544e+00, 1.6736e+00, 2.2131e+00, 1.9660e+00, 1.0000e+00],\n",
      "        [1.1523e+00, 2.9404e-01, 6.6261e-01, 2.6023e+00, 1.8618e+00, 1.0000e+00],\n",
      "        [5.0062e-01, 3.6599e-02, 2.7008e+00, 2.4632e+00, 1.0260e+00, 1.0000e+00],\n",
      "        [2.7031e+00, 2.5823e+00, 8.1651e-01, 2.3708e-02, 1.5901e+00, 1.0000e+00],\n",
      "        [7.2440e-01, 1.7925e+00, 1.0907e+00, 1.3922e+00, 2.8885e+00, 1.0000e+00],\n",
      "        [2.5889e+00, 1.5687e+00, 1.2595e+00, 3.9236e-01, 2.3423e+00, 1.0000e+00],\n",
      "        [5.9518e-01, 1.4913e+00, 9.5298e-01, 7.3678e-01, 1.5113e+00, 1.0000e+00],\n",
      "        [2.3455e-01, 2.5704e+00, 2.7571e+00, 3.6704e-01, 2.8797e+00, 1.0000e+00],\n",
      "        [5.4168e-01, 9.5958e-01, 2.0712e+00, 2.4199e+00, 2.8881e+00, 1.0000e+00],\n",
      "        [9.0561e-01, 1.2511e+00, 5.9562e-01, 1.9656e-02, 1.9944e+00, 1.0000e+00],\n",
      "        [2.6232e+00, 1.3485e+00, 2.3257e+00, 1.1255e+00, 2.3785e+00, 1.0000e+00],\n",
      "        [2.4580e+00, 6.0705e-01, 6.0524e-01, 2.9745e+00, 1.3674e+00, 1.0000e+00],\n",
      "        [2.3027e+00, 2.8116e+00, 1.1106e-01, 1.7462e-01, 1.5586e+00, 1.0000e+00],\n",
      "        [2.5260e+00, 1.7956e+00, 1.4556e+00, 1.0243e+00, 2.9286e+00, 1.0000e+00],\n",
      "        [2.6615e+00, 1.5526e+00, 2.4367e-01, 2.1188e+00, 2.8461e+00, 1.0000e+00],\n",
      "        [2.5980e+00, 4.9608e-01, 1.3966e+00, 1.2458e+00, 2.1387e+00, 1.0000e+00],\n",
      "        [1.8435e+00, 1.9494e+00, 1.4865e-01, 2.6765e+00, 2.1067e-01, 1.0000e+00],\n",
      "        [2.7325e+00, 7.0206e-02, 1.2652e+00, 2.1662e+00, 1.3290e+00, 1.0000e+00],\n",
      "        [3.2076e-01, 1.9430e-02, 1.3884e+00, 2.0140e+00, 6.6447e-01, 1.0000e+00],\n",
      "        [1.7707e+00, 1.4620e-01, 2.6354e+00, 7.4466e-01, 2.8126e+00, 1.0000e+00],\n",
      "        [1.1099e+00, 4.5251e-01, 1.7716e+00, 2.2710e+00, 1.2096e+00, 1.0000e+00],\n",
      "        [2.5341e+00, 1.6510e+00, 1.4159e+00, 2.7051e+00, 9.7369e-01, 1.0000e+00],\n",
      "        [1.9388e+00, 4.8090e-01, 5.5759e-02, 6.0301e-01, 2.2740e+00, 1.0000e+00],\n",
      "        [1.6786e+00, 3.4804e-01, 5.7173e-01, 2.3067e+00, 4.5683e-01, 1.0000e+00],\n",
      "        [1.7835e+00, 1.2635e+00, 9.6761e-01, 6.1024e-01, 7.3255e-01, 1.0000e+00],\n",
      "        [1.6259e+00, 9.4117e-01, 8.7737e-01, 2.8549e+00, 4.5742e-01, 1.0000e+00],\n",
      "        [2.9726e+00, 2.4945e+00, 8.0483e-01, 1.3876e+00, 1.1474e+00, 1.0000e+00],\n",
      "        [6.7524e-01, 1.9940e+00, 1.5134e+00, 6.4185e-01, 2.0775e+00, 1.0000e+00],\n",
      "        [1.2910e+00, 2.6350e+00, 2.5383e+00, 2.6227e+00, 1.8079e+00, 1.0000e+00],\n",
      "        [2.0436e+00, 3.0367e-01, 1.7168e+00, 2.9225e+00, 1.2775e+00, 1.0000e+00],\n",
      "        [2.9817e+00, 9.6190e-01, 5.7945e-01, 1.6836e+00, 3.3916e-01, 1.0000e+00],\n",
      "        [1.8654e+00, 2.7972e+00, 1.0140e+00, 2.5209e+00, 2.1490e+00, 1.0000e+00],\n",
      "        [5.2776e-01, 7.6593e-01, 2.1458e+00, 2.7365e+00, 1.3080e+00, 1.0000e+00],\n",
      "        [2.9562e+00, 1.3421e+00, 1.8065e+00, 4.9768e-01, 1.0501e+00, 1.0000e+00],\n",
      "        [1.3414e-01, 2.0209e+00, 2.9772e+00, 9.5065e-01, 2.8751e+00, 1.0000e+00],\n",
      "        [2.2277e-01, 2.0879e+00, 2.2132e+00, 2.0463e+00, 1.3238e+00, 2.0000e+00],\n",
      "        [2.0428e+00, 2.7625e+00, 3.0000e+00, 0.0000e+00, 6.1621e-01, 2.0000e+00]],\n",
      "       dtype=torch.float64)\n"
     ]
    }
   ],
   "source": [
    "print(train_X)"
   ]
  }
 ],
 "metadata": {
  "kernelspec": {
   "display_name": "TL_GP",
   "language": "python",
   "name": "python3"
  },
  "language_info": {
   "codemirror_mode": {
    "name": "ipython",
    "version": 3
   },
   "file_extension": ".py",
   "mimetype": "text/x-python",
   "name": "python",
   "nbconvert_exporter": "python",
   "pygments_lexer": "ipython3",
   "version": "3.10.14"
  }
 },
 "nbformat": 4,
 "nbformat_minor": 2
}
