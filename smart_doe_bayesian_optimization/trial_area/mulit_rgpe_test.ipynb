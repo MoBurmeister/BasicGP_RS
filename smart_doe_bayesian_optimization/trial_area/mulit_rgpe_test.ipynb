{
 "cells": [
  {
   "cell_type": "code",
   "execution_count": 1,
   "metadata": {},
   "outputs": [],
   "source": [
    "import numpy as np\n",
    "from itertools import combinations\n",
    "\n",
    "# Sample dataset (5 points, 3 objectives)\n",
    "true_values = np.array([\n",
    "    [3, 7, 2],  # Point A\n",
    "    [4, 5, 3],  # Point B\n",
    "    [2, 6, 4],  # Point C\n",
    "    [5, 4, 1],  # Point D\n",
    "    [6, 2, 5]   # Point E\n",
    "])\n",
    "\n",
    "# Predicted values by a historic model (5 points, 3 objectives)\n",
    "predicted_values = np.array([\n",
    "    [3.5, 6, 2.5],  # Prediction for A\n",
    "    [4.5, 5.5, 2],  # Prediction for B\n",
    "    [2.5, 6.5, 3.5],  # Prediction for C\n",
    "    [4.5, 3.5, 1.5],  # Prediction for D\n",
    "    [5.5, 2.5, 4.5]   # Prediction for E\n",
    "])\n"
   ]
  },
  {
   "cell_type": "code",
   "execution_count": 5,
   "metadata": {},
   "outputs": [
    {
     "name": "stdout",
     "output_type": "stream",
     "text": [
      "Dimension-Wise Loss: 3\n"
     ]
    }
   ],
   "source": [
    "def dimension_wise_loss(true_values, predicted_values):\n",
    "    n_points, n_dimensions = true_values.shape\n",
    "    total_loss = 0\n",
    "    \n",
    "    # Compare every pair of points\n",
    "    for i, j in combinations(range(n_points), 2):\n",
    "        for d in range(n_dimensions):\n",
    "            true_diff = true_values[i, d] - true_values[j, d]\n",
    "            pred_diff = predicted_values[i, d] - predicted_values[j, d]\n",
    "\n",
    "            \n",
    "            # If the true and predicted rankings are different, add to the loss\n",
    "            if (true_diff > 0 and pred_diff <= 0) or (true_diff < 0 and pred_diff >= 0):\n",
    "                total_loss += 1\n",
    "                \n",
    "    return total_loss\n",
    "\n",
    "dimension_wise_loss_value = dimension_wise_loss(true_values, predicted_values)\n",
    "print(f\"Dimension-Wise Loss: {dimension_wise_loss_value}\")"
   ]
  },
  {
   "cell_type": "code",
   "execution_count": 6,
   "metadata": {},
   "outputs": [
    {
     "name": "stdout",
     "output_type": "stream",
     "text": [
      "Pareto Dominance Loss: 1\n"
     ]
    }
   ],
   "source": [
    "\n",
    "def pareto_dominance(a, b):\n",
    "    \"\"\"Returns:\n",
    "    1 if a dominates b,\n",
    "    -1 if b dominates a,\n",
    "    0 if neither dominates the other.\"\"\"\n",
    "    a_dominates = np.all(a >= b) and np.any(a > b)\n",
    "    b_dominates = np.all(b >= a) and np.any(b > a)\n",
    "    \n",
    "    if a_dominates:\n",
    "        return 1\n",
    "    elif b_dominates:\n",
    "        return -1\n",
    "    else:\n",
    "        return 0\n",
    "\n",
    "def pareto_loss(true_values, predicted_values):\n",
    "    n_points = true_values.shape[0]\n",
    "    total_loss = 0\n",
    "    \n",
    "    # Compare every pair of points\n",
    "    for i, j in combinations(range(n_points), 2):\n",
    "        true_relation = pareto_dominance(true_values[i], true_values[j])\n",
    "        pred_relation = pareto_dominance(predicted_values[i], predicted_values[j])\n",
    "        \n",
    "        # If the Pareto dominance relationships do not match, add to the loss\n",
    "        if true_relation != pred_relation:\n",
    "            total_loss += 1\n",
    "            \n",
    "    return total_loss\n",
    "\n",
    "pareto_loss_value = pareto_loss(true_values, predicted_values)\n",
    "print(f\"Pareto Dominance Loss: {pareto_loss_value}\")"
   ]
  }
 ],
 "metadata": {
  "kernelspec": {
   "display_name": "TL_GP",
   "language": "python",
   "name": "python3"
  },
  "language_info": {
   "codemirror_mode": {
    "name": "ipython",
    "version": 3
   },
   "file_extension": ".py",
   "mimetype": "text/x-python",
   "name": "python",
   "nbconvert_exporter": "python",
   "pygments_lexer": "ipython3",
   "version": "3.10.14"
  }
 },
 "nbformat": 4,
 "nbformat_minor": 2
}
